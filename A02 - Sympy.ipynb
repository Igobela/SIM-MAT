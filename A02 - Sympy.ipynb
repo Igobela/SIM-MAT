{
 "cells": [
  {
   "cell_type": "markdown",
   "metadata": {},
   "source": [
    "# Ejercicios de optimización escalar"
   ]
  },
  {
   "cell_type": "markdown",
   "metadata": {},
   "source": [
    "**Para la siguientes funciones encuentre los puntos críticos, grafique y diga si éste se trata de un máximo o mínimo, local o global.**"
   ]
  },
  {
   "cell_type": "markdown",
   "metadata": {},
   "source": [
    "$f(x)=1260+117x-9x^2$"
   ]
  },
  {
   "cell_type": "code",
   "execution_count": 2,
   "metadata": {},
   "outputs": [],
   "source": [
    "import numpy as np\n",
    "import sympy as sp\n",
    "import pandas as pd\n",
    "import matplotlib.pyplot as plt\n",
    "%matplotlib inline\n",
    "\n",
    "sp.var(\"x\")\n",
    "def funcion(x):\n",
    "    return (1260 + 117*x -9*x**2)\n",
    "df = sp.diff(funcion(x),x)\n",
    "dff = sp.diff(df,x)"
   ]
  },
  {
   "cell_type": "code",
   "execution_count": 3,
   "metadata": {},
   "outputs": [
    {
     "data": {
      "text/latex": [
       "$\\displaystyle 117 - 18 x$"
      ],
      "text/plain": [
       "117 - 18*x"
      ]
     },
     "execution_count": 3,
     "metadata": {},
     "output_type": "execute_result"
    }
   ],
   "source": [
    "df"
   ]
  },
  {
   "cell_type": "code",
   "execution_count": 4,
   "metadata": {},
   "outputs": [
    {
     "data": {
      "text/latex": [
       "$\\displaystyle -18$"
      ],
      "text/plain": [
       "-18"
      ]
     },
     "execution_count": 4,
     "metadata": {},
     "output_type": "execute_result"
    }
   ],
   "source": [
    "dff"
   ]
  },
  {
   "cell_type": "code",
   "execution_count": 5,
   "metadata": {},
   "outputs": [
    {
     "data": {
      "text/plain": [
       "[13/2]"
      ]
     },
     "execution_count": 5,
     "metadata": {},
     "output_type": "execute_result"
    }
   ],
   "source": [
    "pc = sp.solve(df,x)\n",
    "pc"
   ]
  },
  {
   "cell_type": "code",
   "execution_count": 7,
   "metadata": {},
   "outputs": [
    {
     "data": {
      "text/plain": [
       "[<matplotlib.lines.Line2D at 0x2028f3cf5b0>]"
      ]
     },
     "execution_count": 7,
     "metadata": {},
     "output_type": "execute_result"
    },
    {
     "data": {
      "image/png": "[encoded data removed]",
      "text/plain": [
       "<Figure size 432x288 with 1 Axes>"
      ]
     },
     "metadata": {
      "needs_background": "light"
     },
     "output_type": "display_data"
    }
   ],
   "source": [
    "import numpy as np\n",
    "\n",
    "plt.figure()\n",
    "\n",
    "xn = np.linspace(start = -10, stop = 10, num = 100)\n",
    "yn = funcion(xn) #funcion evaluada con el vector (uno a uno)\n",
    "plt.plot(xn,yn)\n",
    "plt.grid()\n",
    "\n",
    "plt.plot(13/2,       \n",
    "         funcion(13/2),   \n",
    "         \"^g\",    \n",
    "         ms=10)"
   ]
  },
  {
   "cell_type": "code",
   "execution_count": 8,
   "metadata": {},
   "outputs": [
    {
     "name": "stdout",
     "output_type": "stream",
     "text": [
      "El punto critico en x = 13/2 es un maximo\n"
     ]
    }
   ],
   "source": [
    "for i in pc :\n",
    "    valor_1 = dff.subs(x,i)\n",
    "    if valor_1 > 0:\n",
    "        print(\"El punto critico en x = \" + str(i) + \" es un minimo\")\n",
    "    elif valor_1 < 0:\n",
    "        print(\"El punto critico en x = \" + str(i) + \" es un maximo\")\n",
    "    else:\n",
    "        print(\"No se sabe\")"
   ]
  },
  {
   "cell_type": "markdown",
   "metadata": {},
   "source": [
    "$f(x)=5+x+\\frac{4}{x}$, para $x>0$"
   ]
  },
  {
   "cell_type": "code",
   "execution_count": 14,
   "metadata": {},
   "outputs": [],
   "source": [
    "import numpy as np\n",
    "import sympy as sp\n",
    "import pandas as pd\n",
    "import matplotlib.pyplot as plt\n",
    "%matplotlib inline\n",
    "\n",
    "sp.var(\"x\")\n",
    "def funcion2(x):\n",
    "    return (5+x+(4/x))\n",
    "df2 = sp.diff(funcion2(x),x)\n",
    "dff2 = sp.diff(df2,x)"
   ]
  },
  {
   "cell_type": "code",
   "execution_count": 15,
   "metadata": {},
   "outputs": [
    {
     "data": {
      "text/latex": [
       "$\\displaystyle 1 - \\frac{4}{x^{2}}$"
      ],
      "text/plain": [
       "1 - 4/x**2"
      ]
     },
     "execution_count": 15,
     "metadata": {},
     "output_type": "execute_result"
    }
   ],
   "source": [
    "df2"
   ]
  },
  {
   "cell_type": "code",
   "execution_count": 16,
   "metadata": {},
   "outputs": [
    {
     "data": {
      "text/latex": [
       "$\\displaystyle \\frac{8}{x^{3}}$"
      ],
      "text/plain": [
       "8/x**3"
      ]
     },
     "execution_count": 16,
     "metadata": {},
     "output_type": "execute_result"
    }
   ],
   "source": [
    "dff2"
   ]
  },
  {
   "cell_type": "code",
   "execution_count": 19,
   "metadata": {
    "scrolled": true
   },
   "outputs": [
    {
     "data": {
      "text/plain": [
       "[-2, 2]"
      ]
     },
     "execution_count": 19,
     "metadata": {},
     "output_type": "execute_result"
    }
   ],
   "source": [
    "pc2 = sp.solve(df2,x)\n",
    "pc2"
   ]
  },
  {
   "cell_type": "code",
   "execution_count": 24,
   "metadata": {},
   "outputs": [
    {
     "name": "stderr",
     "output_type": "stream",
     "text": [
      "C:\\Users\\inigo\\AppData\\Local\\Temp\\ipykernel_10564\\715269598.py:9: RuntimeWarning: divide by zero encountered in true_divide\n",
      "  return (5+x+(4/x))\n"
     ]
    },
    {
     "data": {
      "text/plain": [
       "[<matplotlib.lines.Line2D at 0x2028f6e14c0>]"
      ]
     },
     "execution_count": 24,
     "metadata": {},
     "output_type": "execute_result"
    },
    {
     "data": {
      "image/png": "[encoded data removed]",
      "text/plain": [
       "<Figure size 432x288 with 1 Axes>"
      ]
     },
     "metadata": {
      "needs_background": "light"
     },
     "output_type": "display_data"
    }
   ],
   "source": [
    "import numpy as np\n",
    "\n",
    "plt.figure()\n",
    "\n",
    "xn2 = np.linspace(start = 0, stop = 10, num = 100)\n",
    "yn2 = funcion2(xn2)\n",
    "plt.plot(xn2,yn2)\n",
    "plt.grid()\n",
    "\n",
    "\n",
    "plt.plot(2,       \n",
    "         funcion2(2),   \n",
    "         \"^g\",    \n",
    "         ms=10)\n"
   ]
  },
  {
   "cell_type": "code",
   "execution_count": 26,
   "metadata": {},
   "outputs": [
    {
     "name": "stdout",
     "output_type": "stream",
     "text": [
      "El punto critico en x = -2 es un maximo\n",
      "El punto critico en x = 2 es un minimo\n"
     ]
    }
   ],
   "source": [
    "for i in pc2 :\n",
    "    valor_2 = dff2.subs(x,i)\n",
    "    if valor_2 > 0:\n",
    "        print(\"El punto critico en x = \" + str(i) + \" es un minimo\")\n",
    "    elif valor_2 < 0:\n",
    "        print(\"El punto critico en x = \" + str(i) + \" es un maximo\")\n",
    "    else:\n",
    "        print(\"No se sabe\")"
   ]
  },
  {
   "cell_type": "markdown",
   "metadata": {},
   "source": [
    "El punto  $ x = -2 $ no se toma en consideracion porque solo se evualúa cuando x es mayor a 0."
   ]
  },
  {
   "cell_type": "markdown",
   "metadata": {},
   "source": [
    "$f(x)=6-2x+\\sqrt{18-2x^2}$, para $-3\\leq x\\leq 3$"
   ]
  },
  {
   "cell_type": "code",
   "execution_count": 35,
   "metadata": {},
   "outputs": [
    {
     "name": "stdout",
     "output_type": "stream",
     "text": [
      "El punto critico en x = -2.44948974278318 es un maximo\n"
     ]
    },
    {
     "data": {
      "image/png": "[encoded data removed]",
      "text/plain": [
       "<Figure size 432x288 with 1 Axes>"
      ]
     },
     "metadata": {
      "needs_background": "light"
     },
     "output_type": "display_data"
    }
   ],
   "source": [
    "import numpy as np\n",
    "import sympy as sp\n",
    "import pandas as pd\n",
    "import matplotlib.pyplot as plt\n",
    "%matplotlib inline\n",
    "\n",
    "sp.var(\"x\")\n",
    "def funcion3(x):\n",
    "    return (6-2*x+(18-2*x**2)**(1/2))\n",
    "df3 = sp.diff(funcion3(x),x)\n",
    "dff3 = sp.diff(df3,x)\n",
    "pc3 = sp.solve(df3,x)\n",
    "\n",
    "\n",
    "plt.figure()\n",
    "\n",
    "xn3 = np.linspace(start = -3, stop = 3, num = 100)\n",
    "yn3 = funcion3(xn3)\n",
    "plt.plot(xn3,yn3)\n",
    "plt.grid()\n",
    "\n",
    "\n",
    "plt.plot(-2.4494897,       \n",
    "         funcion3(-2.4494897),   \n",
    "         \"^g\",    \n",
    "         ms=10)\n",
    "\n",
    "for i in pc3 :\n",
    "    valor_3 = dff3.subs(x,i)\n",
    "    if valor_3 > 0:\n",
    "        print(\"El punto critico en x = \" + str(i) + \" es un minimo\")\n",
    "    elif valor_3 < 0:\n",
    "        print(\"El punto critico en x = \" + str(i) + \" es un maximo\")\n",
    "    else:\n",
    "        print(\"No se sabe\")"
   ]
  },
  {
   "cell_type": "markdown",
   "metadata": {},
   "source": [
    "$f(x)=\\frac{1}{4}x^4+\\frac{1}{3}x^3-x^2$ en el intervalo $[-3,1.7]$"
   ]
  },
  {
   "cell_type": "code",
   "execution_count": 38,
   "metadata": {},
   "outputs": [],
   "source": [
    "import numpy as np\n",
    "import sympy as sp\n",
    "import pandas as pd\n",
    "import matplotlib.pyplot as plt\n",
    "%matplotlib inline\n",
    "\n",
    "sp.var(\"x\")\n",
    "def funcion4(x):\n",
    "    return ((1/4)*x**4+(1/3)*x**3-x**2)\n",
    "df4 = sp.diff(funcion4(x),x)\n",
    "dff4 = sp.diff(df4,x)\n",
    "pc4 = sp.solve(df4,x)\n"
   ]
  },
  {
   "cell_type": "code",
   "execution_count": 39,
   "metadata": {},
   "outputs": [
    {
     "data": {
      "text/plain": [
       "[-2.00000000000000, 0.0, 1.00000000000000]"
      ]
     },
     "execution_count": 39,
     "metadata": {},
     "output_type": "execute_result"
    }
   ],
   "source": [
    "pc4"
   ]
  },
  {
   "cell_type": "code",
   "execution_count": 43,
   "metadata": {},
   "outputs": [
    {
     "name": "stdout",
     "output_type": "stream",
     "text": [
      "El punto critico en x = -2.00000000000000 es un minimo\n",
      "El punto critico en x = 0.0 es un maximo\n",
      "El punto critico en x = 1.00000000000000 es un minimo\n"
     ]
    },
    {
     "data": {
      "image/png": "[encoded data removed]",
      "text/plain": [
       "<Figure size 432x288 with 1 Axes>"
      ]
     },
     "metadata": {
      "needs_background": "light"
     },
     "output_type": "display_data"
    }
   ],
   "source": [
    "plt.figure()\n",
    "\n",
    "xn4 = np.linspace(start = -3, stop = 1.7, num = 100)\n",
    "yn4 = funcion4(xn4)\n",
    "plt.plot(xn4,yn4)\n",
    "plt.grid()\n",
    "\n",
    "\n",
    "plt.plot(pc4[0],       \n",
    "         funcion4(pc4[0]),   \n",
    "         \"^g\",    \n",
    "         ms=10)\n",
    "plt.plot(pc4[1],       \n",
    "         funcion4(pc4[1]),   \n",
    "         \"^g\",    \n",
    "         ms=10)\n",
    "plt.plot(pc4[2],       \n",
    "         funcion4(pc4[2]),   \n",
    "         \"^g\",    \n",
    "         ms=10)\n",
    "\n",
    "for i in pc4 :\n",
    "    valor_4 = dff4.subs(x,i)\n",
    "    if valor_4 > 0:\n",
    "        print(\"El punto critico en x = \" + str(i) + \" es un minimo\")\n",
    "    elif valor_4 < 0:\n",
    "        print(\"El punto critico en x = \" + str(i) + \" es un maximo\")\n",
    "    else:\n",
    "        print(\"No se sabe\")"
   ]
  },
  {
   "cell_type": "markdown",
   "metadata": {},
   "source": [
    "---\n",
    "**Resuelva los siguientes problemas usando la librería `SymPy`. Use celdas en `Markdown` para explicar su procedimiento.**"
   ]
  },
  {
   "cell_type": "markdown",
   "metadata": {},
   "source": [
    "El perímetro de un triángulo isósceles es de $10 cm$. ¿Cuánto deben medir sus lados para que el volumen del cuerpo generado por la rotación del triángulo en torno a su base sea el mayor posible? (Volumen de un cono $= \\frac{1}{3}\\pi r^2 h$, donde $r$ es el radio de la base y $h$ la altura del cono)."
   ]
  },
  {
   "cell_type": "markdown",
   "metadata": {},
   "source": [
    "$r = x$"
   ]
  },
  {
   "cell_type": "markdown",
   "metadata": {},
   "source": [
    "$ A = \\frac{bh}{2} $, $ A = \\frac{2xh}{2} $, $ A = xh $"
   ]
  },
  {
   "cell_type": "markdown",
   "metadata": {},
   "source": [
    "$ h^2 = -y^2 - x^2 , h = \\sqrt{y^2 + x^2}$"
   ]
  },
  {
   "cell_type": "markdown",
   "metadata": {},
   "source": [
    "$P = 2x + 2y, 10 = 2x +2y$"
   ]
  },
  {
   "cell_type": "code",
   "execution_count": 150,
   "metadata": {},
   "outputs": [],
   "source": [
    "import numpy as np\n",
    "import sympy as sp\n",
    "import pandas as pd\n",
    "import matplotlib.pyplot as plt\n",
    "%matplotlib inline\n",
    "\n",
    "sp.var(\"x\")\n",
    "sp.var(\"y\")\n",
    "sp.var(\"h\")\n",
    "sp.var(\"v\")\n",
    "\n",
    "A = x*h\n",
    "H = (y**2 - x**2)**0.5\n",
    "P = 2*x +2*y - 10 \n",
    "V = (1/3)*np.pi*(x**2)*h"
   ]
  },
  {
   "cell_type": "code",
   "execution_count": 141,
   "metadata": {},
   "outputs": [
    {
     "data": {
      "text/latex": [
       "$\\displaystyle 5 - x$"
      ],
      "text/plain": [
       "5 - x"
      ]
     },
     "execution_count": 141,
     "metadata": {},
     "output_type": "execute_result"
    }
   ],
   "source": [
    "solucion_y1 = sp.solve(P,y)[0]\n",
    "solucion_y1"
   ]
  },
  {
   "cell_type": "code",
   "execution_count": 142,
   "metadata": {},
   "outputs": [
    {
     "data": {
      "text/latex": [
       "$\\displaystyle \\left(- x^{2} + \\left(5 - x\\right)^{2}\\right)^{0.5}$"
      ],
      "text/plain": [
       "(-x**2 + (5 - x)**2)**0.5"
      ]
     },
     "execution_count": 142,
     "metadata": {},
     "output_type": "execute_result"
    }
   ],
   "source": [
    "y_en_h = H.subs(y,solucion_y1)\n",
    "y_en_h"
   ]
  },
  {
   "cell_type": "code",
   "execution_count": 143,
   "metadata": {
    "scrolled": true
   },
   "outputs": [
    {
     "data": {
      "text/latex": [
       "$\\displaystyle x \\left(- x^{2} + \\left(5 - x\\right)^{2}\\right)^{0.5}$"
      ],
      "text/plain": [
       "x*(-x**2 + (5 - x)**2)**0.5"
      ]
     },
     "execution_count": 143,
     "metadata": {},
     "output_type": "execute_result"
    }
   ],
   "source": [
    "h_en_a = A.subs(h,y_en_h)\n",
    "h_en_a"
   ]
  },
  {
   "cell_type": "markdown",
   "metadata": {},
   "source": [
    "$ =  x\\sqrt{25-10x}$"
   ]
  },
  {
   "cell_type": "markdown",
   "metadata": {},
   "source": [
    "**Dominio:** $ [0,2.5]$"
   ]
  },
  {
   "cell_type": "code",
   "execution_count": 145,
   "metadata": {
    "scrolled": true
   },
   "outputs": [
    {
     "data": {
      "text/latex": [
       "$\\displaystyle - \\frac{5.0 x}{\\left(25 - 10 x\\right)^{0.5}} + \\left(25 - 10 x\\right)^{0.5}$"
      ],
      "text/plain": [
       "-5.0*x/(25 - 10*x)**0.5 + (25 - 10*x)**0.5"
      ]
     },
     "execution_count": 145,
     "metadata": {},
     "output_type": "execute_result"
    }
   ],
   "source": [
    "def funcion5(x):\n",
    "    return (x*(25-10*x)**(1/2))\n",
    "df5 = sp.diff(funcion5(x),x)\n",
    "dff5 = sp.diff(df5,x)\n",
    "pc5 = sp.solve(df5,x)\n",
    "df5"
   ]
  },
  {
   "cell_type": "code",
   "execution_count": 156,
   "metadata": {},
   "outputs": [
    {
     "data": {
      "text/latex": [
       "$\\displaystyle 1.66666666666667$"
      ],
      "text/plain": [
       "1.66666666666667"
      ]
     },
     "execution_count": 156,
     "metadata": {},
     "output_type": "execute_result"
    }
   ],
   "source": [
    "pc5[0]"
   ]
  },
  {
   "cell_type": "markdown",
   "metadata": {},
   "source": [
    "**Radio** = $1.6667$"
   ]
  },
  {
   "cell_type": "code",
   "execution_count": 149,
   "metadata": {
    "scrolled": false
   },
   "outputs": [
    {
     "data": {
      "text/plain": [
       "[<matplotlib.lines.Line2D at 0x20295f9c4f0>]"
      ]
     },
     "execution_count": 149,
     "metadata": {},
     "output_type": "execute_result"
    },
    {
     "data": {
      "image/png": "[encoded data removed]",
      "text/plain": [
       "<Figure size 432x288 with 1 Axes>"
      ]
     },
     "metadata": {
      "needs_background": "light"
     },
     "output_type": "display_data"
    }
   ],
   "source": [
    "plt.figure()\n",
    "\n",
    "xn5 = np.linspace(start = 0, stop = 2.5, num = 100)\n",
    "yn5 = funcion5(xn5)\n",
    "plt.plot(xn5,yn5)\n",
    "plt.grid()\n",
    "\n",
    "\n",
    "plt.plot(pc5[0],       \n",
    "         funcion5(pc5[0]),   \n",
    "         \"^g\",    \n",
    "         ms=10)"
   ]
  },
  {
   "cell_type": "code",
   "execution_count": 155,
   "metadata": {},
   "outputs": [
    {
     "data": {
      "text/latex": [
       "$\\displaystyle 3.33333333333333$"
      ],
      "text/plain": [
       "3.33333333333333"
      ]
     },
     "execution_count": 155,
     "metadata": {},
     "output_type": "execute_result"
    }
   ],
   "source": [
    "y_valor5 = solucion_y1.subs(x,pc5[0])\n",
    "y_valor5"
   ]
  },
  {
   "cell_type": "code",
   "execution_count": 157,
   "metadata": {},
   "outputs": [
    {
     "data": {
      "text/latex": [
       "$\\displaystyle 2.88675134594813$"
      ],
      "text/plain": [
       "2.88675134594813"
      ]
     },
     "execution_count": 157,
     "metadata": {},
     "output_type": "execute_result"
    }
   ],
   "source": [
    "hx_valor5 = H.subs(x, pc5[0])\n",
    "hy_valor5 = hx_valor5.subs(y,y_valor5)\n",
    "hy_valor5"
   ]
  },
  {
   "cell_type": "markdown",
   "metadata": {},
   "source": [
    "**SUBSTITUIMOS LOS VALORES DE H Y DE R EN EL VOLUMEN**"
   ]
  },
  {
   "cell_type": "code",
   "execution_count": 158,
   "metadata": {},
   "outputs": [
    {
     "data": {
      "text/latex": [
       "$\\displaystyle 8.39721927886212$"
      ],
      "text/plain": [
       "8.39721927886212"
      ]
     },
     "execution_count": 158,
     "metadata": {},
     "output_type": "execute_result"
    }
   ],
   "source": [
    "vx_valor5 = V.subs(x, pc5[0])\n",
    "vh_valor5 = vx_valor5.subs(h,hy_valor5)\n",
    "vh_valor5"
   ]
  },
  {
   "cell_type": "code",
   "execution_count": null,
   "metadata": {},
   "outputs": [],
   "source": []
  },
  {
   "cell_type": "markdown",
   "metadata": {},
   "source": [
    "Disponemos de una barra de aluminio de 6 metros para construir una portería de fútbol. Si queremos que el área de la portería sea máxima, ¿cuánto deben medir los postes y el travesaño?"
   ]
  },
  {
   "cell_type": "markdown",
   "metadata": {},
   "source": [
    "$ P = 2x + 2y $"
   ]
  },
  {
   "cell_type": "markdown",
   "metadata": {},
   "source": [
    "$ A = xy $"
   ]
  },
  {
   "cell_type": "code",
   "execution_count": 58,
   "metadata": {},
   "outputs": [
    {
     "data": {
      "text/latex": [
       "$\\displaystyle 2 x + 2 y - 10$"
      ],
      "text/plain": [
       "2*x + 2*y - 10"
      ]
     },
     "execution_count": 58,
     "metadata": {},
     "output_type": "execute_result"
    }
   ],
   "source": [
    "import numpy as np\n",
    "import sympy as sp\n",
    "import pandas as pd\n",
    "import matplotlib.pyplot as plt\n",
    "%matplotlib inline\n",
    "\n",
    "sp.var(\"x\")\n",
    "sp.var(\"y\")\n",
    "\n",
    "eqP = (2*x)+(y*2) - 10\n",
    "eqA = x*y\n",
    "eqP"
   ]
  },
  {
   "cell_type": "code",
   "execution_count": 59,
   "metadata": {},
   "outputs": [
    {
     "data": {
      "text/latex": [
       "$\\displaystyle x y$"
      ],
      "text/plain": [
       "x*y"
      ]
     },
     "execution_count": 59,
     "metadata": {},
     "output_type": "execute_result"
    }
   ],
   "source": [
    "eqA"
   ]
  },
  {
   "cell_type": "code",
   "execution_count": 60,
   "metadata": {},
   "outputs": [
    {
     "data": {
      "text/latex": [
       "$\\displaystyle 5 - x$"
      ],
      "text/plain": [
       "5 - x"
      ]
     },
     "execution_count": 60,
     "metadata": {},
     "output_type": "execute_result"
    }
   ],
   "source": [
    "solucion_y = sp.solve(eqP,y)[0]\n",
    "solucion_y"
   ]
  },
  {
   "cell_type": "code",
   "execution_count": 61,
   "metadata": {},
   "outputs": [
    {
     "data": {
      "text/latex": [
       "$\\displaystyle x \\left(5 - x\\right)$"
      ],
      "text/plain": [
       "x*(5 - x)"
      ]
     },
     "execution_count": 61,
     "metadata": {},
     "output_type": "execute_result"
    }
   ],
   "source": [
    "eqP_en_eqA = eqA.subs(y, solucion_y)\n",
    "eqP_en_eqA"
   ]
  },
  {
   "cell_type": "code",
   "execution_count": 87,
   "metadata": {},
   "outputs": [],
   "source": [
    "def funcion6(x):\n",
    "    return (5*x-x**2) #preguntar como juntar ecuaciones y porque no funciono ponerlo como eqP_en_eqA\n",
    "df6 = sp.diff(funcion6(x),x)\n",
    "dff6 = sp.diff(df6,x)\n",
    "pc6 = sp.solve(df6,x)"
   ]
  },
  {
   "cell_type": "code",
   "execution_count": 88,
   "metadata": {},
   "outputs": [
    {
     "data": {
      "text/plain": [
       "[5/2]"
      ]
     },
     "execution_count": 88,
     "metadata": {},
     "output_type": "execute_result"
    }
   ],
   "source": [
    "pc6"
   ]
  },
  {
   "cell_type": "code",
   "execution_count": 89,
   "metadata": {},
   "outputs": [
    {
     "data": {
      "text/plain": [
       "[<matplotlib.lines.Line2D at 0x20295149790>]"
      ]
     },
     "execution_count": 89,
     "metadata": {},
     "output_type": "execute_result"
    },
    {
     "data": {
      "image/png": "[encoded data removed]",
      "text/plain": [
       "<Figure size 432x288 with 1 Axes>"
      ]
     },
     "metadata": {
      "needs_background": "light"
     },
     "output_type": "display_data"
    }
   ],
   "source": [
    "plt.figure()\n",
    "\n",
    "xn6 = np.linspace(start = -10, stop = 10, num = 100)\n",
    "yn6 = funcion6(xn6)\n",
    "plt.plot(xn6,yn6)\n",
    "plt.grid()\n",
    "\n",
    "\n",
    "plt.plot(pc6[0],       \n",
    "         funcion6(pc6[0]),   \n",
    "         \"^g\",    \n",
    "         ms=10)"
   ]
  },
  {
   "cell_type": "code",
   "execution_count": 90,
   "metadata": {},
   "outputs": [
    {
     "name": "stdout",
     "output_type": "stream",
     "text": [
      "El punto critico en x = 5/2 es un maximo\n"
     ]
    }
   ],
   "source": [
    "for i in pc6 :\n",
    "    valor_6 = dff6.subs(x,i)\n",
    "    if valor_6 > 0:\n",
    "        print(\"El punto critico en x = \" + str(i) + \" es un minimo\")\n",
    "    elif valor_6 < 0:\n",
    "        print(\"El punto critico en x = \" + str(i) + \" es un maximo\")\n",
    "    else:\n",
    "        print(\"No se sabe\")"
   ]
  },
  {
   "cell_type": "code",
   "execution_count": 94,
   "metadata": {},
   "outputs": [
    {
     "data": {
      "text/latex": [
       "$\\displaystyle \\frac{5}{2}$"
      ],
      "text/plain": [
       "5/2"
      ]
     },
     "execution_count": 94,
     "metadata": {},
     "output_type": "execute_result"
    }
   ],
   "source": [
    "pc6[0].subs(x,solucion_y)"
   ]
  },
  {
   "cell_type": "markdown",
   "metadata": {},
   "source": [
    "**Respuesta:** La medida de los postes como la del travesaño debería de ser de $ 5/2 $ para maximizar el area."
   ]
  },
  {
   "cell_type": "code",
   "execution_count": null,
   "metadata": {},
   "outputs": [],
   "source": []
  }
 ],
 "metadata": {
  "kernelspec": {
   "display_name": "Python 3 (ipykernel)",
   "language": "python",
   "name": "python3"
  },
  "language_info": {
   "codemirror_mode": {
    "name": "ipython",
    "version": 3
   },
   "file_extension": ".py",
   "mimetype": "text/x-python",
   "name": "python",
   "nbconvert_exporter": "python",
   "pygments_lexer": "ipython3",
   "version": "3.9.12"
  }
 },
 "nbformat": 4,
 "nbformat_minor": 2
}
