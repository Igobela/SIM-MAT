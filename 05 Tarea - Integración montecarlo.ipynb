{
 "cells": [
  {
   "cell_type": "markdown",
   "metadata": {},
   "source": [
    "# TAREA"
   ]
  },
  {
   "cell_type": "markdown",
   "metadata": {},
   "source": [
    "## Integración Montecarlo"
   ]
  },
  {
   "cell_type": "markdown",
   "metadata": {},
   "source": [
    "1. Realizar las siguientes integrales. Poner los resultados en una tabla cuyas filas correspondan a la cantidad de términos utilizados en la aproximación (usar 10, 100, 1000, 10000 y 100000 términos) y cuyas columnas correspondan a las funciones.\n",
    "    + $\\int_{1}^{3} e^{x}\\log(x)\\text{d}x$.\n",
    "    + $\\int_1^3 \\sin(x)\\ln(x) \\text{d}x$"
   ]
  },
  {
   "cell_type": "markdown",
   "metadata": {},
   "source": [
    "#### 1)"
   ]
  },
  {
   "cell_type": "code",
   "execution_count": 1,
   "metadata": {},
   "outputs": [],
   "source": [
    "import numpy as np\n",
    "import pandas as pd\n",
    "import matplotlib.pyplot as plt\n",
    "%matplotlib inline"
   ]
  },
  {
   "cell_type": "code",
   "execution_count": 2,
   "metadata": {},
   "outputs": [
    {
     "data": {
      "text/html": [
       "<div>\n",
       "<style scoped>\n",
       "    .dataframe tbody tr th:only-of-type {\n",
       "        vertical-align: middle;\n",
       "    }\n",
       "\n",
       "    .dataframe tbody tr th {\n",
       "        vertical-align: top;\n",
       "    }\n",
       "\n",
       "    .dataframe thead th {\n",
       "        text-align: right;\n",
       "    }\n",
       "</style>\n",
       "<table border=\"1\" class=\"dataframe\">\n",
       "  <thead>\n",
       "    <tr style=\"text-align: right;\">\n",
       "      <th></th>\n",
       "      <th>Aproximacion</th>\n",
       "      <th>Error</th>\n",
       "    </tr>\n",
       "  </thead>\n",
       "  <tbody>\n",
       "    <tr>\n",
       "      <th>10.0</th>\n",
       "      <td>16.348849</td>\n",
       "      <td>2.321349</td>\n",
       "    </tr>\n",
       "    <tr>\n",
       "      <th>100.0</th>\n",
       "      <td>16.198696</td>\n",
       "      <td>2.171196</td>\n",
       "    </tr>\n",
       "    <tr>\n",
       "      <th>1000.0</th>\n",
       "      <td>14.706918</td>\n",
       "      <td>0.679418</td>\n",
       "    </tr>\n",
       "    <tr>\n",
       "      <th>10000.0</th>\n",
       "      <td>14.142211</td>\n",
       "      <td>0.114711</td>\n",
       "    </tr>\n",
       "    <tr>\n",
       "      <th>100000.0</th>\n",
       "      <td>14.023538</td>\n",
       "      <td>0.003962</td>\n",
       "    </tr>\n",
       "    <tr>\n",
       "      <th>1000000.0</th>\n",
       "      <td>14.031587</td>\n",
       "      <td>0.004087</td>\n",
       "    </tr>\n",
       "    <tr>\n",
       "      <th>10000000.0</th>\n",
       "      <td>14.0289</td>\n",
       "      <td>0.0014</td>\n",
       "    </tr>\n",
       "  </tbody>\n",
       "</table>\n",
       "</div>"
      ],
      "text/plain": [
       "           Aproximacion     Error\n",
       "10.0          16.348849  2.321349\n",
       "100.0         16.198696  2.171196\n",
       "1000.0        14.706918  0.679418\n",
       "10000.0       14.142211  0.114711\n",
       "100000.0      14.023538  0.003962\n",
       "1000000.0     14.031587  0.004087\n",
       "10000000.0      14.0289    0.0014"
      ]
     },
     "execution_count": 2,
     "metadata": {},
     "output_type": "execute_result"
    }
   ],
   "source": [
    "def f(x) :\n",
    "    return np.exp(x)*np.log(x)\n",
    "\n",
    "N = np.logspace(1,7,7)\n",
    "\n",
    "def montecarlo(f,N,a,b):\n",
    "    u = np.random.uniform(a,b,N)\n",
    "    return np.mean(f(u))*(b-a)\n",
    "\n",
    "table = pd.DataFrame(columns=[\"Aproximacion\",\"Error\"], index=N)\n",
    "\n",
    "for i in N: \n",
    "    table.loc[i, \"Aproximacion\"]= montecarlo(f, int(i), 1, 3)\n",
    "    \n",
    "table[\"Error\"] = np.abs(14.0275 - table[\"Aproximacion\"])\n",
    "table\n"
   ]
  },
  {
   "cell_type": "markdown",
   "metadata": {},
   "source": [
    "#### 2)"
   ]
  },
  {
   "cell_type": "code",
   "execution_count": 3,
   "metadata": {
    "scrolled": true
   },
   "outputs": [
    {
     "data": {
      "text/html": [
       "<div>\n",
       "<style scoped>\n",
       "    .dataframe tbody tr th:only-of-type {\n",
       "        vertical-align: middle;\n",
       "    }\n",
       "\n",
       "    .dataframe tbody tr th {\n",
       "        vertical-align: top;\n",
       "    }\n",
       "\n",
       "    .dataframe thead th {\n",
       "        text-align: right;\n",
       "    }\n",
       "</style>\n",
       "<table border=\"1\" class=\"dataframe\">\n",
       "  <thead>\n",
       "    <tr style=\"text-align: right;\">\n",
       "      <th></th>\n",
       "      <th>Aproximacion2</th>\n",
       "      <th>Error2</th>\n",
       "    </tr>\n",
       "  </thead>\n",
       "  <tbody>\n",
       "    <tr>\n",
       "      <th>10.0</th>\n",
       "      <td>1.00563</td>\n",
       "      <td>0.13579</td>\n",
       "    </tr>\n",
       "    <tr>\n",
       "      <th>100.0</th>\n",
       "      <td>0.92171</td>\n",
       "      <td>0.05187</td>\n",
       "    </tr>\n",
       "    <tr>\n",
       "      <th>1000.0</th>\n",
       "      <td>0.854356</td>\n",
       "      <td>0.015484</td>\n",
       "    </tr>\n",
       "    <tr>\n",
       "      <th>10000.0</th>\n",
       "      <td>0.868128</td>\n",
       "      <td>0.001712</td>\n",
       "    </tr>\n",
       "    <tr>\n",
       "      <th>100000.0</th>\n",
       "      <td>0.871231</td>\n",
       "      <td>0.001391</td>\n",
       "    </tr>\n",
       "    <tr>\n",
       "      <th>1000000.0</th>\n",
       "      <td>0.869942</td>\n",
       "      <td>0.000102</td>\n",
       "    </tr>\n",
       "    <tr>\n",
       "      <th>10000000.0</th>\n",
       "      <td>0.869927</td>\n",
       "      <td>0.000087</td>\n",
       "    </tr>\n",
       "  </tbody>\n",
       "</table>\n",
       "</div>"
      ],
      "text/plain": [
       "           Aproximacion2    Error2\n",
       "10.0             1.00563   0.13579\n",
       "100.0            0.92171   0.05187\n",
       "1000.0          0.854356  0.015484\n",
       "10000.0         0.868128  0.001712\n",
       "100000.0        0.871231  0.001391\n",
       "1000000.0       0.869942  0.000102\n",
       "10000000.0      0.869927  0.000087"
      ]
     },
     "execution_count": 3,
     "metadata": {},
     "output_type": "execute_result"
    }
   ],
   "source": [
    "def fsin(x) :\n",
    "    return np.sin(x)*np.log(x)\n",
    "\n",
    "N = np.logspace(1,7,7)\n",
    "\n",
    "def montecarlo(f,N,a,b):\n",
    "    u = np.random.uniform(a,b,N)\n",
    "    return np.mean(f(u))*(b-a)\n",
    "\n",
    "table2 = pd.DataFrame(columns=[\"Aproximacion2\",\"Error2\"], index=N)\n",
    "\n",
    "for i in N: \n",
    "    table2.loc[i, \"Aproximacion2\"]= montecarlo(fsin, int(i), 1, 3)\n",
    "    \n",
    "table2[\"Error2\"] = np.abs(0.86984 - table2[\"Aproximacion2\"])\n",
    "table2"
   ]
  },
  {
   "cell_type": "markdown",
   "metadata": {},
   "source": [
    "### 2. Aproximar el área de la región descrita por\n",
    "\n",
    "$$x^2+2y^2\\leq-2x+8y-7$$\n",
    "\n",
    "Poner los resultados en una tabla cuyas filas correspondan a la cantidad de términos utilizados en la aproximación (usar 10, 100, 1000, 10000 y 100000 términos) y en las columnas el valor de aproximación y el error relativo.\n",
    "\n",
    "Definir unos límites adecuados $a_1$, $b_1$, $a_2$ y $b_2$, para la región $R=\\left[a_1,b_1\\right]\\times\\left[a_2,b_2\\right]$"
   ]
  },
  {
   "cell_type": "code",
   "execution_count": 15,
   "metadata": {},
   "outputs": [],
   "source": [
    "def montecarlo2(region,ax,bx,ay,by,N):\n",
    "    x = np.random.uniform(ax,bx,int(N))\n",
    "    y = np.random.uniform(ay,by,int(N))\n",
    "    B = region(x,y)\n",
    "    AR = (bx-ax)*(by-ay)\n",
    "    return np.mean(B)*AR\n",
    "\n",
    "def bernoulli(x,y):\n",
    "    return ((x**2+2*y**2) <= (-2*x+8*y-7))"
   ]
  },
  {
   "cell_type": "code",
   "execution_count": 16,
   "metadata": {},
   "outputs": [
    {
     "data": {
      "text/plain": [
       "<matplotlib.collections.PathCollection at 0x2f58031abb0>"
      ]
     },
     "execution_count": 16,
     "metadata": {},
     "output_type": "execute_result"
    },
    {
     "data": {
      "image/png": "[encoded data removed]",
      "text/plain": [
       "<Figure size 432x288 with 1 Axes>"
      ]
     },
     "metadata": {
      "needs_background": "light"
     },
     "output_type": "display_data"
    }
   ],
   "source": [
    "n = 100\n",
    "x = np.random.uniform(-3,1,n)\n",
    "y = np.random.uniform(0,4,n)\n",
    "X, Y = np.meshgrid(x,y)\n",
    "\n",
    "plt.figure()\n",
    "plt.scatter(X, Y, c= bernoulli(X,Y))"
   ]
  },
  {
   "cell_type": "code",
   "execution_count": 27,
   "metadata": {
    "scrolled": false
   },
   "outputs": [
    {
     "data": {
      "text/html": [
       "<div>\n",
       "<style scoped>\n",
       "    .dataframe tbody tr th:only-of-type {\n",
       "        vertical-align: middle;\n",
       "    }\n",
       "\n",
       "    .dataframe tbody tr th {\n",
       "        vertical-align: top;\n",
       "    }\n",
       "\n",
       "    .dataframe thead th {\n",
       "        text-align: right;\n",
       "    }\n",
       "</style>\n",
       "<table border=\"1\" class=\"dataframe\">\n",
       "  <thead>\n",
       "    <tr style=\"text-align: right;\">\n",
       "      <th></th>\n",
       "      <th>Aproximacion3</th>\n",
       "      <th>Error3</th>\n",
       "    </tr>\n",
       "  </thead>\n",
       "  <tbody>\n",
       "    <tr>\n",
       "      <th>10.0</th>\n",
       "      <td>3.2</td>\n",
       "      <td>NaN</td>\n",
       "    </tr>\n",
       "    <tr>\n",
       "      <th>100.0</th>\n",
       "      <td>3.84</td>\n",
       "      <td>NaN</td>\n",
       "    </tr>\n",
       "    <tr>\n",
       "      <th>1000.0</th>\n",
       "      <td>4.56</td>\n",
       "      <td>NaN</td>\n",
       "    </tr>\n",
       "    <tr>\n",
       "      <th>10000.0</th>\n",
       "      <td>4.4208</td>\n",
       "      <td>NaN</td>\n",
       "    </tr>\n",
       "    <tr>\n",
       "      <th>100000.0</th>\n",
       "      <td>4.46864</td>\n",
       "      <td>NaN</td>\n",
       "    </tr>\n",
       "    <tr>\n",
       "      <th>1000000.0</th>\n",
       "      <td>4.44776</td>\n",
       "      <td>NaN</td>\n",
       "    </tr>\n",
       "    <tr>\n",
       "      <th>10000000.0</th>\n",
       "      <td>4.441434</td>\n",
       "      <td>NaN</td>\n",
       "    </tr>\n",
       "  </tbody>\n",
       "</table>\n",
       "</div>"
      ],
      "text/plain": [
       "           Aproximacion3 Error3\n",
       "10.0                 3.2    NaN\n",
       "100.0               3.84    NaN\n",
       "1000.0              4.56    NaN\n",
       "10000.0           4.4208    NaN\n",
       "100000.0         4.46864    NaN\n",
       "1000000.0        4.44776    NaN\n",
       "10000000.0      4.441434    NaN"
      ]
     },
     "execution_count": 27,
     "metadata": {},
     "output_type": "execute_result"
    }
   ],
   "source": [
    "N = np.logspace(1,7,7)\n",
    "\n",
    "ax = -3\n",
    "bx = 1\n",
    "ay = 0\n",
    "by = 4\n",
    "\n",
    "table3 = pd.DataFrame(columns=[\"Aproximacion3\",\"Error3\"], index=N)\n",
    "\n",
    "for i in N: \n",
    "    table3.loc[i, \"Aproximacion3\"]= montecarlo2(bernoulli, ax, bx, ay, by, i)\n",
    "\n",
    "table3\n",
    "\n",
    "#preguntar error.\n"
   ]
  },
  {
   "cell_type": "markdown",
   "metadata": {},
   "source": [
    "### 3. Describe 3 casos de uso de integración Montecarlo en tu ingeniería."
   ]
  },
  {
   "cell_type": "markdown",
   "metadata": {},
   "source": [
    "#### 1. Rentabilidad de proyectos:\n",
    "Se puede calcular a base de simulaciones la \"Tasa Interna de Rendimiento\" o \"TIR' dando a conocer la utilidad del proyecto haciendo conocer si vale la pena invertir o no.\n",
    "\n",
    "**Liga:** https://blog.selfbank.es/el-metodo-montecarlo-en-finanzas/"
   ]
  },
  {
   "cell_type": "markdown",
   "metadata": {},
   "source": [
    "#### 2. Riesgos:\n",
    "Al igual, se puede calcular el riesgo que se llega a correr en una posición financiera ya que se simulan múltiples escenarios con un modelo de variación lo cual determina la probabilidad de que suceda un evento.\n",
    "\n",
    "**Liga:** https://blog.selfbank.es/el-metodo-montecarlo-en-finanzas/"
   ]
  },
  {
   "cell_type": "markdown",
   "metadata": {},
   "source": [
    "#### 3. Determinación de precios futuros:\n",
    "Al tener el comportamiento de un activo financiero se puede simular su desempeño financiero determinando su valor y probabilidad de éxito.\n",
    "\n",
    "**Liga:** https://exituscapital.com/simulacion-de-montecarlo-en-finanzas/"
   ]
  }
 ],
 "metadata": {
  "kernelspec": {
   "display_name": "Python 3 (ipykernel)",
   "language": "python",
   "name": "python3"
  },
  "language_info": {
   "codemirror_mode": {
    "name": "ipython",
    "version": 3
   },
   "file_extension": ".py",
   "mimetype": "text/x-python",
   "name": "python",
   "nbconvert_exporter": "python",
   "pygments_lexer": "ipython3",
   "version": "3.9.12"
  }
 },
 "nbformat": 4,
 "nbformat_minor": 2
}
