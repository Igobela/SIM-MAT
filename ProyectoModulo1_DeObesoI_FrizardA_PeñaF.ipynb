{
 "cells": [
  {
   "cell_type": "markdown",
   "metadata": {},
   "source": [
    "<img style=\"float: right; margin: 0px 0px 15px 15px;\" src=\"https://upload.wikimedia.org/wikipedia/commons/b/b6/Proyecto_en_construccion.jpg\" width=\"300px\" height=\"100px\" />\n",
    "\n",
    "\n",
    "# Guía para presentación de proyectos.\n",
    "> Se especifican los componentes básicos que deberá tener cada proyecto. El proyecto debe ser un problema que se pueda modelar con las herramientas vistas en el módulo. En el caso del primer módulo, optimización."
   ]
  },
  {
   "cell_type": "markdown",
   "metadata": {},
   "source": [
    "## 1. PROYECTO MÓDULO 1\n",
    "\n",
    " 1. Elegir integrantes para proyecto (3). \n",
    " 2. Deben elegir un tema para proyecto que se pueda resolver como un problema de optimización (de preferencia relacionado con su carrera). \n",
    "\n",
    "\n",
    "## 1.1 Ideas de proyectos:\n",
    "1. Programación lineal: (con base en el libro Model building in mathematical programming de H. Paul Williams)\n",
    " + Planeación de mano de obra.\n",
    " + Planeación de producción.\n",
    " + Arbitraje usando programación lineal (Financiera) http://www.meiss.com/columbia/en/teaching/1999/fall/B6015/download/lecture05/lec5.pdf\n",
    " + Planta de tratamiento de aguas residuales de bajo costo (Ingeniería civil) Numerical Methods for Engineers pg 421\n",
    " + Problema de descubrir datos ocultos\n",
    " + Optimizar diseño de divisor de voltaje\n",
    "\n",
    "\n",
    "2. Ajuste de curvas (con base en los datos en https://data.worldbank.org/indicator)\n",
    " + Histórico de temperaturas hasta 2016: ajuste de curvas y predicción de temperaturas de 2017 (comparación con datos reales).\n",
    " + Por ejemplo, CO2 emissions (kt), Forest area (sq. km), están relacionados con cambio climático. En las emisiones de CO2 parece que en los últimos años la curva tiene tendencia de concavidad hacia abajo, lo que indicaría que las políticas que se estén ejecutando si están teniendo un impacto.\n",
    " + Otro ejemplo puede ser Access to electricity (% of population). Se ve que está en constante crecimiento. Se podría estimar cuándo se llegará al 95%."
   ]
  },
  {
   "cell_type": "markdown",
   "metadata": {},
   "source": [
    "___\n",
    "## 2. Entregable.\n",
    "Los trabajos deben tener los siguientes componentes básicos.\n",
    "\n",
    "### 2.1 Título del trabajo.\n",
    "> Debe describir el trabajo.\n",
    "\n",
    "### 2.2 Objetivos.\n",
    "> - Se refieren a los propósitos por los cuales se hace el trabajo.\n",
    "> - Deben ser concretos, evaluables y verificables.\n",
    "> - Deben ser escritos en infinitivo.\n",
    "> #### 1.1 Objetivo general.\n",
    ">  - Fin último de estudio. Se formula atendiendo el propósito global del trabajo. No presenta detalles.\n",
    ">  - Se orienta a la totalidad del trabajo. Tiene que ver con el título del trabajo.\n",
    "> #### 1.2 Objetivos específicos\n",
    ">  - De forma detallada describen cada una de los componentes del trabajo.\n",
    ">  - En conjunto garantizan la consecución del objetivo general.\n",
    "\n",
    "Referencia:\n",
    "- https://es.slideshare.net/rosbur/metodologia-objetivos-generales-y-especficos\n",
    "\n",
    "### 2.3 Modelo que representa el problema.\n",
    "> - Se debe incluir la función a optimizar y las restricciones (en caso de que existan).\n",
    "> - Deducción del modelo. Explicación detallada de las ecuaciones de acuerdo al problema que se quiera resolver o modelo que se quiera representar.\n",
    "> - ¿Qué situación representa el modelo? ¿Cuáles son las limitaciones fundamentales?\n",
    "> - Significado y valor de los parámetros (constantes que aparezcan en el modelo).\n",
    "\n",
    "### 2.4 Solución del problema de optimización.\n",
    "> - Se debe resolver el problema de optimización.\n",
    "> - ¿Condujo el algoritmo de optimización a una solución factible?\n",
    "\n",
    "### 2.5 Visualización de la solución del problema.\n",
    "> Se deben mostrar gráficas y/o tablas que ilustren de forma adecuada los resultados. No olviden etiquetar los ejes y si se tienen varias curvas en una sola gráfica también etiquetarlas (ojo: que las curvas se puedan diferenciar con colores y estilos de línea).\n",
    "\n",
    "### 2.6 Conclusiones.\n",
    "> Mucho cuidado, las conclusiones no son cualquier cosa. Se debe concluir respecto a los objetivos planteados de acuerdo a los resultados obtenidos.\n",
    "\n",
    "### 2.7 Referencias.\n",
    "> Citar (en formato APA) la bibliografía utilizada."
   ]
  },
  {
   "cell_type": "markdown",
   "metadata": {},
   "source": [
    "___\n",
    "## 3. Especificaciones adicionales.\n",
    "El proyecto debe estar disponible en ~~`GitHub`~~ con los integrantes como colaboradores.\n",
    "\n",
    "### 3.1 Notebook de jupyter. \n",
    "> Los anteriores numerales los deben desarrollar todos en un notebook de jupyter y llamarlo de la siguiente manera `ProyectoModulo1_ApellidoN1_ApellidoN2_ApellidoN3`, donde `ApellidoNi` hace referencia al apellido paterno y la inicial del primer nombre del integrante `i`.\n",
    "\n",
    "### 3.2 Presentación.\n",
    "> Recuerden que la nota del proyecto es mitad el trabajo, y mitad la presentación. Deben hacer una presentación en PowerPoint para presentar el trabajo en la clase del lunes **26 de septiembre**. La presentación, además de llevar todos los componentes básicos descritos en el entregable, debe llevar una tabla de contenido.\n",
    "> - **NO DEBE TENER CÓDIGO, PARA ESO ES EL INFORME EN EL NOTEBOOK**\n",
    "> - Presentación: 10 minutos.\n",
    "> - Seguir estas recomendaciones: https://es.slideshare.net/MeireComputacion/power-point-pautas-para-una-buen-trabajo"
   ]
  },
  {
   "cell_type": "code",
   "execution_count": 4,
   "metadata": {},
   "outputs": [],
   "source": [
    "import numpy as np\n",
    "import pandas as pd\n",
    "import sympy as sp\n",
    "import matplotlib.pyplot as plt\n",
    "%matplotlib inline"
   ]
  },
  {
   "cell_type": "code",
   "execution_count": 14,
   "metadata": {},
   "outputs": [
    {
     "data": {
      "text/plain": [
       "0      4357.727866\n",
       "1      4354.188856\n",
       "2      4395.637139\n",
       "3      4448.984053\n",
       "4      4455.477916\n",
       "          ...     \n",
       "248    3946.012382\n",
       "249    3901.352835\n",
       "250    3873.334273\n",
       "251    3899.885942\n",
       "252    3850.820000\n",
       "Name: Price, Length: 253, dtype: float64"
      ]
     },
     "execution_count": 14,
     "metadata": {},
     "output_type": "execute_result"
    }
   ],
   "source": [
    "data = pd.read_excel(\"PriceHistory.xlsx\")\n",
    "DataP = data[\"Price\"]\n",
    "DataP"
   ]
  },
  {
   "cell_type": "code",
   "execution_count": 15,
   "metadata": {},
   "outputs": [
    {
     "data": {
      "image/png": "[encoded data removed]",
      "text/plain": [
       "<Figure size 432x288 with 1 Axes>"
      ]
     },
     "metadata": {
      "needs_background": "light"
     },
     "output_type": "display_data"
    }
   ],
   "source": [
    "n = len(DataP)\n",
    "x = np.linspace(0,253,n)\n",
    "plt.figure()\n",
    "plt.scatter(x,DataP)\n",
    "plt.grid()\n"
   ]
  },
  {
   "cell_type": "code",
   "execution_count": 40,
   "metadata": {},
   "outputs": [
    {
     "data": {
      "text/plain": [
       "array([[4357.72786634],\n",
       "       [4354.18885569],\n",
       "       [4395.63713885],\n",
       "       [4448.98405341],\n",
       "       [4455.47791588],\n",
       "       [4443.11040057],\n",
       "       [4352.63434664],\n",
       "       [4359.46105752],\n",
       "       [4307.53875079],\n",
       "       [4357.03887534],\n",
       "       [4300.45901202],\n",
       "       [4345.71622004],\n",
       "       [4363.54516207],\n",
       "       [4399.76330792],\n",
       "       [4391.33805217],\n",
       "       [4361.19048622],\n",
       "       [4350.64596787],\n",
       "       [4363.80450766],\n",
       "       [4438.2643801 ],\n",
       "       [4471.36845422],\n",
       "       [4486.46049234],\n",
       "       [4519.63061194],\n",
       "       [4536.19213973],\n",
       "       [4549.7813469 ],\n",
       "       [4544.89825268],\n",
       "       [4566.47800207],\n",
       "       [4574.78883673],\n",
       "       [4551.68113535],\n",
       "       [4596.4150792 ],\n",
       "       [4605.37664818],\n",
       "       [4613.67300764],\n",
       "       [4630.65336098],\n",
       "       [4660.56958256],\n",
       "       [4680.05584256],\n",
       "       [4697.52680549],\n",
       "       [4701.70204336],\n",
       "       [4685.25117736],\n",
       "       [4646.70766757],\n",
       "       [4649.26920323],\n",
       "       [4682.84739595],\n",
       "       [4682.80354371],\n",
       "       [4700.89712952],\n",
       "       [4688.67070021],\n",
       "       [4704.54194291],\n",
       "       [4697.95510644],\n",
       "       [4682.94394837],\n",
       "       [4690.69805106],\n",
       "       [4701.46485448],\n",
       "       [4594.61827751],\n",
       "       [4655.27018925],\n",
       "       [4567.00149401],\n",
       "       [4513.03615538],\n",
       "       [4577.10053209],\n",
       "       [4538.42786494],\n",
       "       [4591.67179504],\n",
       "       [4686.74546087],\n",
       "       [4701.20786417],\n",
       "       [4667.45395323],\n",
       "       [4712.02413615],\n",
       "       [4668.97208611],\n",
       "       [4634.08761519],\n",
       "       [4709.85390538],\n",
       "       [4668.67119745],\n",
       "       [4620.63898525],\n",
       "       [4568.01724288],\n",
       "       [4649.22664125],\n",
       "       [4696.56157152],\n",
       "       [4725.78824228],\n",
       "       [4791.1919548 ],\n",
       "       [4786.35411717],\n",
       "       [4793.05812135],\n",
       "       [4778.72690637],\n",
       "       [4766.18297243],\n",
       "       [4796.5612479 ],\n",
       "       [4793.53722281],\n",
       "       [4700.57836845],\n",
       "       [4696.05382802],\n",
       "       [4677.02765673],\n",
       "       [4670.29037863],\n",
       "       [4713.06732197],\n",
       "       [4726.34572283],\n",
       "       [4659.0254902 ],\n",
       "       [4662.85411882],\n",
       "       [4577.10840073],\n",
       "       [4532.75962342],\n",
       "       [4482.72760343],\n",
       "       [4397.93917453],\n",
       "       [4410.12742596],\n",
       "       [4356.45387457],\n",
       "       [4349.92863633],\n",
       "       [4326.51368239],\n",
       "       [4431.84911901],\n",
       "       [4515.54757862],\n",
       "       [4546.53902594],\n",
       "       [4589.37655987],\n",
       "       [4477.44195395],\n",
       "       [4500.5314572 ],\n",
       "       [4483.86529271],\n",
       "       [4521.5388663 ],\n",
       "       [4587.1788894 ],\n",
       "       [4504.08478693],\n",
       "       [4418.63651709],\n",
       "       [4401.66698165],\n",
       "       [4471.07424716],\n",
       "       [4475.01109962],\n",
       "       [4380.25856259],\n",
       "       [4348.86919658],\n",
       "       [4304.75760231],\n",
       "       [4225.50488108],\n",
       "       [4288.69601251],\n",
       "       [4384.65449108],\n",
       "       [4373.9391488 ],\n",
       "       [4306.25889339],\n",
       "       [4386.54409102],\n",
       "       [4363.48674942],\n",
       "       [4328.87288646],\n",
       "       [4201.08779346],\n",
       "       [4170.70410409],\n",
       "       [4277.8801025 ],\n",
       "       [4259.52499864],\n",
       "       [4204.31185062],\n",
       "       [4173.11172464],\n",
       "       [4262.44560622],\n",
       "       [4357.85709641],\n",
       "       [4411.66761595],\n",
       "       [4463.11759048],\n",
       "       [4461.1801367 ],\n",
       "       [4511.60615907],\n",
       "       [4456.23604731],\n",
       "       [4520.16152615],\n",
       "       [4543.05637879],\n",
       "       [4575.51632481],\n",
       "       [4631.60485244],\n",
       "       [4602.44861214],\n",
       "       [4530.41345168],\n",
       "       [4545.8555374 ],\n",
       "       [4582.63609374],\n",
       "       [4525.12211041],\n",
       "       [4481.15333573],\n",
       "       [4500.20942279],\n",
       "       [4488.28175147],\n",
       "       [4412.52877875],\n",
       "       [4397.44723625],\n",
       "       [4446.59179325],\n",
       "       [4392.58766247],\n",
       "       [4391.69037231],\n",
       "       [4462.21007936],\n",
       "       [4459.45033454],\n",
       "       [4393.66347512],\n",
       "       [4271.77561931],\n",
       "       [4296.11646547],\n",
       "       [4175.19727555],\n",
       "       [4183.9552974 ],\n",
       "       [4287.50106317],\n",
       "       [4131.92641038],\n",
       "       [4155.37756935],\n",
       "       [4175.47570275],\n",
       "       [4300.17376596],\n",
       "       [4146.86760244],\n",
       "       [4123.33565012],\n",
       "       [3991.23737982],\n",
       "       [4001.05469543],\n",
       "       [3935.18460295],\n",
       "       [3930.08190315],\n",
       "       [4023.89127017],\n",
       "       [4008.01048293],\n",
       "       [4088.85041162],\n",
       "       [3923.67976445],\n",
       "       [3900.78693904],\n",
       "       [3901.36057603],\n",
       "       [3973.75158342],\n",
       "       [3941.47694319],\n",
       "       [3978.73268145],\n",
       "       [4057.84078022],\n",
       "       [4158.23836126],\n",
       "       [4132.14778196],\n",
       "       [4101.22981157],\n",
       "       [4176.81794291],\n",
       "       [4108.53540808],\n",
       "       [4121.42943094],\n",
       "       [4160.68332663],\n",
       "       [4115.77247085],\n",
       "       [4017.81849458],\n",
       "       [3900.86447578],\n",
       "       [3749.62728689],\n",
       "       [3735.48313392],\n",
       "       [3789.98632456],\n",
       "       [3666.76750192],\n",
       "       [3674.84136004],\n",
       "       [3764.78797076],\n",
       "       [3759.89311245],\n",
       "       [3795.72740573],\n",
       "       [3911.74385136],\n",
       "       [3900.11413099],\n",
       "       [3821.54585936],\n",
       "       [3818.83271936],\n",
       "       [3785.38484593],\n",
       "       [3825.32610537],\n",
       "       [3831.39040157],\n",
       "       [3845.08122328],\n",
       "       [3902.62249496],\n",
       "       [3899.3771476 ],\n",
       "       [3854.43326325],\n",
       "       [3818.79778333],\n",
       "       [3801.78062749],\n",
       "       [3790.37738224],\n",
       "       [3863.16282712],\n",
       "       [3830.85285146],\n",
       "       [3936.68952985],\n",
       "       [3959.89872023],\n",
       "       [3998.95141984],\n",
       "       [3961.63488124],\n",
       "       [3966.84498384],\n",
       "       [3921.0496115 ],\n",
       "       [4023.61242322],\n",
       "       [4072.43430025],\n",
       "       [4130.28577382],\n",
       "       [4118.62956569],\n",
       "       [4091.1851032 ],\n",
       "       [4155.17273601],\n",
       "       [4151.94418399],\n",
       "       [4145.18907743],\n",
       "       [4140.05835063],\n",
       "       [4122.46586685],\n",
       "       [4210.24051338],\n",
       "       [4207.27443211],\n",
       "       [4280.15052801],\n",
       "       [4297.14348056],\n",
       "       [4305.19932393],\n",
       "       [4274.03865283],\n",
       "       [4283.74282196],\n",
       "       [4228.4784882 ],\n",
       "       [4137.98537374],\n",
       "       [4128.7286114 ],\n",
       "       [4140.76843075],\n",
       "       [4199.11958701],\n",
       "       [4057.66307109],\n",
       "       [4030.61299598],\n",
       "       [3986.16188349],\n",
       "       [3954.99900103],\n",
       "       [3966.85026157],\n",
       "       [3924.25958033],\n",
       "       [3908.18998785],\n",
       "       [3979.87489646],\n",
       "       [4006.17911716],\n",
       "       [4067.3623246 ],\n",
       "       [4110.40805982],\n",
       "       [3932.69329994],\n",
       "       [3946.01238152],\n",
       "       [3901.35283491],\n",
       "       [3873.33427274],\n",
       "       [3899.88594164],\n",
       "       [3850.82      ]])"
      ]
     },
     "execution_count": 40,
     "metadata": {},
     "output_type": "execute_result"
    }
   ],
   "source": [
    "def funcion_precio(beta, X, y, s):\n",
    "    beta = np.reshape(beta, [s,-1])\n",
    "    pred = X @ beta\n",
    "    precio = (y-pred).T @ (y-pred)\n",
    "    return precio [0][0]\n",
    "\n",
    "# Columnas de x con unos:\n",
    "ones = np.ones([n,1])\n",
    "x1 = np.reshape(x,[n,-1])\n",
    "x2 = np.reshape(x**2,[n,-1])\n",
    "x3 = np.reshape(x**3,[n,-1])\n",
    "\n",
    "# matrices de variables x\n",
    "\n",
    "MatX1 = np.hstack((ones,x1))\n",
    "MatX2 = np.hstack((ones,x1,x2))\n",
    "MatX3 = np.hstack((ones,x1,x2,x3))\n",
    "\n",
    "# BETA \n",
    "beta1 = np.random.rand(2)\n",
    "beta2 = np.random.rand(3)\n",
    "beta3 = np.random.rand(4)\n",
    "\n",
    "y = np.reshape(list(DataP),[n,-1])\n",
    "y\n",
    "\n"
   ]
  },
  {
   "cell_type": "code",
   "execution_count": 41,
   "metadata": {},
   "outputs": [
    {
     "name": "stdout",
     "output_type": "stream",
     "text": [
      "Grado 1: 4656711531.563438\n",
      "Grado 2: 25296789257.1951\n",
      "Grado 3: 1407953115243610.0\n"
     ]
    }
   ],
   "source": [
    "print(\"Grado 1:\",funcion_precio(beta1,MatX1,y,2))\n",
    "print(\"Grado 2:\",funcion_precio(beta2,MatX2,y,3))\n",
    "print(\"Grado 3:\",funcion_precio(beta3,MatX3,y,4))"
   ]
  },
  {
   "cell_type": "code",
   "execution_count": 42,
   "metadata": {},
   "outputs": [
    {
     "data": {
      "text/plain": [
       "      fun: 8790744.936795622\n",
       " hess_inv: array([[ 8.00914943e-03, -4.76991628e-05],\n",
       "       [-4.76991628e-05,  3.76699087e-07]])\n",
       "      jac: array([ 0. , -0.5])\n",
       "  message: 'Desired error not necessarily achieved due to precision loss.'\n",
       "     nfev: 129\n",
       "      nit: 5\n",
       "     njev: 40\n",
       "   status: 2\n",
       "  success: False\n",
       "        x: array([ 4.69901736e+03, -3.07089693e+00])"
      ]
     },
     "execution_count": 42,
     "metadata": {},
     "output_type": "execute_result"
    }
   ],
   "source": [
    "import scipy.optimize as opt\n",
    "\n",
    "sol1 = opt.minimize(funcion_precio,beta1,args=(MatX1,y,2))\n",
    "sol2 = opt.minimize(funcion_precio,beta2,args=(MatX2,y,3))\n",
    "sol3 = opt.minimize(funcion_precio,beta3,args=(MatX3,y,4))\n",
    "sol1"
   ]
  },
  {
   "cell_type": "code",
   "execution_count": 43,
   "metadata": {},
   "outputs": [
    {
     "data": {
      "text/plain": [
       "      fun: 8313750.676156314\n",
       " hess_inv: array([[ 1.75154443e-02,  2.46615411e+00, -8.75772214e-03],\n",
       "       [ 2.46615411e+00,  3.47231620e+02, -1.23307705e+00],\n",
       "       [-8.75772214e-03, -1.23307705e+00,  4.37886107e-03]])\n",
       "      jac: array([0.  , 0.25, 0.5 ])\n",
       "  message: 'Desired error not necessarily achieved due to precision loss.'\n",
       "     nfev: 92\n",
       "      nit: 5\n",
       "     njev: 23\n",
       "   status: 2\n",
       "  success: False\n",
       "        x: array([ 4.60306822e+03, -7.86354180e-01, -9.02981725e-03])"
      ]
     },
     "execution_count": 43,
     "metadata": {},
     "output_type": "execute_result"
    }
   ],
   "source": [
    "sol2"
   ]
  },
  {
   "cell_type": "code",
   "execution_count": 44,
   "metadata": {
    "scrolled": true
   },
   "outputs": [
    {
     "data": {
      "text/plain": [
       "      fun: 4845975.8704325585\n",
       " hess_inv: array([[ 3.07601027e-02, -9.09787066e-04,  7.17675157e-06,\n",
       "        -1.65131335e-08],\n",
       "       [-9.09787066e-04,  3.61479292e-05, -3.21607193e-07,\n",
       "         7.90337273e-10],\n",
       "       [ 7.17675157e-06, -3.21607193e-07,  3.05473868e-09,\n",
       "        -7.82314592e-12],\n",
       "       [-1.65131335e-08,  7.90337273e-10, -7.82314592e-12,\n",
       "         2.06120490e-14]])\n",
       "      jac: array([ 2.06250000e+00,  4.44375000e+01, -3.75625000e+01, -1.45825625e+04])\n",
       "  message: 'Desired error not necessarily achieved due to precision loss.'\n",
       "     nfev: 226\n",
       "      nit: 7\n",
       "     njev: 43\n",
       "   status: 2\n",
       "  success: False\n",
       "        x: array([ 4.30292279e+03,  1.35931633e+01, -1.51403774e-01,  3.75164301e-04])"
      ]
     },
     "execution_count": 44,
     "metadata": {},
     "output_type": "execute_result"
    }
   ],
   "source": [
    "sol3"
   ]
  },
  {
   "cell_type": "code",
   "execution_count": 45,
   "metadata": {},
   "outputs": [
    {
     "data": {
      "image/png": "[encoded data removed]",
      "text/plain": [
       "<Figure size 432x288 with 1 Axes>"
      ]
     },
     "metadata": {
      "needs_background": "light"
     },
     "output_type": "display_data"
    }
   ],
   "source": [
    "y1 = sol1.x[0] + sol1.x[1]*x\n",
    "y2 = sol2.x[0] + sol2.x[1]*x + sol2.x[2]*x**2\n",
    "y3 = sol3.x[0] + sol3.x[1]*x + sol3.x[2]*x**2 + sol3.x[3]*x**3\n",
    "\n",
    "plt.figure()\n",
    "plt.scatter(x,DataP)\n",
    "plt.plot(x,y1,\"g\", label = \"Grado 1\")\n",
    "plt.plot(x,y2,\"b\", label = \"Grado 2\")\n",
    "plt.plot(x,y3,\"y\", label = \"Grado 3\")\n",
    "\n",
    "plt.legend()\n",
    "plt.grid()"
   ]
  },
  {
   "cell_type": "code",
   "execution_count": 62,
   "metadata": {},
   "outputs": [
    {
     "data": {
      "text/plain": [
       "293"
      ]
     },
     "execution_count": 62,
     "metadata": {},
     "output_type": "execute_result"
    }
   ],
   "source": [
    "end = len(DataP)+40\n",
    "end"
   ]
  },
  {
   "cell_type": "code",
   "execution_count": 63,
   "metadata": {},
   "outputs": [
    {
     "data": {
      "text/latex": [
       "$\\displaystyle - 0.00902981725406252 x^{2} - 0.786354180098655 x + 4603.06821601641$"
      ],
      "text/plain": [
       "-0.00902981725406252*x**2 - 0.786354180098655*x + 4603.06821601641"
      ]
     },
     "execution_count": 63,
     "metadata": {},
     "output_type": "execute_result"
    }
   ],
   "source": [
    "import sympy as sp\n",
    "sp.var(\"x\")\n",
    "\n",
    "y2 = sol2.x[0] + sol2.x[1]*x + sol2.x[2]*x**2\n",
    "y2"
   ]
  },
  {
   "cell_type": "code",
   "execution_count": 64,
   "metadata": {},
   "outputs": [
    {
     "data": {
      "text/latex": [
       "$\\displaystyle 3597.46565980349$"
      ],
      "text/plain": [
       "3597.46565980349"
      ]
     },
     "execution_count": 64,
     "metadata": {},
     "output_type": "execute_result"
    }
   ],
   "source": [
    "end_y2 = y2.subs(x,end)\n",
    "end_y2"
   ]
  },
  {
   "cell_type": "code",
   "execution_count": 65,
   "metadata": {},
   "outputs": [
    {
     "data": {
      "text/latex": [
       "$\\displaystyle 0.000375164301420619 x^{3} - 0.151403773806603 x^{2} + 13.5931632989875 x + 4302.92278602637$"
      ],
      "text/plain": [
       "0.000375164301420619*x**3 - 0.151403773806603*x**2 + 13.5931632989875*x + 4302.92278602637"
      ]
     },
     "execution_count": 65,
     "metadata": {},
     "output_type": "execute_result"
    }
   ],
   "source": [
    "y3 = sol3.x[0] + sol3.x[1]*x + sol3.x[2]*x**2 + sol3.x[3]*x**3\n",
    "y3"
   ]
  },
  {
   "cell_type": "code",
   "execution_count": 66,
   "metadata": {},
   "outputs": [
    {
     "data": {
      "text/latex": [
       "$\\displaystyle 4724.64872811563$"
      ],
      "text/plain": [
       "4724.64872811563"
      ]
     },
     "execution_count": 66,
     "metadata": {},
     "output_type": "execute_result"
    }
   ],
   "source": [
    "end_y3 = y3.subs(x,end)\n",
    "end_y3"
   ]
  },
  {
   "cell_type": "code",
   "execution_count": null,
   "metadata": {},
   "outputs": [],
   "source": []
  }
 ],
 "metadata": {
  "kernelspec": {
   "display_name": "Python 3 (ipykernel)",
   "language": "python",
   "name": "python3"
  },
  "language_info": {
   "codemirror_mode": {
    "name": "ipython",
    "version": 3
   },
   "file_extension": ".py",
   "mimetype": "text/x-python",
   "name": "python",
   "nbconvert_exporter": "python",
   "pygments_lexer": "ipython3",
   "version": "3.9.12"
  }
 },
 "nbformat": 4,
 "nbformat_minor": 2
}
