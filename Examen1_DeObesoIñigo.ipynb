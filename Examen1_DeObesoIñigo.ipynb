{
 "cells": [
  {
   "cell_type": "markdown",
   "metadata": {},
   "source": [
    "# Examen Módulo 1 - Optimización.\n",
    "\n",
    "**Lea cuidadosamente las siguientes indicaciones antes de comenzar el examen:**\n",
    "- Para resolver el examen edite este mismo archivo y renómbrelo de la siguiente manera: *Examen1_ApellidoNombre*, donde *ApellidoNombre* corresponde a su apellido paterno con la inicial en mayúscula, seguido de su primer nombre con la inicial en mayúscula **sin acentos**. Por ejemplo, en mi caso el nombre del archivo sería *Examen1_ArellanoCarlos*.\n",
    "- Resuelva los puntos en el espacio provisto. Si requiere agregar más celdas para código o escritura, hágalo (`Esc`+`B`) o (`Esc`+`A`).\n",
    "- Recuerde que también se está evaluando su capacidad de interpretar los resultados. Escriba sus interpretaciones/conclusiones en celdas utilizando *Markdown*.\n",
    "- El formato de presentación de todo el examen en general debe ser adecuado. Use tamaños de letra, colores, etiquetas, etcétera.\n",
    "- No se resuelven dudas de ningún tipo por los profesores de la asignatura. Por favor, absténgase de preguntar.\n",
    "- Revise bien el tipo de examen. Sólo se le calificará si realiza el tipo de examen asignado."
   ]
  },
  {
   "cell_type": "code",
   "execution_count": 4,
   "metadata": {},
   "outputs": [],
   "source": [
    "import pandas as pd\n",
    "import sympy as sp\n",
    "import numpy as np\n",
    "import matplotlib.pyplot as plt\n",
    "%matplotlib inline"
   ]
  },
  {
   "cell_type": "markdown",
   "metadata": {},
   "source": [
    "---\n",
    "# Primer punto. Optimización de funciones con `SymPy`\n",
    "\n",
    "**Volumen máximo**. Considere un cono circular recto inscrito en una esfera de radio $r$:"
   ]
  },
  {
   "cell_type": "code",
   "execution_count": 1,
   "metadata": {},
   "outputs": [
    {
     "data": {
      "image/png": "[encoded data removed]",
      "text/plain": [
       "<Figure size 432x288 with 1 Axes>"
      ]
     },
     "metadata": {
      "needs_background": "light"
     },
     "output_type": "display_data"
    }
   ],
   "source": [
    "import numpy as np\n",
    "import matplotlib.pyplot as plt\n",
    "import matplotlib.patches as patches\n",
    "%matplotlib inline\n",
    "\n",
    "B1 = patches.Arc((0, -0.4), 1.8,0.3,theta2=180,fc='None',ls='--',color='k')\n",
    "B2 = patches.Arc((0, -0.4), 1.8,0.3,theta1=180,fc='None',color='k')\n",
    "C = patches.Circle((0, 0), 1,fc='None',lw=2,color='k');\n",
    "ax = plt.gca()\n",
    "ax.add_artist(B1)\n",
    "ax.add_artist(B2)\n",
    "ax.add_artist(C)\n",
    "\n",
    "plt.plot([0.9,0,-0.9],[-0.4,1,-0.4],'k')\n",
    "plt.plot([0,0],[-0.4,1],'--r')\n",
    "plt.plot([0,0],[-0.4,0],'ok')\n",
    "plt.plot([0,0.9],[0,-0.4],'--r')\n",
    "plt.plot([-0.2,0],[-0.4,-0.4],'--k')\n",
    "plt.plot([-0.2,0],[1,1],'--k')\n",
    "plt.plot([-0.14,-0.14],[-0.4,0.2],'--k')\n",
    "plt.plot([-0.14,-0.14],[0.4,1],'--k')\n",
    "\n",
    "plt.text(-0.18,0.26,'h')\n",
    "plt.text(0.4,-0.1,'$r$')\n",
    "plt.text(0.05,0.4,'$r$')\n",
    "\n",
    "plt.axis([-1.7,1.7,-1.1,1.1])\n",
    "plt.axis('off')\n",
    "plt.show()"
   ]
  },
  {
   "cell_type": "markdown",
   "metadata": {},
   "source": [
    "1. Escriba el volumen $V$ del cono como una función de la altura $h$ de éste. Realice este punto usando fórmulas de $\\LaTeX$, en celdas *Markdown*.\n",
    "2. Determinar el valor de $h$ que maximiza el volumen para un radio $r=2$.\n",
    "3. ¿Cuál es el volumen máximo del cono?"
   ]
  },
  {
   "cell_type": "markdown",
   "metadata": {},
   "source": [
    "### 1. Fórmula de optimización de un cono: ###\n",
    "$$ V = \\frac{1}{3}\\pi r^2h $$\n",
    "\n",
    "- Generamos una relacion entre $r$ y $x$\n",
    "$$ r = x $$\n",
    "\n",
    "- Y entre $h$ y $y$ donde $R = 2$\n",
    "$$ h = y + R $$\n",
    "\n",
    "$$ \\frac{1}{3} \\pi (y+r) $$\n",
    "\n",
    "$$ \\frac{x}{r} = \\frac{y+R}{\\sqrt{y^2 - R^2}} $$\n",
    "\n",
    "- Substituimos en el volúmen:\n",
    "$$ V =  \\frac{1}{3} \\pi (\\frac{R^2(y+R)^2}{y^2 - R^2})(y+R) $$\n",
    "\n",
    "$$ V =  \\frac{1}{3} \\pi R^2\\frac{(y+R)^3}{(y^2-R^2)}$$"
   ]
  },
  {
   "cell_type": "code",
   "execution_count": 60,
   "metadata": {},
   "outputs": [],
   "source": [
    "import sympy as sp\n",
    "import numpy as np\n",
    "import matplotlib.pyplot as plt\n",
    "%matplotlib inline"
   ]
  },
  {
   "cell_type": "code",
   "execution_count": 64,
   "metadata": {},
   "outputs": [
    {
     "data": {
      "text/latex": [
       "$\\displaystyle \\frac{1.33333333333333 \\pi \\left(y + 2\\right)^{3}}{y^{2} - 4}$"
      ],
      "text/plain": [
       "1.33333333333333*pi*(y + 2)**3/(y**2 - 4)"
      ]
     },
     "execution_count": 64,
     "metadata": {},
     "output_type": "execute_result"
    }
   ],
   "source": [
    "sp.var(\"y\")\n",
    "sp.var(\"R\")\n",
    "R = 2\n",
    "Vol = (1/3)*(sp.pi)*((R)**2)*(((y+R)**3))/(((y)**2)-(R)**2)\n",
    "Vol\n"
   ]
  },
  {
   "cell_type": "code",
   "execution_count": 66,
   "metadata": {
    "scrolled": true
   },
   "outputs": [
    {
     "data": {
      "text/latex": [
       "$\\displaystyle - \\frac{2.66666666666667 \\pi y \\left(y + 2\\right)^{3}}{\\left(y^{2} - 4\\right)^{2}} + \\frac{4.0 \\pi \\left(y + 2\\right)^{2}}{y^{2} - 4}$"
      ],
      "text/plain": [
       "-2.66666666666667*pi*y*(y + 2)**3/(y**2 - 4)**2 + 4.0*pi*(y + 2)**2/(y**2 - 4)"
      ]
     },
     "execution_count": 66,
     "metadata": {},
     "output_type": "execute_result"
    }
   ],
   "source": [
    "df = sp.diff(Vol, y)\n",
    "df"
   ]
  },
  {
   "cell_type": "code",
   "execution_count": 67,
   "metadata": {},
   "outputs": [
    {
     "data": {
      "text/latex": [
       "$\\displaystyle 6.0$"
      ],
      "text/plain": [
       "6.00000000000000"
      ]
     },
     "execution_count": 67,
     "metadata": {},
     "output_type": "execute_result"
    }
   ],
   "source": [
    "pc = sp.solve(df,y)[0]\n",
    "pc"
   ]
  },
  {
   "cell_type": "code",
   "execution_count": 68,
   "metadata": {},
   "outputs": [],
   "source": [
    "fn = sp.lambdify(y, Vol, \"numpy\")"
   ]
  },
  {
   "cell_type": "code",
   "execution_count": 76,
   "metadata": {
    "scrolled": true
   },
   "outputs": [
    {
     "data": {
      "text/plain": [
       "[<matplotlib.lines.Line2D at 0x20cf1226040>]"
      ]
     },
     "execution_count": 76,
     "metadata": {},
     "output_type": "execute_result"
    },
    {
     "data": {
      "image/png": "[encoded data removed]",
      "text/plain": [
       "<Figure size 432x288 with 1 Axes>"
      ]
     },
     "metadata": {
      "needs_background": "light"
     },
     "output_type": "display_data"
    }
   ],
   "source": [
    "xn = np.linspace(0,10,200)\n",
    "yn = fn(xn)\n",
    "\n",
    "plt.figure()\n",
    "plt.grid()\n",
    "plt.plot(xn,yn)\n",
    "plt.plot(6,fn(6),\"*g\",ms = \"15\")"
   ]
  },
  {
   "cell_type": "markdown",
   "metadata": {},
   "source": [
    "- Substituímos el valor de y en la relación de x con R :\n",
    "$$ \\frac{x}{2} = \\frac{6+2}{\\sqrt{6^2 - 2^2}} $$\n",
    "$$ x = 2\\sqrt{2} $$\n"
   ]
  },
  {
   "cell_type": "code",
   "execution_count": 80,
   "metadata": {
    "scrolled": true
   },
   "outputs": [
    {
     "data": {
      "text/latex": [
       "$\\displaystyle 21.3333333333333 \\pi$"
      ],
      "text/plain": [
       "21.3333333333333*pi"
      ]
     },
     "execution_count": 80,
     "metadata": {},
     "output_type": "execute_result"
    }
   ],
   "source": [
    "Vol_max = Vol.subs(y,pc)\n",
    "Vol_max"
   ]
  },
  {
   "cell_type": "markdown",
   "metadata": {},
   "source": [
    "---\n",
    "# Segundo punto. Programación lineal\n",
    "Una fábrica de confitería está interesada en mezclar tres de sus marcas principales de golosinas (M1, M2, M3) para obtener tres nuevos productos (P1, P2, P3), que desea vender al precio de 4,3,2 u.m. por caja, respectivamente.\n",
    "La empresa puede importar 2000 cajas de M1, 4000 de la M2 y 1000 de la M3, siendo el precio que debe pagar de 3,2 y 1 u.m. por cada tipo de caja.\n",
    "\n",
    "El proveedor solicita que el Producto 1 (P1) contenga como mínimo el 80% de M1 y como máximo el 20% de M3. El producto 2 (P2) deberá contener como mínimo el 20% de M1 y no más del 80% de M3. El producto 3 (P3) no podrá contener más del 70% de M3.\n",
    "\n",
    "Encuentre la combinación que le genere el **máximo** beneficio (precio de venta menos el costo).\n",
    "\n",
    "Use las variables $x_{ij}$: Como la cantidad de la marca $i$ en el producto $j$.\n",
    "\n",
    "1. Escriba la función objetivo a **minimizar** junto con las restricciones, explicando detalladamente cada paso (usando fórmulas de $\\LaTeX$, en celdas Markdown). Además escriba el problema en la forma \\begin{equation}\n",
    "\\begin{array}{ll}\n",
    "\\min_{\\boldsymbol{x}} & \\boldsymbol{c}^T\\boldsymbol{x} \\\\\n",
    "\\text{s. a. }        & \\boldsymbol{A}_{eq}\\boldsymbol{x}=\\boldsymbol{b}_{eq} \\\\\n",
    "                     & \\boldsymbol{A}\\boldsymbol{x}\\leq\\boldsymbol{b},\n",
    "\\end{array}\\qquad\n",
    "\\end{equation}\n",
    "2. Resuelva el problema utilizando la función `linprog`. ¿Cuál es la combinación óptima para cada producto?, ¿Cuál es el beneficio que se genera?"
   ]
  },
  {
   "cell_type": "markdown",
   "metadata": {},
   "source": [
    "#### 1. Identificar criterio de optimizacion:\n",
    "- Maximizar ganancias.\n",
    "- Minimizar costos.\n",
    "\n",
    "#### 2. Identificar información pertinente para función de costo:\n",
    "- MAX:\n",
    "    - P1 = 4\n",
    "    - P2 = 3\n",
    "    - P3 = 2\n",
    "- MIN:\n",
    "    - M1 = 3\n",
    "    - M2 = 2\n",
    "    - M3 = 1\n",
    "\n",
    "#### 3. Definir variables de optimización:\n",
    "- MAX\n",
    "$$ P_1 \\leq 0.8 M_1 $$\n",
    "$$ P_1 \\geq 0.2 M_3 $$\n",
    "\n",
    "$$ P_2 \\leq 0.2 M_1 $$\n",
    "$$ P_2 \\geq 0.8 M_3 $$\n",
    "\n",
    "$$ P_3 \\leq 0.7 M_1 $$\n",
    "\n",
    "#### 4. Escribir el resto de la información con respecto a las variables:\n"
   ]
  },
  {
   "cell_type": "markdown",
   "metadata": {},
   "source": [
    "---\n",
    "# Tercer punto. Ajuste de curvas\n",
    "Los siguientes datos extraidos de la Federal Reserve Economic Data (FRED), son los salarios por empleado equivalente a tiempo completo en industrias privadas de EE.UU.: fondos, fideicomisos, etc. **entre los años 1998 y 2018**. \n",
    "\n",
    "https://www.quandl.com/data/FRED/N4461C0A052NBEA-Wage-and-salary-accruals-per-full-time-equivalent-employee-Domestic-private-industries-Funds-trusts-and-other-financial-vehicles "
   ]
  },
  {
   "cell_type": "code",
   "execution_count": 28,
   "metadata": {},
   "outputs": [],
   "source": [
    "import numpy as np\n",
    "y=np.array([ 55887.,  59365.,  65435.,  68065.,  71918.,  77257.,  92036.,\n",
    "        92645.,  99857.,  74935.,  78597.,  83134.,  87372., 104196.,\n",
    "       112597., 133821., 129107., 138259., 139083., 143762., 147334.])\n",
    "x=np.arange(8,29)"
   ]
  },
  {
   "cell_type": "code",
   "execution_count": 29,
   "metadata": {
    "scrolled": true
   },
   "outputs": [
    {
     "data": {
      "image/png": "[encoded data removed]",
      "text/plain": [
       "<Figure size 432x288 with 1 Axes>"
      ]
     },
     "metadata": {
      "needs_background": "light"
     },
     "output_type": "display_data"
    }
   ],
   "source": [
    "plt.plot(x+1980,y)\n",
    "plt.grid()"
   ]
  },
  {
   "cell_type": "markdown",
   "metadata": {},
   "source": [
    "1. Ajuste los salarios con polinomios de grado 1 a 3 y muestre los errores de forma gráfica, ¿Qué polinómio se ajusta mejor?\n",
    "2. Muestre en un gráfico los datos y el polinómio que mejor se ajuste\n",
    "3. Use el modelo para averiguar el salario a mediados del año 2005 y para predecirlo en el año 2025. ¿Qué diferencias encuentra en cuanto a la interpolación (esto es, obtener un punto medio) y la extrapolación  (es decir, obtener un dato fuera del rango conocido)?"
   ]
  },
  {
   "cell_type": "code",
   "execution_count": 44,
   "metadata": {},
   "outputs": [],
   "source": [
    "def funcion_sal(beta,X,y):\n",
    "    m, n = X.shape\n",
    "    beta = np.reshape(beta, [n,-1])\n",
    "    pred = X @ beta\n",
    "    sal = (y - pred).T @ (y - pred)\n",
    "    return sal [0][0]"
   ]
  },
  {
   "cell_type": "code",
   "execution_count": 45,
   "metadata": {},
   "outputs": [
    {
     "data": {
      "text/plain": [
       "array([[ 55887.],\n",
       "       [ 59365.],\n",
       "       [ 65435.],\n",
       "       [ 68065.],\n",
       "       [ 71918.],\n",
       "       [ 77257.],\n",
       "       [ 92036.],\n",
       "       [ 92645.],\n",
       "       [ 99857.],\n",
       "       [ 74935.],\n",
       "       [ 78597.],\n",
       "       [ 83134.],\n",
       "       [ 87372.],\n",
       "       [104196.],\n",
       "       [112597.],\n",
       "       [133821.],\n",
       "       [129107.],\n",
       "       [138259.],\n",
       "       [139083.],\n",
       "       [143762.],\n",
       "       [147334.]])"
      ]
     },
     "execution_count": 45,
     "metadata": {},
     "output_type": "execute_result"
    }
   ],
   "source": [
    "m = len(y)\n",
    "ones = np.ones([m,1])\n",
    "x1 = np.reshape(list(x),[m,-1])\n",
    "x2 = np.reshape(x**2,[m,-1])\n",
    "x3 = np.reshape(x**3,[m,-1])\n",
    "\n",
    "# matrices de variables x\n",
    "MatX1 = np.hstack((ones,x1))\n",
    "MatX2 = np.hstack((ones,x1,x2))\n",
    "MatX3 = np.hstack((ones,x1,x2,x3))\n",
    "\n",
    "# BETA \n",
    "beta1 = np.random.rand(2)\n",
    "beta2 = np.random.rand(3)\n",
    "beta3 = np.random.rand(4)\n",
    "\n",
    "y = np.reshape(y,[m,-1])\n",
    "y"
   ]
  },
  {
   "cell_type": "code",
   "execution_count": 46,
   "metadata": {},
   "outputs": [
    {
     "data": {
      "text/plain": [
       "      fun: 2247933210.712839\n",
       " hess_inv: array([[ 0.23433709, -0.01169617],\n",
       "       [-0.01169617,  0.0006498 ]])\n",
       "      jac: array([0., 0.])\n",
       "  message: 'Optimization terminated successfully.'\n",
       "     nfev: 36\n",
       "      nit: 5\n",
       "     njev: 12\n",
       "   status: 0\n",
       "  success: True\n",
       "        x: array([16470.58102658,  4520.55671043])"
      ]
     },
     "execution_count": 46,
     "metadata": {},
     "output_type": "execute_result"
    }
   ],
   "source": [
    "import scipy.optimize as opt\n",
    "\n",
    "sol1 = opt.minimize(funcion_sal,beta1,args=(MatX1,y))\n",
    "sol2 = opt.minimize(funcion_sal,beta2,args=(MatX2,y))\n",
    "sol3 = opt.minimize(funcion_sal,beta3,args=(MatX3,y))\n",
    "sol1"
   ]
  },
  {
   "cell_type": "code",
   "execution_count": 47,
   "metadata": {},
   "outputs": [
    {
     "data": {
      "text/plain": [
       "      fun: 1818616352.4222143\n",
       " hess_inv: array([[ 1.00284810e+00, -1.11691006e-01,  2.85963917e-03],\n",
       "       [-1.11691006e-01,  1.36353779e-02, -3.70769315e-04],\n",
       "       [ 2.85963917e-03, -3.70769315e-04,  1.05725811e-05]])\n",
       "      jac: array([  0., -16.,   0.])\n",
       "  message: 'Desired error not necessarily achieved due to precision loss.'\n",
       "     nfev: 191\n",
       "      nit: 9\n",
       "     njev: 45\n",
       "   status: 2\n",
       "  success: False\n",
       "        x: array([56220.02754967,  -459.39928936,   138.32741072])"
      ]
     },
     "execution_count": 47,
     "metadata": {},
     "output_type": "execute_result"
    }
   ],
   "source": [
    "sol2"
   ]
  },
  {
   "cell_type": "code",
   "execution_count": 48,
   "metadata": {},
   "outputs": [
    {
     "data": {
      "text/plain": [
       "      fun: 1746809642.546774\n",
       " hess_inv: array([[ 8.34800814e+00, -1.56652160e+00,  9.02416890e-02,\n",
       "        -1.62462485e-03],\n",
       "       [-1.56652160e+00,  3.07186032e-01, -1.82916093e-02,\n",
       "         3.37663559e-04],\n",
       "       [ 9.02416890e-02, -1.82916093e-02,  1.11979655e-03,\n",
       "        -2.11309490e-05],\n",
       "       [-1.62462485e-03,  3.37663559e-04, -2.11309490e-05,\n",
       "         4.06015458e-07]])\n",
       "      jac: array([   0.,   16.,  480., 4832.])\n",
       "  message: 'Desired error not necessarily achieved due to precision loss.'\n",
       "     nfev: 262\n",
       "      nit: 12\n",
       "     njev: 50\n",
       "   status: 2\n",
       "  success: False\n",
       "        x: array([6306.90393914, 9272.65279757, -441.59323659,   10.73915417])"
      ]
     },
     "execution_count": 48,
     "metadata": {},
     "output_type": "execute_result"
    }
   ],
   "source": [
    "sol3"
   ]
  },
  {
   "cell_type": "code",
   "execution_count": 52,
   "metadata": {},
   "outputs": [
    {
     "data": {
      "image/png": "[encoded data removed]",
      "text/plain": [
       "<Figure size 432x288 with 1 Axes>"
      ]
     },
     "metadata": {
      "needs_background": "light"
     },
     "output_type": "display_data"
    }
   ],
   "source": [
    "y_pred1 = MatX1 @ sol1.x\n",
    "y_pred2 = MatX2 @ sol2.x\n",
    "y_pred3 = MatX3 @ sol3.x\n",
    "\n",
    "plt.figure()\n",
    "plt.plot(x+1980,y)\n",
    "plt.plot(x+1980,y_pred1,\"g\", label = \"Grado 1\")\n",
    "plt.plot(x+1980,y_pred2,\"b\", label = \"Grado 2\")\n",
    "plt.plot(x+1980,y_pred3,\"y\", label = \"Grado 3\")\n",
    "\n",
    "plt.legend()\n",
    "plt.grid()"
   ]
  },
  {
   "cell_type": "markdown",
   "metadata": {},
   "source": [
    "- El polinomio que se ajusta mejor es el del grado 1 ya que el grado 2 y 3 asumen que va a haber un crecimiento más agresivo por lo que podría parecer que están \"sobre-ajustadas\".\n"
   ]
  },
  {
   "cell_type": "code",
   "execution_count": 53,
   "metadata": {},
   "outputs": [
    {
     "data": {
      "text/plain": [
       "array([ 8,  9, 10, 11, 12, 13, 14, 15, 16, 17, 18, 19, 20, 21, 22, 23, 24,\n",
       "       25, 26, 27, 28])"
      ]
     },
     "execution_count": 53,
     "metadata": {},
     "output_type": "execute_result"
    }
   ],
   "source": [
    "x"
   ]
  },
  {
   "cell_type": "markdown",
   "metadata": {},
   "source": [
    "### valor en 2005 ###"
   ]
  },
  {
   "cell_type": "code",
   "execution_count": 56,
   "metadata": {},
   "outputs": [
    {
     "data": {
      "text/plain": [
       "25"
      ]
     },
     "execution_count": 56,
     "metadata": {},
     "output_type": "execute_result"
    }
   ],
   "source": [
    "import sympy as sp\n",
    "sp.var(\"x\")\n",
    "y1 = sol1.x[0] + sol1.x[1]*x\n",
    "x_2005 = 2005 - 1980\n",
    "x_2005"
   ]
  },
  {
   "cell_type": "code",
   "execution_count": 57,
   "metadata": {},
   "outputs": [
    {
     "data": {
      "text/latex": [
       "$\\displaystyle 129484.498787206$"
      ],
      "text/plain": [
       "129484.498787206"
      ]
     },
     "execution_count": 57,
     "metadata": {},
     "output_type": "execute_result"
    }
   ],
   "source": [
    "sal2005 = y1.subs(x,x_2005)\n",
    "sal2005"
   ]
  },
  {
   "cell_type": "markdown",
   "metadata": {},
   "source": [
    "### Valor en 2025 ###"
   ]
  },
  {
   "cell_type": "code",
   "execution_count": 58,
   "metadata": {},
   "outputs": [
    {
     "data": {
      "text/plain": [
       "45"
      ]
     },
     "execution_count": 58,
     "metadata": {},
     "output_type": "execute_result"
    }
   ],
   "source": [
    "x_2025 = 2025 - 1980\n",
    "x_2025"
   ]
  },
  {
   "cell_type": "code",
   "execution_count": 59,
   "metadata": {},
   "outputs": [
    {
     "data": {
      "text/latex": [
       "$\\displaystyle 219895.63299571$"
      ],
      "text/plain": [
       "219895.632995710"
      ]
     },
     "execution_count": 59,
     "metadata": {},
     "output_type": "execute_result"
    }
   ],
   "source": [
    "sal2025 = y1.subs(x,x_2025)\n",
    "sal2025"
   ]
  },
  {
   "cell_type": "markdown",
   "metadata": {},
   "source": [
    "### Conclusiones ###\n",
    "- El problema entre extrapolar y predecir datos es que por más preciso que sea el modelo no se puede estar seguro del valor en tal tiempo \"x\"."
   ]
  },
  {
   "cell_type": "code",
   "execution_count": null,
   "metadata": {},
   "outputs": [],
   "source": []
  }
 ],
 "metadata": {
  "kernelspec": {
   "display_name": "Python 3 (ipykernel)",
   "language": "python",
   "name": "python3"
  },
  "language_info": {
   "codemirror_mode": {
    "name": "ipython",
    "version": 3
   },
   "file_extension": ".py",
   "mimetype": "text/x-python",
   "name": "python",
   "nbconvert_exporter": "python",
   "pygments_lexer": "ipython3",
   "version": "3.9.12"
  }
 },
 "nbformat": 4,
 "nbformat_minor": 4
}
