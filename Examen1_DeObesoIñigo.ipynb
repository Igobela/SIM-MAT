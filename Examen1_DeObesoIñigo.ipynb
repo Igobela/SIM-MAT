{
 "cells": [
  {
   "cell_type": "markdown",
   "metadata": {},
   "source": [
    "# Examen Módulo 1 - Optimización.\n",
    "\n",
    "**Lea cuidadosamente las siguientes indicaciones antes de comenzar el examen:**\n",
    "- Para resolver el examen edite este mismo archivo y renómbrelo de la siguiente manera: *Examen1_ApellidoNombre*, donde *ApellidoNombre* corresponde a su apellido paterno con la inicial en mayúscula, seguido de su primer nombre con la inicial en mayúscula **sin acentos**. Por ejemplo, en mi caso el nombre del archivo sería *Examen1_ArellanoCarlos*.\n",
    "- Resuelva los puntos en el espacio provisto. Si requiere agregar más celdas para código o escritura, hágalo (`Esc`+`B`) o (`Esc`+`A`).\n",
    "- Recuerde que también se está evaluando su capacidad de interpretar los resultados. Escriba sus interpretaciones/conclusiones en celdas utilizando *Markdown*.\n",
    "- El formato de presentación de todo el examen en general debe ser adecuado. Use tamaños de letra, colores, etiquetas, etcétera.\n",
    "- No se resuelven dudas de ningún tipo por los profesores de la asignatura. Por favor, absténgase de preguntar.\n",
    "- Revise bien el tipo de examen. Sólo se le calificará si realiza el tipo de examen asignado."
   ]
  },
  {
   "cell_type": "code",
   "execution_count": 2,
   "metadata": {},
   "outputs": [],
   "source": [
    "import pandas as pd\n",
    "import sympy as sp\n",
    "import numpy as np\n",
    "import matplotlib.pyplot as plt\n",
    "%matplotlib inline"
   ]
  },
  {
   "cell_type": "markdown",
   "metadata": {},
   "source": [
    "---\n",
    "# Primer punto. Optimización de funciones con `SymPy`\n",
    "\n",
    "**Volumen máximo**. Considere un cono circular recto inscrito en una esfera de radio $r$:"
   ]
  },
  {
   "cell_type": "code",
   "execution_count": 3,
   "metadata": {},
   "outputs": [
    {
     "data": {
      "image/png": "[encoded data removed]",
      "text/plain": [
       "<Figure size 432x288 with 1 Axes>"
      ]
     },
     "metadata": {
      "needs_background": "light"
     },
     "output_type": "display_data"
    }
   ],
   "source": [
    "import numpy as np\n",
    "import matplotlib.pyplot as plt\n",
    "import matplotlib.patches as patches\n",
    "%matplotlib inline\n",
    "\n",
    "B1 = patches.Arc((0, -0.4), 1.8,0.3,theta2=180,fc='None',ls='--',color='k')\n",
    "B2 = patches.Arc((0, -0.4), 1.8,0.3,theta1=180,fc='None',color='k')\n",
    "C = patches.Circle((0, 0), 1,fc='None',lw=2,color='k');\n",
    "ax = plt.gca()\n",
    "ax.add_artist(B1)\n",
    "ax.add_artist(B2)\n",
    "ax.add_artist(C)\n",
    "\n",
    "plt.plot([0.9,0,-0.9],[-0.4,1,-0.4],'k')\n",
    "plt.plot([0,0],[-0.4,1],'--r')\n",
    "plt.plot([0,0],[-0.4,0],'ok')\n",
    "plt.plot([0,0.9],[0,-0.4],'--r')\n",
    "plt.plot([-0.2,0],[-0.4,-0.4],'--k')\n",
    "plt.plot([-0.2,0],[1,1],'--k')\n",
    "plt.plot([-0.14,-0.14],[-0.4,0.2],'--k')\n",
    "plt.plot([-0.14,-0.14],[0.4,1],'--k')\n",
    "\n",
    "plt.text(-0.18,0.26,'h')\n",
    "plt.text(0.4,-0.1,'$r$')\n",
    "plt.text(0.05,0.4,'$r$')\n",
    "\n",
    "plt.axis([-1.7,1.7,-1.1,1.1])\n",
    "plt.axis('off')\n",
    "plt.show()"
   ]
  },
  {
   "cell_type": "markdown",
   "metadata": {},
   "source": [
    "1. Escriba el volumen $V$ del cono como una función de la altura $h$ de éste. Realice este punto usando fórmulas de $\\LaTeX$, en celdas *Markdown*.\n",
    "2. Determinar el valor de $h$ que maximiza el volumen para un radio $r=2$.\n",
    "3. ¿Cuál es el volumen máximo del cono?"
   ]
  },
  {
   "cell_type": "markdown",
   "metadata": {},
   "source": [
    "### 1. Fórmula de optimización de un cono: ###\n",
    "\n",
    "$$ MAX h = 2R $$\n",
    "\n",
    "- Se despeja el volúmen para maximizar:\n",
    "\n",
    "$$ V = \\frac{\\pi r^2h}{3} $$\n",
    "\n",
    "- Relación entre $h$ y $r$:\n",
    "$$ \\frac{h}{r}= \\frac{r}{2R-h} $$\n",
    "\n",
    "$$ h(2R-h) = r^2$$\n",
    "\n",
    "- Sustituímos en $V$ para resolver $h$:\n",
    "$$ V = \\frac{\\pi h(2R-h)h}{3}$$\n",
    "\n",
    "$$ V = \\frac{\\pi (2R-h)h^2}{3}$$\n",
    "\n",
    "$$ V = \\frac{(2R\\pi -\\pi h)h^2}{3}$$\n",
    "\n",
    "$$ V = \\frac{2R\\pi h^2 -\\pi h^3}{3}$$\n",
    "\n",
    "- El radio máximo es 2, $R = 2$\n",
    "\n",
    "$$ V = \\frac{4\\pi h^2-h^3\\pi}{3} $$"
   ]
  },
  {
   "cell_type": "code",
   "execution_count": 2,
   "metadata": {},
   "outputs": [],
   "source": [
    "import sympy as sp\n",
    "import numpy as np\n",
    "import matplotlib.pyplot as plt\n",
    "%matplotlib inline"
   ]
  },
  {
   "cell_type": "code",
   "execution_count": 3,
   "metadata": {},
   "outputs": [
    {
     "data": {
      "text/latex": [
       "$\\displaystyle - 1.0471975511966 h^{3} + 4.18879020478639 h^{2}$"
      ],
      "text/plain": [
       "-1.0471975511966*h**3 + 4.18879020478639*h**2"
      ]
     },
     "execution_count": 3,
     "metadata": {},
     "output_type": "execute_result"
    }
   ],
   "source": [
    "sp.var(\"h\") \n",
    "\n",
    "def funcionVol(h) :\n",
    "    return ((4*np.pi*h**2-h**3*np.pi)/3)\n",
    "            \n",
    "funcionVol(h)"
   ]
  },
  {
   "cell_type": "code",
   "execution_count": 4,
   "metadata": {
    "scrolled": true
   },
   "outputs": [
    {
     "data": {
      "text/latex": [
       "$\\displaystyle - 3.14159265358979 h^{2} + 8.37758040957278 h$"
      ],
      "text/plain": [
       "-3.14159265358979*h**2 + 8.37758040957278*h"
      ]
     },
     "execution_count": 4,
     "metadata": {},
     "output_type": "execute_result"
    }
   ],
   "source": [
    "df = sp.diff(funcionVol(h), h)\n",
    "df"
   ]
  },
  {
   "cell_type": "code",
   "execution_count": 5,
   "metadata": {},
   "outputs": [
    {
     "data": {
      "text/latex": [
       "$\\displaystyle 2.66666666666667$"
      ],
      "text/plain": [
       "2.66666666666667"
      ]
     },
     "execution_count": 5,
     "metadata": {},
     "output_type": "execute_result"
    }
   ],
   "source": [
    "pc = sp.solve(df,h)[1]\n",
    "pc"
   ]
  },
  {
   "cell_type": "markdown",
   "metadata": {},
   "source": [
    "$$ h = 2.67 $$"
   ]
  },
  {
   "cell_type": "code",
   "execution_count": 6,
   "metadata": {
    "scrolled": true
   },
   "outputs": [
    {
     "data": {
      "text/latex": [
       "$\\displaystyle 11.1701072127637$"
      ],
      "text/plain": [
       "11.1701072127637"
      ]
     },
     "execution_count": 6,
     "metadata": {},
     "output_type": "execute_result"
    }
   ],
   "source": [
    "Vol_max = (1/3)*np.pi*(4)*pc\n",
    "Vol_max"
   ]
  },
  {
   "cell_type": "markdown",
   "metadata": {},
   "source": [
    "$$Vol_{max} = 11.17 u^3 $$"
   ]
  },
  {
   "cell_type": "markdown",
   "metadata": {},
   "source": [
    "---\n",
    "# Segundo punto. Programación lineal\n",
    "Una fábrica de confitería está interesada en mezclar tres de sus marcas principales de golosinas (M1, M2, M3) para obtener tres nuevos productos (P1, P2, P3), que desea vender al precio de 4,3,2 u.m. por caja, respectivamente.\n",
    "La empresa puede importar 2000 cajas de M1, 4000 de la M2 y 1000 de la M3, siendo el precio que debe pagar de 3,2 y 1 u.m. por cada tipo de caja.\n",
    "\n",
    "El proveedor solicita que el Producto 1 (P1) contenga como mínimo el 80% de M1 y como máximo el 20% de M3. El producto 2 (P2) deberá contener como mínimo el 20% de M1 y no más del 80% de M3. El producto 3 (P3) no podrá contener más del 70% de M3.\n",
    "\n",
    "Encuentre la combinación que le genere el **máximo** beneficio (precio de venta menos el costo).\n",
    "\n",
    "Use las variables $x_{ij}$: Como la cantidad de la marca $i$ en el producto $j$.\n",
    "\n",
    "1. Escriba la función objetivo a **minimizar** junto con las restricciones, explicando detalladamente cada paso (usando fórmulas de $\\LaTeX$, en celdas Markdown). Además escriba el problema en la forma \\begin{equation}\n",
    "\\begin{array}{ll}\n",
    "\\min_{\\boldsymbol{x}} & \\boldsymbol{c}^T\\boldsymbol{x} \\\\\n",
    "\\text{s. a. }        & \\boldsymbol{A}_{eq}\\boldsymbol{x}=\\boldsymbol{b}_{eq} \\\\\n",
    "                     & \\boldsymbol{A}\\boldsymbol{x}\\leq\\boldsymbol{b},\n",
    "\\end{array}\\qquad\n",
    "\\end{equation}\n",
    "2. Resuelva el problema utilizando la función `linprog`. ¿Cuál es la combinación óptima para cada producto?, ¿Cuál es el beneficio que se genera?"
   ]
  },
  {
   "cell_type": "markdown",
   "metadata": {},
   "source": [
    "#### 1. Identificar criterio de optimizacion:\n",
    "- Maximizar beneficio\n",
    "\n",
    "#### 2. Identificar información pertinente para función de costo:\n",
    "Costos:\n",
    "- $M_1$ = 3\n",
    "- $M_2$ = 2\n",
    "- $M_3$ = 1\n",
    "\n",
    "Entradas:\n",
    "- $P_1$ = 4\n",
    "- $P_2$ = 3\n",
    "- $P_3$ = 2\n",
    "\n",
    "**Función de costo:**\n",
    "$$ aP_1 + bP_2 + cP_3 - dM_1 - eM_2 - fM_3$$\n",
    "\n",
    "#### 3. Definir variables de optimización:\n",
    "\n",
    "- Fórmulas de productos:\n",
    "\n",
    "$$ P_1 = x_{11} + x_{21} + x_{31} $$\n",
    "$$ P_2 = x_{12} + x_{22} + x_{32} $$\n",
    "$$ P_3 = x_{13} + x_{23} + x_{33} $$\n",
    "\n",
    "**Si desarrollamos...**\n",
    "\n",
    "$$P_1:$$\n",
    "Min 80% de $M_1$ y max 20% de $M_3$.\n",
    "\n",
    "$$ - 0.2x_{11} +´0.8x_{21} + 0.8x_{31} \\leq 0 $$\n",
    "$$ 0.8x_{31} - 0.2x_{21} - 0.2x_{11} \\leq 0 $$\n",
    "\n",
    "\n",
    "$$P_2:$$\n",
    "Min 20% de $M_1$ y max 80% de $M_3$.\n",
    "\n",
    "$$ -0.8x_{12} + 0.2x_{22} + 0.2x_{32} \\leq 0 $$\n",
    "$$ 0.2x_{32} - 0.8x_{22} - 0.8x_{12} \\leq 0 $$\n",
    "\n",
    "\n",
    "$$P_3:$$\n",
    "Max 80% de $M_3$.\n",
    "\n",
    "$$ 0.3x_{33} - 0.7x_{23} - 0.7x_{13} \\leq 0 $$\n",
    "\n",
    "- Fórmulas totales:\n",
    "$$ M_1 $$\n",
    "\n",
    "$$ 2000 = x_{11} + x_{12} + x_{13} $$\n",
    "\n",
    "$$ M_2 $$\n",
    "\n",
    "$$ 4000 = x_{21} + x_{22} + x_{23} $$\n",
    "\n",
    "$$ M_3 $$\n",
    "\n",
    "$$ 1000 = x_{31} + x_{32} + x_{33} $$\n",
    "\n",
    "\n",
    "#### 4. Escribir el resto de la información con respecto a las variables:\n",
    "\n",
    "- Simplificamos la función de costo:\n",
    "\n",
    "$$ 4(x_{11} + x_{21} + x_{31}) + 3(x_{12} + x_{22} + x_{32}) + 2(x_{13} + x_{23} + x_{33}) - 3(x_{11} + x_{12} + x_{13}) - 2(x_{21} + x_{22} + x_{23}) - 1(x_{31} + x_{32} + x_{33}) $$\n",
    "\n",
    "$$ x_{11} +  2x_{21} + 3x_{31} + x_{22} +2x_{32} - x_{13} + x_{33} $$\n",
    "$$MAX (-x_{11} -  2x_{21} - 3x_{31} - x_{22} -2x_{32} + x_{13} - x_{33}) $$\n"
   ]
  },
  {
   "cell_type": "code",
   "execution_count": 4,
   "metadata": {},
   "outputs": [
    {
     "data": {
      "text/plain": [
       "     con: array([], dtype=float64)\n",
       "     fun: -7000.0\n",
       " message: 'Optimization terminated successfully.'\n",
       "     nit: 10\n",
       "   slack: array([   0.,  200.,    0., 3800.,    0.,    0.,    0.,    0.])\n",
       "  status: 0\n",
       " success: True\n",
       "       x: array([ 800.,  200.,    0., 1200., 3800., 1000.,    0.,    0.,    0.])"
      ]
     },
     "execution_count": 4,
     "metadata": {},
     "output_type": "execute_result"
    }
   ],
   "source": [
    "import scipy.optimize as opt\n",
    "import numpy as np\n",
    "\n",
    "c = np.array([-1,\n",
    "              -2,\n",
    "              -3,\n",
    "              0,\n",
    "              -1,\n",
    "              -2,\n",
    "              1,\n",
    "              0,\n",
    "              -1]) #constantes funcion max o min\n",
    "\n",
    "A = np.array([\n",
    "    [-0.2, 0.8, 0.8, 0, 0, 0, 0, 0, 0],\n",
    "    [-0.2, -0.2, 0.8, 0, 0, 0, 0, 0, 0],\n",
    "    [0, 0, 0, -0.8, 0.2, 0.2, 0, 0, 0],\n",
    "    [0, 0, 0, -0.8, -0.8, 0.2, 0, 0, 0],\n",
    "    [0, 0, 0, 0, 0, 0, -0.7, -0.7, 0.3],\n",
    "    [1, 0, 0, 1, 0, 0, 1, 0, 0],\n",
    "    [0, 1, 0, 0, 1, 0, 0, 1, 0],\n",
    "    [0, 0, 1, 0, 0, 1, 0, 0, 1]\n",
    "    \n",
    "    \n",
    "]) #matriz por restriccion (restricciones)\n",
    "\n",
    "b = np.array([0,\n",
    "              0,\n",
    "              0,\n",
    "              0,\n",
    "              0,\n",
    "              2000,\n",
    "              4000,\n",
    "              1000]) #totales\n",
    "\n",
    "opt.linprog(c, A, b, method=\"simplex\")"
   ]
  },
  {
   "cell_type": "markdown",
   "metadata": {},
   "source": [
    "#### Solución:\n",
    "- Valores de variables:\n",
    "\n",
    "$$x_{11}= 800$$\n",
    "$$x_{21}= 200$$\n",
    "$$x_{31}= 0$$\n",
    "$$x_{12}= 1200$$\n",
    "$$x_{22}= 3800$$\n",
    "$$x_{32}= 1000$$\n",
    "$$x_{13}= 0$$\n",
    "$$x_{23}= 0$$\n",
    "$$x_{33}= 0$$\n",
    "\n",
    "- Máxima utilidad:\n",
    "$7,000.00$\n"
   ]
  },
  {
   "cell_type": "markdown",
   "metadata": {},
   "source": [
    "---\n",
    "# Tercer punto. Ajuste de curvas\n",
    "Los siguientes datos extraidos de la Federal Reserve Economic Data (FRED), son los salarios por empleado equivalente a tiempo completo en industrias privadas de EE.UU.: fondos, fideicomisos, etc. **entre los años 1998 y 2018**. \n",
    "\n",
    "https://www.quandl.com/data/FRED/N4461C0A052NBEA-Wage-and-salary-accruals-per-full-time-equivalent-employee-Domestic-private-industries-Funds-trusts-and-other-financial-vehicles "
   ]
  },
  {
   "cell_type": "code",
   "execution_count": 10,
   "metadata": {},
   "outputs": [],
   "source": [
    "import numpy as np\n",
    "y=np.array([ 55887.,  59365.,  65435.,  68065.,  71918.,  77257.,  92036.,\n",
    "        92645.,  99857.,  74935.,  78597.,  83134.,  87372., 104196.,\n",
    "       112597., 133821., 129107., 138259., 139083., 143762., 147334.])\n",
    "x=np.arange(8,29)"
   ]
  },
  {
   "cell_type": "code",
   "execution_count": 11,
   "metadata": {
    "scrolled": true
   },
   "outputs": [
    {
     "data": {
      "image/png": "[encoded data removed]",
      "text/plain": [
       "<Figure size 432x288 with 1 Axes>"
      ]
     },
     "metadata": {
      "needs_background": "light"
     },
     "output_type": "display_data"
    }
   ],
   "source": [
    "plt.plot(x+1980,y)\n",
    "plt.grid()"
   ]
  },
  {
   "cell_type": "markdown",
   "metadata": {},
   "source": [
    "1. Ajuste los salarios con polinomios de grado 1 a 3 y muestre los errores de forma gráfica, ¿Qué polinómio se ajusta mejor?\n",
    "2. Muestre en un gráfico los datos y el polinómio que mejor se ajuste\n",
    "3. Use el modelo para averiguar el salario a mediados del año 2005 y para predecirlo en el año 2025. ¿Qué diferencias encuentra en cuanto a la interpolación (esto es, obtener un punto medio) y la extrapolación  (es decir, obtener un dato fuera del rango conocido)?"
   ]
  },
  {
   "cell_type": "code",
   "execution_count": 12,
   "metadata": {},
   "outputs": [],
   "source": [
    "def funcion_sal(beta,X,y):\n",
    "    m, n = X.shape\n",
    "    beta = np.reshape(beta, [n,-1])\n",
    "    pred = X @ beta\n",
    "    sal = (y - pred).T @ (y - pred)\n",
    "    return sal [0][0]"
   ]
  },
  {
   "cell_type": "code",
   "execution_count": 13,
   "metadata": {},
   "outputs": [
    {
     "data": {
      "text/plain": [
       "array([[ 55887.],\n",
       "       [ 59365.],\n",
       "       [ 65435.],\n",
       "       [ 68065.],\n",
       "       [ 71918.],\n",
       "       [ 77257.],\n",
       "       [ 92036.],\n",
       "       [ 92645.],\n",
       "       [ 99857.],\n",
       "       [ 74935.],\n",
       "       [ 78597.],\n",
       "       [ 83134.],\n",
       "       [ 87372.],\n",
       "       [104196.],\n",
       "       [112597.],\n",
       "       [133821.],\n",
       "       [129107.],\n",
       "       [138259.],\n",
       "       [139083.],\n",
       "       [143762.],\n",
       "       [147334.]])"
      ]
     },
     "execution_count": 13,
     "metadata": {},
     "output_type": "execute_result"
    }
   ],
   "source": [
    "m = len(y)\n",
    "ones = np.ones([m,1])\n",
    "x1 = np.reshape(list(x),[m,-1])\n",
    "x2 = np.reshape(x**2,[m,-1])\n",
    "x3 = np.reshape(x**3,[m,-1])\n",
    "\n",
    "# matrices de variables x\n",
    "MatX1 = np.hstack((ones,x1))\n",
    "MatX2 = np.hstack((ones,x1,x2))\n",
    "MatX3 = np.hstack((ones,x1,x2,x3))\n",
    "\n",
    "# BETA \n",
    "beta1 = np.random.rand(2)\n",
    "beta2 = np.random.rand(3)\n",
    "beta3 = np.random.rand(4)\n",
    "\n",
    "y = np.reshape(y,[m,-1])\n",
    "y"
   ]
  },
  {
   "cell_type": "code",
   "execution_count": 14,
   "metadata": {},
   "outputs": [
    {
     "data": {
      "text/plain": [
       "      fun: 2247933171.8715076\n",
       " hess_inv: array([[ 0.23425301, -0.01169141],\n",
       "       [-0.01169141,  0.00064953]])\n",
       "      jac: array([0., 0.])\n",
       "  message: 'Optimization terminated successfully.'\n",
       "     nfev: 36\n",
       "      nit: 5\n",
       "     njev: 12\n",
       "   status: 0\n",
       "  success: True\n",
       "        x: array([16474.62110952,  4520.35484397])"
      ]
     },
     "execution_count": 14,
     "metadata": {},
     "output_type": "execute_result"
    }
   ],
   "source": [
    "import scipy.optimize as opt\n",
    "\n",
    "sol1 = opt.minimize(funcion_sal,beta1,args=(MatX1,y))\n",
    "sol2 = opt.minimize(funcion_sal,beta2,args=(MatX2,y))\n",
    "sol3 = opt.minimize(funcion_sal,beta3,args=(MatX3,y))\n",
    "sol1"
   ]
  },
  {
   "cell_type": "code",
   "execution_count": 15,
   "metadata": {},
   "outputs": [
    {
     "data": {
      "text/plain": [
       "      fun: 1818616350.782032\n",
       " hess_inv: array([[ 2.09454376e+00, -2.44803867e-01,  6.47583528e-03],\n",
       "       [-2.44803867e-01,  2.98578760e-02, -8.11352475e-04],\n",
       "       [ 6.47583528e-03, -8.11352475e-04,  2.25364779e-05]])\n",
       "      jac: array([ 0.,  0., 32.])\n",
       "  message: 'Desired error not necessarily achieved due to precision loss.'\n",
       "     nfev: 184\n",
       "      nit: 8\n",
       "     njev: 43\n",
       "   status: 2\n",
       "  success: False\n",
       "        x: array([56220.67658429,  -459.45749337,   138.32864978])"
      ]
     },
     "execution_count": 15,
     "metadata": {},
     "output_type": "execute_result"
    }
   ],
   "source": [
    "sol2"
   ]
  },
  {
   "cell_type": "code",
   "execution_count": 16,
   "metadata": {},
   "outputs": [
    {
     "data": {
      "text/plain": [
       "      fun: 1746809632.599916\n",
       " hess_inv: array([[ 1.41474869e-02, -1.56225369e-02,  1.47507320e-03,\n",
       "        -3.45489144e-05],\n",
       "       [-1.56225369e-02,  1.72575104e-02, -1.63497775e-03,\n",
       "         3.83907214e-05],\n",
       "       [ 1.47507320e-03, -1.63497775e-03,  1.59904792e-04,\n",
       "        -3.84181144e-06],\n",
       "       [-3.45489144e-05,  3.83907214e-05, -3.84181144e-06,\n",
       "         9.39995055e-08]])\n",
       "      jac: array([   0.,    0.,  -64., -672.])\n",
       "  message: 'Desired error not necessarily achieved due to precision loss.'\n",
       "     nfev: 346\n",
       "      nit: 10\n",
       "     njev: 67\n",
       "   status: 2\n",
       "  success: False\n",
       "        x: array([6313.23626432, 9271.93956437, -441.57504391,   10.73915999])"
      ]
     },
     "execution_count": 16,
     "metadata": {},
     "output_type": "execute_result"
    }
   ],
   "source": [
    "sol3"
   ]
  },
  {
   "cell_type": "code",
   "execution_count": 17,
   "metadata": {},
   "outputs": [
    {
     "data": {
      "image/png": "[encoded data removed]",
      "text/plain": [
       "<Figure size 432x288 with 1 Axes>"
      ]
     },
     "metadata": {
      "needs_background": "light"
     },
     "output_type": "display_data"
    }
   ],
   "source": [
    "y_pred1 = MatX1 @ sol1.x\n",
    "y_pred2 = MatX2 @ sol2.x\n",
    "y_pred3 = MatX3 @ sol3.x\n",
    "\n",
    "plt.figure()\n",
    "plt.plot(x+1980,y)\n",
    "plt.plot(x+1980,y_pred1,\"g\", label = \"Grado 1\")\n",
    "plt.plot(x+1980,y_pred2,\"b\", label = \"Grado 2\")\n",
    "plt.plot(x+1980,y_pred3,\"y\", label = \"Grado 3\")\n",
    "\n",
    "plt.legend()\n",
    "plt.grid()"
   ]
  },
  {
   "cell_type": "markdown",
   "metadata": {},
   "source": [
    "- El polinomio que se ajusta mejor es el del grado 1 ya que el grado 2 y 3 asumen que va a haber un crecimiento más agresivo por lo que podría parecer que están \"sobre-ajustadas\".\n"
   ]
  },
  {
   "cell_type": "code",
   "execution_count": 18,
   "metadata": {},
   "outputs": [
    {
     "data": {
      "text/plain": [
       "array([ 8,  9, 10, 11, 12, 13, 14, 15, 16, 17, 18, 19, 20, 21, 22, 23, 24,\n",
       "       25, 26, 27, 28])"
      ]
     },
     "execution_count": 18,
     "metadata": {},
     "output_type": "execute_result"
    }
   ],
   "source": [
    "x"
   ]
  },
  {
   "cell_type": "markdown",
   "metadata": {},
   "source": [
    "### valor en 2005 ###"
   ]
  },
  {
   "cell_type": "code",
   "execution_count": 19,
   "metadata": {},
   "outputs": [
    {
     "data": {
      "text/plain": [
       "25.5"
      ]
     },
     "execution_count": 19,
     "metadata": {},
     "output_type": "execute_result"
    }
   ],
   "source": [
    "import sympy as sp\n",
    "sp.var(\"x\")\n",
    "y1 = sol1.x[0] + sol1.x[1]*x\n",
    "x_2005 = 2005.5 - 1980\n",
    "x_2005"
   ]
  },
  {
   "cell_type": "code",
   "execution_count": 20,
   "metadata": {},
   "outputs": [
    {
     "data": {
      "text/latex": [
       "$\\displaystyle 131743.669630694$"
      ],
      "text/plain": [
       "131743.669630694"
      ]
     },
     "execution_count": 20,
     "metadata": {},
     "output_type": "execute_result"
    }
   ],
   "source": [
    "sal2005 = y1.subs(x,x_2005)\n",
    "sal2005"
   ]
  },
  {
   "cell_type": "markdown",
   "metadata": {},
   "source": [
    "### Valor en 2025 ###"
   ]
  },
  {
   "cell_type": "code",
   "execution_count": 21,
   "metadata": {},
   "outputs": [
    {
     "data": {
      "text/plain": [
       "45"
      ]
     },
     "execution_count": 21,
     "metadata": {},
     "output_type": "execute_result"
    }
   ],
   "source": [
    "x_2025 = 2025 - 1980\n",
    "x_2025"
   ]
  },
  {
   "cell_type": "code",
   "execution_count": 22,
   "metadata": {},
   "outputs": [
    {
     "data": {
      "text/latex": [
       "$\\displaystyle 219890.589088059$"
      ],
      "text/plain": [
       "219890.589088059"
      ]
     },
     "execution_count": 22,
     "metadata": {},
     "output_type": "execute_result"
    }
   ],
   "source": [
    "sal2025 = y1.subs(x,x_2025)\n",
    "sal2025"
   ]
  },
  {
   "cell_type": "markdown",
   "metadata": {},
   "source": [
    "### Conclusiones ###\n",
    "- El problema entre extrapolar y predecir datos es que por más preciso que sea el modelo no se puede estar seguro del valor en tal tiempo \"x\"."
   ]
  }
 ],
 "metadata": {
  "kernelspec": {
   "display_name": "Python 3 (ipykernel)",
   "language": "python",
   "name": "python3"
  },
  "language_info": {
   "codemirror_mode": {
    "name": "ipython",
    "version": 3
   },
   "file_extension": ".py",
   "mimetype": "text/x-python",
   "name": "python",
   "nbconvert_exporter": "python",
   "pygments_lexer": "ipython3",
   "version": "3.9.12"
  }
 },
 "nbformat": 4,
 "nbformat_minor": 4
}
