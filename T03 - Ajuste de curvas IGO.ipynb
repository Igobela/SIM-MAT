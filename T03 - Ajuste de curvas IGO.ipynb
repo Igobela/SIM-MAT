{
 "cells": [
  {
   "cell_type": "markdown",
   "metadata": {},
   "source": [
    "# Tarea - Ajuste de curvas"
   ]
  },
  {
   "cell_type": "code",
   "execution_count": 2,
   "metadata": {},
   "outputs": [],
   "source": [
    "import numpy as np\n",
    "import pandas as pd\n",
    "import matplotlib.pyplot as plt\n",
    "%matplotlib inline"
   ]
  },
  {
   "cell_type": "markdown",
   "metadata": {},
   "source": [
    "---\n",
    "### Problema 1\n",
    "\n",
    "Los siguientes datos representan el costo en dólares de la electricidad según Western Electricity Coordinating Council desde el 2014 (y su pronóstico para el 2040)\n",
    "\n",
    "Tomado de:\n",
    "https://www.quandl.com/data/EIA/AEO_2016_REF_NO_CPP_PRCE_NA_COMM_NA_ELC_NA_WECCRKS_NCNTPKWH_A-Electricity-End-Use-Prices-Commercial-Western-Electricity-Coordinating-Council-Rockies-No-CPP-AEO2016"
   ]
  },
  {
   "cell_type": "code",
   "execution_count": 3,
   "metadata": {},
   "outputs": [],
   "source": [
    "import numpy as np\n",
    "# Datos extraidos de la página de quandl\n",
    "data = np.array([10.051101,  9.259127,  9.444813,  9.557723,  9.977324, 10.298326,\n",
    "       10.447217, 10.550506, 10.590784, 10.657418, 10.743085, 10.831965,\n",
    "       10.988435, 11.153055, 11.313326, 11.557165, 11.860136, 12.122511,\n",
    "       12.356448, 12.611391, 12.814569, 13.111372, 13.357134, 13.559012,\n",
    "       13.85861 , 14.135924, 14.436149])"
   ]
  },
  {
   "cell_type": "markdown",
   "metadata": {},
   "source": [
    "1. Ajuste estos datos a polinomios de grado 1 hasta 3 (los datos en $x$ corresponden a los años de 2014 a 2040, sin embargo son valores muy grandes para elevarlos a una potencia, use una representación para estos años, por ejemplo $2014 \\rightarrow 0$ y $2040\\rightarrow 26$).\n",
    "\n",
    "2. Muestre las tres curvas ajustadas junto a los datos de los costos en un solo gráfico"
   ]
  },
  {
   "cell_type": "code",
   "execution_count": 4,
   "metadata": {},
   "outputs": [
    {
     "data": {
      "image/png": "[encoded data removed]",
      "text/plain": [
       "<Figure size 432x288 with 1 Axes>"
      ]
     },
     "metadata": {
      "needs_background": "light"
     },
     "output_type": "display_data"
    }
   ],
   "source": [
    "m = len(data)\n",
    "x = np.linspace(0,26, m)\n",
    "plt.figure()\n",
    "plt.scatter(x, data)\n",
    "plt.grid()"
   ]
  },
  {
   "cell_type": "code",
   "execution_count": 5,
   "metadata": {},
   "outputs": [
    {
     "data": {
      "text/plain": [
       "array([[10.051101],\n",
       "       [ 9.259127],\n",
       "       [ 9.444813],\n",
       "       [ 9.557723],\n",
       "       [ 9.977324],\n",
       "       [10.298326],\n",
       "       [10.447217],\n",
       "       [10.550506],\n",
       "       [10.590784],\n",
       "       [10.657418],\n",
       "       [10.743085],\n",
       "       [10.831965],\n",
       "       [10.988435],\n",
       "       [11.153055],\n",
       "       [11.313326],\n",
       "       [11.557165],\n",
       "       [11.860136],\n",
       "       [12.122511],\n",
       "       [12.356448],\n",
       "       [12.611391],\n",
       "       [12.814569],\n",
       "       [13.111372],\n",
       "       [13.357134],\n",
       "       [13.559012],\n",
       "       [13.85861 ],\n",
       "       [14.135924],\n",
       "       [14.436149]])"
      ]
     },
     "execution_count": 5,
     "metadata": {},
     "output_type": "execute_result"
    }
   ],
   "source": [
    "def Fcosto(beta, X, y, s):\n",
    "    beta = np.reshape(beta, [s,-1])\n",
    "    pred = X @ beta\n",
    "    costo = (y-pred).T @ (y-pred)\n",
    "    return costo [0][0]\n",
    "\n",
    "# Grados x columna 1\n",
    "ones = np.ones([m,1])\n",
    "x1 = np.reshape(x,[m,-1])\n",
    "x2 = np.reshape(x**2,[m,-1])\n",
    "x3 = np.reshape(x**3,[m,-1])\n",
    "\n",
    "# matrices de variables x\n",
    "\n",
    "MatX1 = np.hstack((ones,x1))\n",
    "MatX2 = np.hstack((ones,x1,x2))\n",
    "MatX3 = np.hstack((ones,x1,x2,x3))\n",
    "\n",
    "# BETA \n",
    "beta1 = np.random.rand(2)\n",
    "beta2 = np.random.rand(3)\n",
    "beta3 = np.random.rand(4)\n",
    "\n",
    "y = np.reshape(data,[len(data),-1])\n",
    "y"
   ]
  },
  {
   "cell_type": "code",
   "execution_count": 6,
   "metadata": {
    "scrolled": true
   },
   "outputs": [
    {
     "name": "stdout",
     "output_type": "stream",
     "text": [
      "Grado 1: 2632.779221891108\n",
      "Grado 2: 88574.49321925695\n",
      "Grado 3: 625645594.2865179\n"
     ]
    }
   ],
   "source": [
    "print(\"Grado 1:\",Fcosto(beta1,MatX1,y,2))\n",
    "print(\"Grado 2:\",Fcosto(beta2,MatX2,y,3))\n",
    "print(\"Grado 3:\",Fcosto(beta3,MatX3,y,4))"
   ]
  },
  {
   "cell_type": "code",
   "execution_count": 7,
   "metadata": {},
   "outputs": [
    {
     "data": {
      "text/plain": [
       "      fun: 2.3704889518153527\n",
       " hess_inv: array([[ 0.07010639, -0.00396824],\n",
       "       [-0.00396824,  0.00030525]])\n",
       "      jac: array([-2.98023224e-08,  2.98023224e-08])\n",
       "  message: 'Optimization terminated successfully.'\n",
       "     nfev: 21\n",
       "      nit: 6\n",
       "     njev: 7\n",
       "   status: 0\n",
       "  success: True\n",
       "        x: array([9.11567633, 0.18667056])"
      ]
     },
     "execution_count": 7,
     "metadata": {},
     "output_type": "execute_result"
    }
   ],
   "source": [
    "import scipy.optimize as opt\n",
    "\n",
    "sol1 = opt.minimize(Fcosto,beta1,args=(MatX1,y,2))\n",
    "sol2 = opt.minimize(Fcosto,beta2,args=(MatX2,y,3))\n",
    "sol3 = opt.minimize(Fcosto,beta3,args=(MatX3,y,4))\n",
    "sol1"
   ]
  },
  {
   "cell_type": "code",
   "execution_count": 8,
   "metadata": {
    "scrolled": true
   },
   "outputs": [
    {
     "data": {
      "text/plain": [
       "      fun: 0.8443845174305169\n",
       " hess_inv: array([[ 1.44111097e-01, -2.17399145e-02,  6.83648047e-04],\n",
       "       [-2.17399145e-02,  4.57200022e-03, -1.64124034e-04],\n",
       "       [ 6.83648047e-04, -1.64124034e-04,  6.31303454e-06]])\n",
       "      jac: array([0.00019686, 0.00062652, 0.0114895 ])\n",
       "  message: 'Desired error not necessarily achieved due to precision loss.'\n",
       "     nfev: 179\n",
       "      nit: 4\n",
       "     njev: 42\n",
       "   status: 2\n",
       "  success: False\n",
       "        x: array([9.59130907e+00, 7.25208238e-02, 4.39035159e-03])"
      ]
     },
     "execution_count": 8,
     "metadata": {},
     "output_type": "execute_result"
    }
   ],
   "source": [
    "sol2"
   ]
  },
  {
   "cell_type": "code",
   "execution_count": 9,
   "metadata": {},
   "outputs": [
    {
     "data": {
      "text/plain": [
       "      fun: 0.8404346758260841\n",
       " hess_inv: array([[ 2.27240051e-01, -4.86033109e+00,  4.54480101e-01,\n",
       "        -1.09795455e-02],\n",
       "       [-4.86033109e+00,  1.03956489e+02, -9.72066216e+00,\n",
       "         2.34834457e-01],\n",
       "       [ 4.54480101e-01, -9.72066216e+00,  9.08960200e-01,\n",
       "        -2.19590909e-02],\n",
       "       [-1.09795455e-02,  2.34834457e-01, -2.19590909e-02,\n",
       "         5.30501767e-04]])\n",
       "      jac: array([ 1.49011612e-08, -7.45058060e-08, -2.40653753e-06, -5.31449914e-05])\n",
       "  message: 'Desired error not necessarily achieved due to precision loss.'\n",
       "     nfev: 332\n",
       "      nit: 10\n",
       "     njev: 64\n",
       "   status: 2\n",
       "  success: False\n",
       "        x: array([9.56752299e+00, 8.46495837e-02, 3.20207438e-03, 3.04659701e-05])"
      ]
     },
     "execution_count": 9,
     "metadata": {},
     "output_type": "execute_result"
    }
   ],
   "source": [
    "sol3"
   ]
  },
  {
   "cell_type": "code",
   "execution_count": 10,
   "metadata": {},
   "outputs": [
    {
     "data": {
      "image/png": "[encoded data removed]",
      "text/plain": [
       "<Figure size 432x288 with 1 Axes>"
      ]
     },
     "metadata": {
      "needs_background": "light"
     },
     "output_type": "display_data"
    }
   ],
   "source": [
    "y1 = sol1.x[0] + sol1.x[1]*x\n",
    "y2 = sol2.x[0] + sol2.x[1]*x + sol2.x[2]*x**2\n",
    "y3 = sol3.x[0] + sol3.x[1]*x + sol3.x[2]*x**2 + sol3.x[3]*x**3\n",
    "\n",
    "plt.figure()\n",
    "plt.scatter(x,data)\n",
    "plt.plot(x,y1,\"r\", label = \"1\")\n",
    "plt.plot(x,y2,\"b\", label = \"2\")\n",
    "plt.plot(x,y3,\"y\", label = \"3\")\n",
    "plt.legend()\n",
    "plt.grid()"
   ]
  },
  {
   "cell_type": "markdown",
   "metadata": {},
   "source": [
    "---"
   ]
  },
  {
   "cell_type": "markdown",
   "metadata": {},
   "source": [
    "___\n",
    "### Problema 2\n",
    "\n",
    "El archivo `population_data.csv` contiene información histórica anual de México relativa a la población, nacimientos y muertes desde el año 1950 hasta el año 2015. La primer columna corresponde a los años, la segunda a la población, la tercera a los nacimientos y la última a los decesos.\n",
    "\n",
    "Tomado de: https://en.wikipedia.org/wiki/Demographics_of_Mexico.\n",
    "\n",
    "Importe estos datos usando la función `read_csv` del paquete `pandas`\n",
    "\n",
    "1. Usando los años como variable independiente $x$ y la población como variable dependiente $y$, ajustar polinomios de grado 1 hasta grado 3.\n",
    "\n",
    "    * Mostrar en un solo gráfico los datos de población contra los años, y los polinomios ajustados.\n",
    "\n",
    "    * Graficar el error cuadrático acumulado contra el número de términos.\n",
    "\n",
    "2. Repetir el punto 1 usando los nacimientos como variable dependiente $y$. Grafique las curvas ajustadas junto con los datos de nacimientos. Vea en un gráfico el error acumulado."
   ]
  },
  {
   "cell_type": "markdown",
   "metadata": {},
   "source": [
    "---"
   ]
  },
  {
   "cell_type": "markdown",
   "metadata": {},
   "source": [
    "#### 1. Usando los años como variable independiente $x$ y la población como variable dependiente $y$ ####"
   ]
  },
  {
   "cell_type": "code",
   "execution_count": 11,
   "metadata": {},
   "outputs": [
    {
     "data": {
      "image/png": "[encoded data removed]",
      "text/plain": [
       "<Figure size 432x288 with 1 Axes>"
      ]
     },
     "metadata": {
      "needs_background": "light"
     },
     "output_type": "display_data"
    }
   ],
   "source": [
    "import pandas as pd\n",
    "data = pd.read_csv(\"population_data.csv\")\n",
    "Poblacion = np.array(data[\"Poblacion\"])\n",
    "\n",
    "n = len(Poblacion)\n",
    "x = np.linspace(0,n,n)\n",
    "plt.figure\n",
    "plt.scatter(x,Poblacion)\n",
    "plt.grid()\n"
   ]
  },
  {
   "cell_type": "code",
   "execution_count": 12,
   "metadata": {},
   "outputs": [
    {
     "data": {
      "text/plain": [
       "array([[ 28296],\n",
       "       [ 29110],\n",
       "       [ 29980],\n",
       "       [ 30904],\n",
       "       [ 31880],\n",
       "       [ 32906],\n",
       "       [ 33978],\n",
       "       [ 35095],\n",
       "       [ 36253],\n",
       "       [ 37448],\n",
       "       [ 38677],\n",
       "       [ 39939],\n",
       "       [ 41234],\n",
       "       [ 42564],\n",
       "       [ 43931],\n",
       "       [ 45339],\n",
       "       [ 46784],\n",
       "       [ 48264],\n",
       "       [ 49788],\n",
       "       [ 51361],\n",
       "       [ 52988],\n",
       "       [ 54669],\n",
       "       [ 56396],\n",
       "       [ 58156],\n",
       "       [ 59931],\n",
       "       [ 61708],\n",
       "       [ 63486],\n",
       "       [ 65261],\n",
       "       [ 67013],\n",
       "       [ 68715],\n",
       "       [ 70353],\n",
       "       [ 71916],\n",
       "       [ 73416],\n",
       "       [ 74880],\n",
       "       [ 76351],\n",
       "       [ 77859],\n",
       "       [ 79410],\n",
       "       [ 80999],\n",
       "       [ 82635],\n",
       "       [ 84327],\n",
       "       [ 86077],\n",
       "       [ 87890],\n",
       "       [ 89758],\n",
       "       [ 91654],\n",
       "       [ 93542],\n",
       "       [ 95393],\n",
       "       [ 97202],\n",
       "       [ 98969],\n",
       "       [100679],\n",
       "       [102317],\n",
       "       [103874],\n",
       "       [105340],\n",
       "       [106724],\n",
       "       [108056],\n",
       "       [109382],\n",
       "       [110732],\n",
       "       [112117],\n",
       "       [113530],\n",
       "       [114968],\n",
       "       [116423],\n",
       "       [114255],\n",
       "       [115683],\n",
       "       [117054],\n",
       "       [118395],\n",
       "       [119713],\n",
       "       [121005]], dtype=int64)"
      ]
     },
     "execution_count": 12,
     "metadata": {},
     "output_type": "execute_result"
    }
   ],
   "source": [
    "#Funcion pob\n",
    "def Fpob(beta, X, y, s):\n",
    "    beta = np.reshape(beta, [s,-1])\n",
    "    pred = X @ beta\n",
    "    pob = (y-pred).T @ (y-pred)\n",
    "    return pob [0][0]\n",
    "\n",
    "# Grados x columna 1\n",
    "ones = np.ones([n,1])\n",
    "x1 = np.reshape(x,[n,-1])\n",
    "x2 = np.reshape(x**2,[n,-1])\n",
    "x3 = np.reshape(x**3,[n,-1])\n",
    "\n",
    "# matrices de variables x\n",
    "\n",
    "MatX1 = np.hstack((ones,x1))\n",
    "MatX2 = np.hstack((ones,x1,x2))\n",
    "MatX3 = np.hstack((ones,x1,x2,x3))\n",
    "\n",
    "# BETA \n",
    "beta1 = np.random.rand(2)\n",
    "beta2 = np.random.rand(3)\n",
    "beta3 = np.random.rand(4)\n",
    "\n",
    "y = np.reshape(Poblacion,[n,-1])\n",
    "y"
   ]
  },
  {
   "cell_type": "code",
   "execution_count": 13,
   "metadata": {},
   "outputs": [
    {
     "name": "stdout",
     "output_type": "stream",
     "text": [
      "Grado 1: 421701736094.81116\n",
      "Grado 2: 415380260716.4266\n",
      "Grado 3: 320732313303.7801\n"
     ]
    }
   ],
   "source": [
    "print(\"Grado 1:\",Fpob(beta1,MatX1,y,2))\n",
    "print(\"Grado 2:\",Fpob(beta2,MatX2,y,3))\n",
    "print(\"Grado 3:\",Fpob(beta3,MatX3,y,4))"
   ]
  },
  {
   "cell_type": "code",
   "execution_count": 14,
   "metadata": {},
   "outputs": [
    {
     "data": {
      "text/plain": [
       "      fun: 212137169.5443036\n",
       " hess_inv: array([[ 2.12397621e-02, -4.98574303e-04],\n",
       "       [-4.98574303e-04,  1.68394515e-05]])\n",
       "      jac: array([ 0., -4.])\n",
       "  message: 'Desired error not necessarily achieved due to precision loss.'\n",
       "     nfev: 164\n",
       "      nit: 8\n",
       "     njev: 51\n",
       "   status: 2\n",
       "  success: False\n",
       "        x: array([24138.01667427,  1520.5798618 ])"
      ]
     },
     "execution_count": 14,
     "metadata": {},
     "output_type": "execute_result"
    }
   ],
   "source": [
    "import scipy.optimize as opt\n",
    "\n",
    "solp1 = opt.minimize(Fpob,beta1,args=(MatX1,y,2))\n",
    "solp2 = opt.minimize(Fpob,beta2,args=(MatX2,y,3))\n",
    "solp3 = opt.minimize(Fpob,beta3,args=(MatX3,y,4))\n",
    "solp1"
   ]
  },
  {
   "cell_type": "code",
   "execution_count": 15,
   "metadata": {},
   "outputs": [
    {
     "data": {
      "text/plain": [
       "      fun: 210941621.44585806\n",
       " hess_inv: array([[3.69103247e-07, 2.01676756e-08, 1.00838378e-08],\n",
       "       [2.01676756e-08, 4.26181812e-09, 2.13090906e-09],\n",
       "       [1.00838378e-08, 2.13090906e-09, 1.06545492e-09]])\n",
       "      jac: array([ 0.,  0., -8.])\n",
       "  message: 'Desired error not necessarily achieved due to precision loss.'\n",
       "     nfev: 268\n",
       "      nit: 11\n",
       "     njev: 64\n",
       "   status: 2\n",
       "  success: False\n",
       "        x: array([2.44255897e+04, 1.49402817e+03, 4.02299091e-01])"
      ]
     },
     "execution_count": 15,
     "metadata": {},
     "output_type": "execute_result"
    }
   ],
   "source": [
    "solp2"
   ]
  },
  {
   "cell_type": "code",
   "execution_count": 16,
   "metadata": {},
   "outputs": [
    {
     "data": {
      "text/plain": [
       "      fun: 25240442.641314365\n",
       " hess_inv: array([[ 1.32449326e-06, -8.83726999e-08,  6.01203804e-08,\n",
       "        -9.95391883e-10],\n",
       "       [-8.83726999e-08,  6.26143601e-09, -4.26029198e-09,\n",
       "         7.05252051e-11],\n",
       "       [ 6.01203804e-08, -4.26029198e-09,  2.90002165e-09,\n",
       "        -4.77496651e-11],\n",
       "       [-9.95391883e-10,  7.05252051e-11, -4.77496651e-11,\n",
       "         1.25157123e-12]])\n",
       "      jac: array([  0.,  10.,   8., 724.])\n",
       "  message: 'Desired error not necessarily achieved due to precision loss.'\n",
       "     nfev: 322\n",
       "      nit: 14\n",
       "     njev: 62\n",
       "   status: 2\n",
       "  success: False\n",
       "        x: array([ 2.84776903e+04,  7.27892291e+02,  2.96452839e+01, -2.95383990e-01])"
      ]
     },
     "execution_count": 16,
     "metadata": {},
     "output_type": "execute_result"
    }
   ],
   "source": [
    "solp3"
   ]
  },
  {
   "cell_type": "code",
   "execution_count": 17,
   "metadata": {},
   "outputs": [
    {
     "data": {
      "image/png": "[encoded data removed]",
      "text/plain": [
       "<Figure size 432x288 with 1 Axes>"
      ]
     },
     "metadata": {
      "needs_background": "light"
     },
     "output_type": "display_data"
    }
   ],
   "source": [
    "yp1 = solp1.x[0] + solp1.x[1]*x\n",
    "yp2 = solp2.x[0] + solp2.x[1]*x + solp2.x[2]*x**2\n",
    "yp3 = solp3.x[0] + solp3.x[1]*x + solp3.x[2]*x**2 + solp3.x[3]*x**3\n",
    "\n",
    "plt.figure()\n",
    "plt.scatter(x,Poblacion)\n",
    "plt.plot(x,yp1,\"r\", label = \"1\")\n",
    "plt.plot(x,yp2,\"b\", label = \"2\")\n",
    "plt.plot(x,yp3,\"y\", label = \"3\")\n",
    "plt.legend()\n",
    "plt.grid()"
   ]
  },
  {
   "cell_type": "markdown",
   "metadata": {},
   "source": [
    "### 2. Los nacimientos como variable dependiente $y$. ###"
   ]
  },
  {
   "cell_type": "code",
   "execution_count": 22,
   "metadata": {},
   "outputs": [
    {
     "data": {
      "image/png": "[encoded data removed]",
      "text/plain": [
       "<Figure size 432x288 with 1 Axes>"
      ]
     },
     "metadata": {
      "needs_background": "light"
     },
     "output_type": "display_data"
    }
   ],
   "source": [
    "Nacimientos = np.array(data[\"Nacimientos\"])\n",
    "nm = len(Nacimientos)\n",
    "x = np.linspace(0,nm,nm)\n",
    "\n",
    "plt.figure()\n",
    "plt.scatter(x,Nacimientos)\n",
    "plt.grid()"
   ]
  },
  {
   "cell_type": "code",
   "execution_count": 26,
   "metadata": {},
   "outputs": [
    {
     "data": {
      "text/plain": [
       "array([[1174947],\n",
       "       [1183788],\n",
       "       [1195209],\n",
       "       [1261775],\n",
       "       [1339837],\n",
       "       [1377917],\n",
       "       [1427722],\n",
       "       [1485202],\n",
       "       [1447578],\n",
       "       [1589606],\n",
       "       [1608174],\n",
       "       [1647006],\n",
       "       [1705481],\n",
       "       [1756624],\n",
       "       [1849408],\n",
       "       [1888171],\n",
       "       [1954340],\n",
       "       [1981363],\n",
       "       [2058251],\n",
       "       [2037561],\n",
       "       [2132630],\n",
       "       [2231399],\n",
       "       [2346002],\n",
       "       [2572287],\n",
       "       [2522580],\n",
       "       [2254497],\n",
       "       [2366305],\n",
       "       [2379327],\n",
       "       [2346862],\n",
       "       [2274267],\n",
       "       [2446238],\n",
       "       [2530662],\n",
       "       [2392849],\n",
       "       [2609088],\n",
       "       [2511894],\n",
       "       [2655671],\n",
       "       [2577045],\n",
       "       [2794390],\n",
       "       [2622031],\n",
       "       [2620262],\n",
       "       [2735312],\n",
       "       [2756447],\n",
       "       [2797397],\n",
       "       [2839686],\n",
       "       [2904389],\n",
       "       [2750444],\n",
       "       [2707718],\n",
       "       [2698425],\n",
       "       [2668429],\n",
       "       [2769089],\n",
       "       [2798339],\n",
       "       [2767610],\n",
       "       [2699084],\n",
       "       [2655894],\n",
       "       [2625056],\n",
       "       [2567906],\n",
       "       [2505939],\n",
       "       [2655083],\n",
       "       [2636110],\n",
       "       [2577214],\n",
       "       [2643908],\n",
       "       [2586287],\n",
       "       [2498880],\n",
       "       [2478889],\n",
       "       [2463420],\n",
       "       [2353596]], dtype=int64)"
      ]
     },
     "execution_count": 26,
     "metadata": {},
     "output_type": "execute_result"
    }
   ],
   "source": [
    "#Funcion pob\n",
    "def Fpob(beta, X, y, s):\n",
    "    beta = np.reshape(beta, [s,-1])\n",
    "    pred = X @ beta\n",
    "    pob = (y-pred).T @ (y-pred)\n",
    "    return pob [0][0]\n",
    "\n",
    "# Grados x columna 1\n",
    "ones = np.ones([nm,1])\n",
    "nx1 = np.reshape(x,[nm,-1])\n",
    "nx2 = np.reshape(x**2,[nm,-1])\n",
    "nx3 = np.reshape(x**3,[nm,-1])\n",
    "\n",
    "# matrices de variables x\n",
    "\n",
    "MatnX1 = np.hstack((ones,x1))\n",
    "MatnX2 = np.hstack((ones,x1,x2))\n",
    "MatnX3 = np.hstack((ones,x1,x2,x3))\n",
    "\n",
    "# BETA \n",
    "beta1 = np.random.rand(2)\n",
    "beta2 = np.random.rand(3)\n",
    "beta3 = np.random.rand(4)\n",
    "\n",
    "y = np.reshape(Nacimientos,[nm,-1])\n",
    "y"
   ]
  },
  {
   "cell_type": "code",
   "execution_count": 27,
   "metadata": {},
   "outputs": [
    {
     "name": "stdout",
     "output_type": "stream",
     "text": [
      "Grado 1: 358555380747150.6\n",
      "Grado 2: 358449008884279.2\n",
      "Grado 3: 348148603475068.44\n"
     ]
    }
   ],
   "source": [
    "print(\"Grado 1:\",Fpob(beta1,MatX1,y,2))\n",
    "print(\"Grado 2:\",Fpob(beta2,MatX2,y,3))\n",
    "print(\"Grado 3:\",Fpob(beta3,MatX3,y,4))"
   ]
  },
  {
   "cell_type": "code",
   "execution_count": 28,
   "metadata": {},
   "outputs": [
    {
     "data": {
      "text/plain": [
       "      fun: 4737914698036.844\n",
       " hess_inv: array([[ 5.58122816e-03, -5.32907052e-14],\n",
       "       [-5.32907052e-14,  2.27595720e-15]])\n",
       "      jac: array([      0., -458752.])\n",
       "  message: 'Desired error not necessarily achieved due to precision loss.'\n",
       "     nfev: 216\n",
       "      nit: 6\n",
       "     njev: 69\n",
       "   status: 2\n",
       "  success: False\n",
       "        x: array([1562678.50961027,   21647.63574935])"
      ]
     },
     "execution_count": 28,
     "metadata": {},
     "output_type": "execute_result"
    }
   ],
   "source": [
    "import scipy.optimize as opt\n",
    "\n",
    "soln1 = opt.minimize(Fpob,beta1,args=(MatnX1,y,2))\n",
    "soln2 = opt.minimize(Fpob,beta2,args=(MatnX2,y,3))\n",
    "soln3 = opt.minimize(Fpob,beta3,args=(MatnX3,y,4))\n",
    "soln1"
   ]
  },
  {
   "cell_type": "code",
   "execution_count": 29,
   "metadata": {},
   "outputs": [
    {
     "data": {
      "text/plain": [
       "      fun: 492921063609.9547\n",
       " hess_inv: array([[ 1.16315058e-02,  1.05635322e-06, -4.22621899e-06],\n",
       "       [ 1.05635322e-06,  2.24044394e-10, -8.41947178e-10],\n",
       "       [-4.22621899e-06, -8.41947178e-10,  3.36705502e-09]])\n",
       "      jac: array([    0., 16384., 98304.])\n",
       "  message: 'Desired error not necessarily achieved due to precision loss.'\n",
       "     nfev: 250\n",
       "      nit: 12\n",
       "     njev: 60\n",
       "   status: 2\n",
       "  success: False\n",
       "        x: array([ 1.02111118e+06,  7.16766703e+04, -7.58085866e+02])"
      ]
     },
     "execution_count": 29,
     "metadata": {},
     "output_type": "execute_result"
    }
   ],
   "source": [
    "soln2"
   ]
  },
  {
   "cell_type": "code",
   "execution_count": 30,
   "metadata": {},
   "outputs": [
    {
     "data": {
      "text/plain": [
       "      fun: 441782936007.17725\n",
       " hess_inv: array([[ 1.07258139e-01, -1.20588904e-02,  3.63145547e-04,\n",
       "        -3.17728408e-06],\n",
       "       [-1.20588904e-02,  1.87103768e-03, -6.40790744e-05,\n",
       "         6.01612202e-07],\n",
       "       [ 3.63145547e-04, -6.40790744e-05,  2.34820768e-06,\n",
       "        -2.30040819e-08],\n",
       "       [-3.17728408e-06,  6.01612202e-07, -2.30040819e-08,\n",
       "         2.32022021e-10]])\n",
       "      jac: array([0.0000000e+00, 2.8672000e+04, 1.2492800e+06, 7.0946816e+07])\n",
       "  message: 'Desired error not necessarily achieved due to precision loss.'\n",
       "     nfev: 281\n",
       "      nit: 8\n",
       "     njev: 54\n",
       "   status: 2\n",
       "  success: False\n",
       "        x: array([ 1.08864495e+06,  5.89133292e+04, -2.71104897e+02, -4.91765770e+00])"
      ]
     },
     "execution_count": 30,
     "metadata": {},
     "output_type": "execute_result"
    }
   ],
   "source": [
    "soln3"
   ]
  },
  {
   "cell_type": "code",
   "execution_count": 32,
   "metadata": {},
   "outputs": [
    {
     "data": {
      "image/png": "[encoded data removed]",
      "text/plain": [
       "<Figure size 432x288 with 1 Axes>"
      ]
     },
     "metadata": {
      "needs_background": "light"
     },
     "output_type": "display_data"
    }
   ],
   "source": [
    "yn1 = soln1.x[0] + soln1.x[1]*x\n",
    "yn2 = soln2.x[0] + soln2.x[1]*x + soln2.x[2]*x**2\n",
    "yn3 = soln3.x[0] + soln3.x[1]*x + soln3.x[2]*x**2 + soln3.x[3]*x**3\n",
    "\n",
    "plt.figure()\n",
    "plt.scatter(x,Nacimientos)\n",
    "plt.plot(x,yn1,\"r\", label = \"1\")\n",
    "plt.plot(x,yn2,\"b\", label = \"2\")\n",
    "plt.plot(x,yn3,\"y\", label = \"3\")\n",
    "plt.legend()\n",
    "plt.grid()"
   ]
  },
  {
   "cell_type": "code",
   "execution_count": null,
   "metadata": {},
   "outputs": [],
   "source": []
  },
  {
   "cell_type": "code",
   "execution_count": null,
   "metadata": {},
   "outputs": [],
   "source": []
  }
 ],
 "metadata": {
  "kernelspec": {
   "display_name": "Python 3 (ipykernel)",
   "language": "python",
   "name": "python3"
  },
  "language_info": {
   "codemirror_mode": {
    "name": "ipython",
    "version": 3
   },
   "file_extension": ".py",
   "mimetype": "text/x-python",
   "name": "python",
   "nbconvert_exporter": "python",
   "pygments_lexer": "ipython3",
   "version": "3.9.12"
  }
 },
 "nbformat": 4,
 "nbformat_minor": 2
}
