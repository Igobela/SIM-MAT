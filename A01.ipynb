{
 "cells": [
  {
   "cell_type": "markdown",
   "id": "1de5d4b7",
   "metadata": {},
   "source": [
    "1)"
   ]
  },
  {
   "cell_type": "code",
   "execution_count": 17,
   "id": "812b0f85",
   "metadata": {},
   "outputs": [
    {
     "name": "stdout",
     "output_type": "stream",
     "text": [
      "[1, 3, 6, 9, 12, 15, 18, 21, 24, 27, 30, 33, 36, 39, 42, 45, 48, 51, 54, 57, 60, 63, 66, 69, 72, 75, 78, 81, 84, 87, 90, 93, 96, 99, 102, 105, 108, 111, 114, 117, 120, 123, 126, 129, 132, 135, 138, 141, 144, 147, 150, 153, 156, 159, 162, 165, 168, 171, 174, 177, 180, 183, 186, 189, 192, 195, 198, 201, 204, 207, 210, 213, 216, 219, 222, 225, 228, 231, 234, 237, 240, 243, 246, 249, 252, 255, 258, 261, 264, 267, 270, 273, 276, 279, 282, 285, 288, 291, 294, 297]\n"
     ]
    }
   ],
   "source": [
    "contador = 1\n",
    "a=[contador]\n",
    "while(contador < 100):\n",
    "    a.append(contador*3)\n",
    "    contador = contador +1\n",
    "print(a)"
   ]
  },
  {
   "cell_type": "markdown",
   "id": "8ae1e7b0",
   "metadata": {},
   "source": [
    "2)"
   ]
  },
  {
   "cell_type": "code",
   "execution_count": 18,
   "id": "a23e1f21",
   "metadata": {},
   "outputs": [],
   "source": [
    "import pandas as pd"
   ]
  },
  {
   "cell_type": "code",
   "execution_count": 19,
   "id": "ff279487",
   "metadata": {},
   "outputs": [],
   "source": [
    "data = pd.read_excel(\"datosPE.xlsx\")"
   ]
  },
  {
   "cell_type": "code",
   "execution_count": 20,
   "id": "c358cbee",
   "metadata": {},
   "outputs": [
    {
     "data": {
      "text/html": [
       "<div>\n",
       "<style scoped>\n",
       "    .dataframe tbody tr th:only-of-type {\n",
       "        vertical-align: middle;\n",
       "    }\n",
       "\n",
       "    .dataframe tbody tr th {\n",
       "        vertical-align: top;\n",
       "    }\n",
       "\n",
       "    .dataframe thead th {\n",
       "        text-align: right;\n",
       "    }\n",
       "</style>\n",
       "<table border=\"1\" class=\"dataframe\">\n",
       "  <thead>\n",
       "    <tr style=\"text-align: right;\">\n",
       "      <th></th>\n",
       "      <th>ID Persona</th>\n",
       "      <th>Peso</th>\n",
       "      <th>Estatura</th>\n",
       "    </tr>\n",
       "  </thead>\n",
       "  <tbody>\n",
       "    <tr>\n",
       "      <th>0</th>\n",
       "      <td>1</td>\n",
       "      <td>67</td>\n",
       "      <td>1.41</td>\n",
       "    </tr>\n",
       "    <tr>\n",
       "      <th>1</th>\n",
       "      <td>2</td>\n",
       "      <td>99</td>\n",
       "      <td>1.83</td>\n",
       "    </tr>\n",
       "    <tr>\n",
       "      <th>2</th>\n",
       "      <td>3</td>\n",
       "      <td>86</td>\n",
       "      <td>1.90</td>\n",
       "    </tr>\n",
       "    <tr>\n",
       "      <th>3</th>\n",
       "      <td>4</td>\n",
       "      <td>118</td>\n",
       "      <td>1.65</td>\n",
       "    </tr>\n",
       "    <tr>\n",
       "      <th>4</th>\n",
       "      <td>5</td>\n",
       "      <td>109</td>\n",
       "      <td>1.67</td>\n",
       "    </tr>\n",
       "    <tr>\n",
       "      <th>...</th>\n",
       "      <td>...</td>\n",
       "      <td>...</td>\n",
       "      <td>...</td>\n",
       "    </tr>\n",
       "    <tr>\n",
       "      <th>95</th>\n",
       "      <td>96</td>\n",
       "      <td>88</td>\n",
       "      <td>1.49</td>\n",
       "    </tr>\n",
       "    <tr>\n",
       "      <th>96</th>\n",
       "      <td>97</td>\n",
       "      <td>98</td>\n",
       "      <td>1.54</td>\n",
       "    </tr>\n",
       "    <tr>\n",
       "      <th>97</th>\n",
       "      <td>98</td>\n",
       "      <td>95</td>\n",
       "      <td>1.57</td>\n",
       "    </tr>\n",
       "    <tr>\n",
       "      <th>98</th>\n",
       "      <td>99</td>\n",
       "      <td>61</td>\n",
       "      <td>1.61</td>\n",
       "    </tr>\n",
       "    <tr>\n",
       "      <th>99</th>\n",
       "      <td>100</td>\n",
       "      <td>107</td>\n",
       "      <td>1.62</td>\n",
       "    </tr>\n",
       "  </tbody>\n",
       "</table>\n",
       "<p>100 rows × 3 columns</p>\n",
       "</div>"
      ],
      "text/plain": [
       "    ID Persona  Peso  Estatura\n",
       "0            1    67      1.41\n",
       "1            2    99      1.83\n",
       "2            3    86      1.90\n",
       "3            4   118      1.65\n",
       "4            5   109      1.67\n",
       "..         ...   ...       ...\n",
       "95          96    88      1.49\n",
       "96          97    98      1.54\n",
       "97          98    95      1.57\n",
       "98          99    61      1.61\n",
       "99         100   107      1.62\n",
       "\n",
       "[100 rows x 3 columns]"
      ]
     },
     "execution_count": 20,
     "metadata": {},
     "output_type": "execute_result"
    }
   ],
   "source": [
    "data"
   ]
  },
  {
   "cell_type": "code",
   "execution_count": 22,
   "id": "11d1827a",
   "metadata": {},
   "outputs": [
    {
     "data": {
      "text/plain": [
       "51.52007705737163"
      ]
     },
     "execution_count": 22,
     "metadata": {},
     "output_type": "execute_result"
    }
   ],
   "source": [
    "(data[\"Peso\"].mean())/(data[\"Estatura\"].mean())"
   ]
  },
  {
   "cell_type": "markdown",
   "id": "c5fb7e16",
   "metadata": {},
   "source": [
    "3)"
   ]
  },
  {
   "cell_type": "code",
   "execution_count": 23,
   "id": "dfe8c097",
   "metadata": {},
   "outputs": [],
   "source": [
    "data2 = pd.read_excel(\"datosCT.xlsx\")"
   ]
  },
  {
   "cell_type": "code",
   "execution_count": 24,
   "id": "0881665a",
   "metadata": {},
   "outputs": [
    {
     "data": {
      "text/html": [
       "<div>\n",
       "<style scoped>\n",
       "    .dataframe tbody tr th:only-of-type {\n",
       "        vertical-align: middle;\n",
       "    }\n",
       "\n",
       "    .dataframe tbody tr th {\n",
       "        vertical-align: top;\n",
       "    }\n",
       "\n",
       "    .dataframe thead th {\n",
       "        text-align: right;\n",
       "    }\n",
       "</style>\n",
       "<table border=\"1\" class=\"dataframe\">\n",
       "  <thead>\n",
       "    <tr style=\"text-align: right;\">\n",
       "      <th></th>\n",
       "      <th>Unnamed: 0</th>\n",
       "      <th>Ingreso</th>\n",
       "      <th>Gasto</th>\n",
       "    </tr>\n",
       "  </thead>\n",
       "  <tbody>\n",
       "    <tr>\n",
       "      <th>0</th>\n",
       "      <td>Enero</td>\n",
       "      <td>1340</td>\n",
       "      <td>1880</td>\n",
       "    </tr>\n",
       "    <tr>\n",
       "      <th>1</th>\n",
       "      <td>Febrero</td>\n",
       "      <td>2590</td>\n",
       "      <td>3130</td>\n",
       "    </tr>\n",
       "    <tr>\n",
       "      <th>2</th>\n",
       "      <td>Marzo</td>\n",
       "      <td>3570</td>\n",
       "      <td>2140</td>\n",
       "    </tr>\n",
       "    <tr>\n",
       "      <th>3</th>\n",
       "      <td>Abril</td>\n",
       "      <td>4450</td>\n",
       "      <td>3370</td>\n",
       "    </tr>\n",
       "    <tr>\n",
       "      <th>4</th>\n",
       "      <td>Mayo</td>\n",
       "      <td>1330</td>\n",
       "      <td>2990</td>\n",
       "    </tr>\n",
       "    <tr>\n",
       "      <th>5</th>\n",
       "      <td>Junio</td>\n",
       "      <td>1610</td>\n",
       "      <td>1970</td>\n",
       "    </tr>\n",
       "    <tr>\n",
       "      <th>6</th>\n",
       "      <td>Julio</td>\n",
       "      <td>1500</td>\n",
       "      <td>2230</td>\n",
       "    </tr>\n",
       "    <tr>\n",
       "      <th>7</th>\n",
       "      <td>Agosto</td>\n",
       "      <td>2270</td>\n",
       "      <td>1240</td>\n",
       "    </tr>\n",
       "    <tr>\n",
       "      <th>8</th>\n",
       "      <td>Septiembre</td>\n",
       "      <td>1910</td>\n",
       "      <td>1470</td>\n",
       "    </tr>\n",
       "    <tr>\n",
       "      <th>9</th>\n",
       "      <td>Octubre</td>\n",
       "      <td>2120</td>\n",
       "      <td>2280</td>\n",
       "    </tr>\n",
       "    <tr>\n",
       "      <th>10</th>\n",
       "      <td>Noviembre</td>\n",
       "      <td>3950</td>\n",
       "      <td>1870</td>\n",
       "    </tr>\n",
       "    <tr>\n",
       "      <th>11</th>\n",
       "      <td>Diciembre</td>\n",
       "      <td>1380</td>\n",
       "      <td>3140</td>\n",
       "    </tr>\n",
       "  </tbody>\n",
       "</table>\n",
       "</div>"
      ],
      "text/plain": [
       "    Unnamed: 0  Ingreso  Gasto\n",
       "0        Enero     1340   1880\n",
       "1      Febrero     2590   3130\n",
       "2        Marzo     3570   2140\n",
       "3        Abril     4450   3370\n",
       "4         Mayo     1330   2990\n",
       "5        Junio     1610   1970\n",
       "6        Julio     1500   2230\n",
       "7       Agosto     2270   1240\n",
       "8   Septiembre     1910   1470\n",
       "9      Octubre     2120   2280\n",
       "10   Noviembre     3950   1870\n",
       "11   Diciembre     1380   3140"
      ]
     },
     "execution_count": 24,
     "metadata": {},
     "output_type": "execute_result"
    }
   ],
   "source": [
    "data2"
   ]
  },
  {
   "cell_type": "code",
   "execution_count": 26,
   "id": "cf987677",
   "metadata": {},
   "outputs": [
    {
     "data": {
      "text/plain": [
       "310"
      ]
     },
     "execution_count": 26,
     "metadata": {},
     "output_type": "execute_result"
    }
   ],
   "source": [
    "(data2[\"Ingreso\"].sum())-(data2[\"Gasto\"].sum()) #utilidad"
   ]
  },
  {
   "cell_type": "code",
   "execution_count": 28,
   "id": "9374a2e0",
   "metadata": {},
   "outputs": [
    {
     "data": {
      "text/plain": [
       "28020"
      ]
     },
     "execution_count": 28,
     "metadata": {},
     "output_type": "execute_result"
    }
   ],
   "source": [
    "data2[\"Ingreso\"].sum() #ingresos totales"
   ]
  },
  {
   "cell_type": "code",
   "execution_count": 34,
   "id": "bb13eb9f",
   "metadata": {},
   "outputs": [],
   "source": [
    "data2[\"Utilidades\"]=(data2[\"Ingreso\"])-(data2[\"Gasto\"])"
   ]
  },
  {
   "cell_type": "code",
   "execution_count": 36,
   "id": "76226439",
   "metadata": {
    "scrolled": true
   },
   "outputs": [
    {
     "data": {
      "text/html": [
       "<div>\n",
       "<style scoped>\n",
       "    .dataframe tbody tr th:only-of-type {\n",
       "        vertical-align: middle;\n",
       "    }\n",
       "\n",
       "    .dataframe tbody tr th {\n",
       "        vertical-align: top;\n",
       "    }\n",
       "\n",
       "    .dataframe thead th {\n",
       "        text-align: right;\n",
       "    }\n",
       "</style>\n",
       "<table border=\"1\" class=\"dataframe\">\n",
       "  <thead>\n",
       "    <tr style=\"text-align: right;\">\n",
       "      <th></th>\n",
       "      <th>Unnamed: 0</th>\n",
       "      <th>Ingreso</th>\n",
       "      <th>Gasto</th>\n",
       "      <th>Utilidades</th>\n",
       "    </tr>\n",
       "  </thead>\n",
       "  <tbody>\n",
       "    <tr>\n",
       "      <th>0</th>\n",
       "      <td>Enero</td>\n",
       "      <td>1340</td>\n",
       "      <td>1880</td>\n",
       "      <td>-540</td>\n",
       "    </tr>\n",
       "    <tr>\n",
       "      <th>1</th>\n",
       "      <td>Febrero</td>\n",
       "      <td>2590</td>\n",
       "      <td>3130</td>\n",
       "      <td>-540</td>\n",
       "    </tr>\n",
       "    <tr>\n",
       "      <th>2</th>\n",
       "      <td>Marzo</td>\n",
       "      <td>3570</td>\n",
       "      <td>2140</td>\n",
       "      <td>1430</td>\n",
       "    </tr>\n",
       "    <tr>\n",
       "      <th>3</th>\n",
       "      <td>Abril</td>\n",
       "      <td>4450</td>\n",
       "      <td>3370</td>\n",
       "      <td>1080</td>\n",
       "    </tr>\n",
       "    <tr>\n",
       "      <th>4</th>\n",
       "      <td>Mayo</td>\n",
       "      <td>1330</td>\n",
       "      <td>2990</td>\n",
       "      <td>-1660</td>\n",
       "    </tr>\n",
       "    <tr>\n",
       "      <th>5</th>\n",
       "      <td>Junio</td>\n",
       "      <td>1610</td>\n",
       "      <td>1970</td>\n",
       "      <td>-360</td>\n",
       "    </tr>\n",
       "    <tr>\n",
       "      <th>6</th>\n",
       "      <td>Julio</td>\n",
       "      <td>1500</td>\n",
       "      <td>2230</td>\n",
       "      <td>-730</td>\n",
       "    </tr>\n",
       "    <tr>\n",
       "      <th>7</th>\n",
       "      <td>Agosto</td>\n",
       "      <td>2270</td>\n",
       "      <td>1240</td>\n",
       "      <td>1030</td>\n",
       "    </tr>\n",
       "    <tr>\n",
       "      <th>8</th>\n",
       "      <td>Septiembre</td>\n",
       "      <td>1910</td>\n",
       "      <td>1470</td>\n",
       "      <td>440</td>\n",
       "    </tr>\n",
       "    <tr>\n",
       "      <th>9</th>\n",
       "      <td>Octubre</td>\n",
       "      <td>2120</td>\n",
       "      <td>2280</td>\n",
       "      <td>-160</td>\n",
       "    </tr>\n",
       "    <tr>\n",
       "      <th>10</th>\n",
       "      <td>Noviembre</td>\n",
       "      <td>3950</td>\n",
       "      <td>1870</td>\n",
       "      <td>2080</td>\n",
       "    </tr>\n",
       "    <tr>\n",
       "      <th>11</th>\n",
       "      <td>Diciembre</td>\n",
       "      <td>1380</td>\n",
       "      <td>3140</td>\n",
       "      <td>-1760</td>\n",
       "    </tr>\n",
       "  </tbody>\n",
       "</table>\n",
       "</div>"
      ],
      "text/plain": [
       "    Unnamed: 0  Ingreso  Gasto  Utilidades\n",
       "0        Enero     1340   1880        -540\n",
       "1      Febrero     2590   3130        -540\n",
       "2        Marzo     3570   2140        1430\n",
       "3        Abril     4450   3370        1080\n",
       "4         Mayo     1330   2990       -1660\n",
       "5        Junio     1610   1970        -360\n",
       "6        Julio     1500   2230        -730\n",
       "7       Agosto     2270   1240        1030\n",
       "8   Septiembre     1910   1470         440\n",
       "9      Octubre     2120   2280        -160\n",
       "10   Noviembre     3950   1870        2080\n",
       "11   Diciembre     1380   3140       -1760"
      ]
     },
     "execution_count": 36,
     "metadata": {},
     "output_type": "execute_result"
    }
   ],
   "source": [
    "data2"
   ]
  },
  {
   "cell_type": "code",
   "execution_count": 40,
   "id": "1a49a38a",
   "metadata": {},
   "outputs": [],
   "source": [
    "#preguntar promedio gastos"
   ]
  },
  {
   "cell_type": "code",
   "execution_count": null,
   "id": "f919c366",
   "metadata": {},
   "outputs": [],
   "source": []
  }
 ],
 "metadata": {
  "kernelspec": {
   "display_name": "Python 3 (ipykernel)",
   "language": "python",
   "name": "python3"
  },
  "language_info": {
   "codemirror_mode": {
    "name": "ipython",
    "version": 3
   },
   "file_extension": ".py",
   "mimetype": "text/x-python",
   "name": "python",
   "nbconvert_exporter": "python",
   "pygments_lexer": "ipython3",
   "version": "3.9.12"
  }
 },
 "nbformat": 4,
 "nbformat_minor": 5
}
