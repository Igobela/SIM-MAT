{
 "cells": [
  {
   "cell_type": "markdown",
   "metadata": {},
   "source": [
    "# Análisis de diferentes créditos hipotecários"
   ]
  },
  {
   "cell_type": "markdown",
   "metadata": {},
   "source": [
    "### Integrantes: \n",
    "- Iñigo De Obeso Landeros\n",
    "- Alejandro Frizard Aguilar\n",
    "- Fabiana De La Peña Salazar"
   ]
  },
  {
   "cell_type": "markdown",
   "metadata": {},
   "source": [
    "## Objetivo General\n",
    "\n",
    "- Realizar un programa que permita observar al usuario las diversas opciónes de créditos hipotecarios para determinar cual es la mejor opción. "
   ]
  },
  {
   "cell_type": "markdown",
   "metadata": {},
   "source": [
    "### Objetivos específicos\n",
    "\n",
    "- Crear una tabla de amortización que simule el proceso de pago del crédito en el tiempo.\n",
    "- Obtener gráficas comparativas del pago de interés entre los diferentes bancos.\n",
    "- Realizar un ejemplo utilizando una propiedad existente y determinar cual es el crédito más conveniente.\n",
    "\n",
    "\n"
   ]
  },
  {
   "cell_type": "markdown",
   "metadata": {},
   "source": [
    "## Modelado del programa\n",
    "\n",
    "#### Introducción\n",
    "\n",
    "Los bancos ofrecen créditos hipotecarios con diversas características las cuales lo hacen más o menos atractivos para el mercado. Nosotros consideramos la tasa de interés, el valor mínimo para apertura de línea de crédito mínimo, el valor que cubre con respecto al valor total del inmueble y el plazo máximo de pago que ofrecen. \n",
    "\n",
    "Para ejemplificar el uso del programa creamos una situación ficticia en la cual una persona busca pedir un crédito para una propiedad de 6,500,000 mxn durante un plazo de 20 años con un enganche de 1,000,000 mxn y con pagos adicionales de 10000 mxn.\n"
   ]
  },
  {
   "cell_type": "markdown",
   "metadata": {},
   "source": [
    "Para este ejemplo comparamos 4 créditos hipotecarios de los siguientes bancos en México: \n",
    "\n",
    "1. **BBVA**\n",
    "Tasa del $10.0$% con valor mínimo de $400.000$ mxn, te cubre el $90$% del valor de la casa con un plazo máximo de 20 años.\n",
    "2. **Citibanamex**\n",
    "Tasa del $7.9$% con valor mínimo de $200.000$ mxn, te cubre el $85$% del valor de la casa con un plazo máximo de 20 años.\n",
    "3. **Banorte**\n",
    "Tasa del $8.0$% con valor mínimo de $750.000$ mxn, te cubre el $90$% del valor de la casa con un plazo máximo de 20 años.\n",
    "4. **AFIRME**\n",
    "Tasa del $8.9$% con valor mínimo de $200.000$ mxn, te cubre el $90$% del valor de la casa con un plazo máximo de 20 años.\n",
    "\n",
    "El modelo utiliza una función de amortización que utiliza la tasa de interés anual, el número de años que dura el plazo, el número de pagos en el año, la cantidad que vas a pagar y los abonos extra que podrías hacer.\n",
    "\n",
    "Luego realiza los siguientes pasos:\n",
    "\n",
    "1. Asegura que los pagos adicionales sean negativos\n",
    "2. Crea un indice de las fechas de pago\n",
    "3. Construye un data frame de la amortización\n",
    "4. Añande un índice por periódo\n",
    "5. Calcula el pago tanto del capital principal como de los intereses mediante numpy finance\n",
    "6. Redondea los valores\n",
    "7. Agrega los pagos adicionales\n",
    "8. Almacena los acumulativos de pagos para asegurar que no supere al capital principal original\n",
    "9. Calcula el balance actual para cada periodo\n",
    "10. Determina la última fecha de pago\n",
    "11. Si se tienen pagos adicionales reasigna el valor al data frame\n",
    "12. Elimina los periodos de pagos extra\n",
    "13. Calcula el capital principal para la última columna\n",
    "14. Calcula el total del pago para la última columna\n",
    "15. Reduce a cero el capital principal adicional\n",
    "16. Obtiene la información de pago en un data frame con orden de una columna\n",
    "17. Le da formato al data frame \n",
    "18. Agrega una columna que muestre el pago por periodo y combina los pagos adicionales con los del periodo\n"
   ]
  },
  {
   "cell_type": "code",
   "execution_count": 12,
   "metadata": {
    "scrolled": true
   },
   "outputs": [
    {
     "name": "stdout",
     "output_type": "stream",
     "text": [
      "Collecting numpy-financial\n",
      "  Downloading numpy_financial-1.0.0-py3-none-any.whl (14 kB)\n",
      "Requirement already satisfied: numpy>=1.15 in c:\\users\\usuario\\anaconda3\\lib\\site-packages (from numpy-financial) (1.21.5)\n",
      "Installing collected packages: numpy-financial\n",
      "Successfully installed numpy-financial-1.0.0\n",
      "Note: you may need to restart the kernel to use updated packages.\n"
     ]
    }
   ],
   "source": [
    "pip install numpy-financial"
   ]
  },
  {
   "cell_type": "code",
   "execution_count": 3,
   "metadata": {},
   "outputs": [],
   "source": [
    "import pandas as pd\n",
    "from datetime import date\n",
    "import numpy as np\n",
    "import numpy_financial as npf\n",
    "from collections import OrderedDict\n",
    "from dateutil.relativedelta import *\n",
    "import matplotlib.pyplot as plt\n",
    "import matplotlib\n",
    "%matplotlib inline\n",
    "matplotlib.style.use('ggplot')"
   ]
  },
  {
   "cell_type": "markdown",
   "metadata": {},
   "source": [
    "A continuación, la función para crear **tablas de amortización:**"
   ]
  },
  {
   "cell_type": "code",
   "execution_count": 4,
   "metadata": {},
   "outputs": [],
   "source": [
    "def amortizar(interest_rate, years, payments_year, principal, addl_principal=0, start_date=date.today()):\n",
    "    \n",
    "    # 1\n",
    "    if addl_principal > 0:\n",
    "        addl_principal = -addl_principal\n",
    "    \n",
    "    # 2\n",
    "    rng = pd.date_range(start_date, periods=years * payments_year, freq='MS')\n",
    "    rng.name = \"Payment_Date\"\n",
    "    \n",
    "    # 3\n",
    "    df = pd.DataFrame(index=rng,columns=['Payment', 'Principal', 'Interest', \n",
    "                                         'Addl_Principal', 'Curr_Balance'], dtype='float')\n",
    "    \n",
    "    # 4\n",
    "    df.reset_index(inplace=True)\n",
    "    df.index += 1\n",
    "    df.index.name = \"Period\"\n",
    "    \n",
    "    # 5\n",
    "    per_payment = npf.pmt(interest_rate/payments_year, years*payments_year, principal)\n",
    "    df[\"Payment\"] = per_payment\n",
    "    df[\"Principal\"] = npf.ppmt(interest_rate/payments_year, df.index, years*payments_year, principal)\n",
    "    df[\"Interest\"] = npf.ipmt(interest_rate/payments_year, df.index, years*payments_year, principal)\n",
    "        \n",
    "    # 6\n",
    "    df = df.round(2) \n",
    "    \n",
    "    # 7\n",
    "    df[\"Addl_Principal\"] = addl_principal\n",
    "    \n",
    "    # 8\n",
    "    df[\"Cumulative_Principal\"] = (df[\"Principal\"] + df[\"Addl_Principal\"]).cumsum()\n",
    "    df[\"Cumulative_Principal\"] = df[\"Cumulative_Principal\"].clip(lower=-principal)\n",
    "    \n",
    "    # 9\n",
    "    df[\"Curr_Balance\"] = principal + df[\"Cumulative_Principal\"]\n",
    "    \n",
    "    # 10\n",
    "    try:\n",
    "        last_payment = df.query(\"Curr_Balance <= 0\")[\"Curr_Balance\"].idxmax(axis=1, skipna=True)\n",
    "    except ValueError:\n",
    "        last_payment = df.last_valid_index()\n",
    "    \n",
    "    last_payment_date = \"{:%m-%d-%Y}\".format(df.loc[last_payment, \"Payment_Date\"])\n",
    "        \n",
    "    # 11\n",
    "    if addl_principal != 0:\n",
    "                \n",
    "        # 12\n",
    "        df = df.loc[0:last_payment].copy()\n",
    "        \n",
    "        # 13\n",
    "        df.loc[last_payment, \"Principal\"] = -(df.loc[last_payment-1, \"Curr_Balance\"])\n",
    "        \n",
    "        # 14\n",
    "        df.loc[last_payment, \"Payment\"] = df.loc[last_payment, [\"Principal\", \"Interest\"]].sum()\n",
    "        \n",
    "        # 15\n",
    "        df.loc[last_payment, \"Addl_Principal\"] = 0\n",
    "        \n",
    "    # 16\n",
    "    payment_info = (df[[\"Payment\", \"Principal\", \"Addl_Principal\", \"Interest\"]]\n",
    "                    .sum().to_frame().T)\n",
    "       \n",
    "    # 17\n",
    "    payment_details = pd.DataFrame.from_dict(dict([('payoff_date', [last_payment_date]),\n",
    "                                               ('Interest Rate', [interest_rate]),\n",
    "                                               ('Number of years', [years])\n",
    "                                              ]))\n",
    "    # 18\n",
    "    payment_details[\"Period_Payment\"] = round(per_payment, 2) + addl_principal\n",
    "    \n",
    "    payment_summary = pd.concat([payment_details, payment_info], axis=1)\n",
    "    return df, payment_summary"
   ]
  },
  {
   "cell_type": "markdown",
   "metadata": {},
   "source": [
    "## APLICACIÓN GENERAL Y COMPARATIVA:\n",
    "- En las siguientes celdas mandamos a llamar varias funciones de \"**amortizar**\" para los cuatro créditos hipotecarios mencionados previamente. \n",
    "- Como se puede ver, cada uno tiene su **tasa** respectiva junto con su línea **mínima** de crédito.\n"
   ]
  },
  {
   "cell_type": "code",
   "execution_count": 5,
   "metadata": {},
   "outputs": [],
   "source": [
    "tabla_amort1, data1 = amortizar(0.1, 10, 12, 400000, addl_principal=0)\n",
    "tabla_amort2, data2 = amortizar(0.079, 10, 12, 200000, addl_principal=0)\n",
    "tabla_amort3, data3 = amortizar(0.08, 10, 12, 750000, addl_principal=0)\n",
    "tabla_amort4, data4 = amortizar(0.089, 10, 12, 200000, addl_principal=0)"
   ]
  },
  {
   "cell_type": "markdown",
   "metadata": {},
   "source": [
    "Aquí, se manda a llamar la primera tabla de amortización:"
   ]
  },
  {
   "cell_type": "code",
   "execution_count": 6,
   "metadata": {
    "scrolled": true
   },
   "outputs": [
    {
     "data": {
      "text/html": [
       "<div>\n",
       "<style scoped>\n",
       "    .dataframe tbody tr th:only-of-type {\n",
       "        vertical-align: middle;\n",
       "    }\n",
       "\n",
       "    .dataframe tbody tr th {\n",
       "        vertical-align: top;\n",
       "    }\n",
       "\n",
       "    .dataframe thead th {\n",
       "        text-align: right;\n",
       "    }\n",
       "</style>\n",
       "<table border=\"1\" class=\"dataframe\">\n",
       "  <thead>\n",
       "    <tr style=\"text-align: right;\">\n",
       "      <th></th>\n",
       "      <th>Payment_Date</th>\n",
       "      <th>Payment</th>\n",
       "      <th>Principal</th>\n",
       "      <th>Interest</th>\n",
       "      <th>Addl_Principal</th>\n",
       "      <th>Curr_Balance</th>\n",
       "      <th>Cumulative_Principal</th>\n",
       "    </tr>\n",
       "    <tr>\n",
       "      <th>Period</th>\n",
       "      <th></th>\n",
       "      <th></th>\n",
       "      <th></th>\n",
       "      <th></th>\n",
       "      <th></th>\n",
       "      <th></th>\n",
       "      <th></th>\n",
       "    </tr>\n",
       "  </thead>\n",
       "  <tbody>\n",
       "    <tr>\n",
       "      <th>1</th>\n",
       "      <td>2022-12-01</td>\n",
       "      <td>-5286.03</td>\n",
       "      <td>-1952.70</td>\n",
       "      <td>-3333.33</td>\n",
       "      <td>0</td>\n",
       "      <td>398047.30</td>\n",
       "      <td>-1952.70</td>\n",
       "    </tr>\n",
       "    <tr>\n",
       "      <th>2</th>\n",
       "      <td>2023-01-01</td>\n",
       "      <td>-5286.03</td>\n",
       "      <td>-1968.97</td>\n",
       "      <td>-3317.06</td>\n",
       "      <td>0</td>\n",
       "      <td>396078.33</td>\n",
       "      <td>-3921.67</td>\n",
       "    </tr>\n",
       "    <tr>\n",
       "      <th>3</th>\n",
       "      <td>2023-02-01</td>\n",
       "      <td>-5286.03</td>\n",
       "      <td>-1985.38</td>\n",
       "      <td>-3300.65</td>\n",
       "      <td>0</td>\n",
       "      <td>394092.95</td>\n",
       "      <td>-5907.05</td>\n",
       "    </tr>\n",
       "    <tr>\n",
       "      <th>4</th>\n",
       "      <td>2023-03-01</td>\n",
       "      <td>-5286.03</td>\n",
       "      <td>-2001.92</td>\n",
       "      <td>-3284.11</td>\n",
       "      <td>0</td>\n",
       "      <td>392091.03</td>\n",
       "      <td>-7908.97</td>\n",
       "    </tr>\n",
       "    <tr>\n",
       "      <th>5</th>\n",
       "      <td>2023-04-01</td>\n",
       "      <td>-5286.03</td>\n",
       "      <td>-2018.60</td>\n",
       "      <td>-3267.43</td>\n",
       "      <td>0</td>\n",
       "      <td>390072.43</td>\n",
       "      <td>-9927.57</td>\n",
       "    </tr>\n",
       "    <tr>\n",
       "      <th>...</th>\n",
       "      <td>...</td>\n",
       "      <td>...</td>\n",
       "      <td>...</td>\n",
       "      <td>...</td>\n",
       "      <td>...</td>\n",
       "      <td>...</td>\n",
       "      <td>...</td>\n",
       "    </tr>\n",
       "    <tr>\n",
       "      <th>116</th>\n",
       "      <td>2032-07-01</td>\n",
       "      <td>-5286.03</td>\n",
       "      <td>-5071.18</td>\n",
       "      <td>-214.85</td>\n",
       "      <td>0</td>\n",
       "      <td>20710.82</td>\n",
       "      <td>-379289.18</td>\n",
       "    </tr>\n",
       "    <tr>\n",
       "      <th>117</th>\n",
       "      <td>2032-08-01</td>\n",
       "      <td>-5286.03</td>\n",
       "      <td>-5113.44</td>\n",
       "      <td>-172.59</td>\n",
       "      <td>0</td>\n",
       "      <td>15597.38</td>\n",
       "      <td>-384402.62</td>\n",
       "    </tr>\n",
       "    <tr>\n",
       "      <th>118</th>\n",
       "      <td>2032-09-01</td>\n",
       "      <td>-5286.03</td>\n",
       "      <td>-5156.05</td>\n",
       "      <td>-129.98</td>\n",
       "      <td>0</td>\n",
       "      <td>10441.33</td>\n",
       "      <td>-389558.67</td>\n",
       "    </tr>\n",
       "    <tr>\n",
       "      <th>119</th>\n",
       "      <td>2032-10-01</td>\n",
       "      <td>-5286.03</td>\n",
       "      <td>-5199.02</td>\n",
       "      <td>-87.01</td>\n",
       "      <td>0</td>\n",
       "      <td>5242.31</td>\n",
       "      <td>-394757.69</td>\n",
       "    </tr>\n",
       "    <tr>\n",
       "      <th>120</th>\n",
       "      <td>2032-11-01</td>\n",
       "      <td>-5286.03</td>\n",
       "      <td>-5242.34</td>\n",
       "      <td>-43.69</td>\n",
       "      <td>0</td>\n",
       "      <td>0.00</td>\n",
       "      <td>-400000.00</td>\n",
       "    </tr>\n",
       "  </tbody>\n",
       "</table>\n",
       "<p>120 rows × 7 columns</p>\n",
       "</div>"
      ],
      "text/plain": [
       "       Payment_Date  Payment  Principal  Interest  Addl_Principal  \\\n",
       "Period                                                              \n",
       "1        2022-12-01 -5286.03   -1952.70  -3333.33               0   \n",
       "2        2023-01-01 -5286.03   -1968.97  -3317.06               0   \n",
       "3        2023-02-01 -5286.03   -1985.38  -3300.65               0   \n",
       "4        2023-03-01 -5286.03   -2001.92  -3284.11               0   \n",
       "5        2023-04-01 -5286.03   -2018.60  -3267.43               0   \n",
       "...             ...      ...        ...       ...             ...   \n",
       "116      2032-07-01 -5286.03   -5071.18   -214.85               0   \n",
       "117      2032-08-01 -5286.03   -5113.44   -172.59               0   \n",
       "118      2032-09-01 -5286.03   -5156.05   -129.98               0   \n",
       "119      2032-10-01 -5286.03   -5199.02    -87.01               0   \n",
       "120      2032-11-01 -5286.03   -5242.34    -43.69               0   \n",
       "\n",
       "        Curr_Balance  Cumulative_Principal  \n",
       "Period                                      \n",
       "1          398047.30              -1952.70  \n",
       "2          396078.33              -3921.67  \n",
       "3          394092.95              -5907.05  \n",
       "4          392091.03              -7908.97  \n",
       "5          390072.43              -9927.57  \n",
       "...              ...                   ...  \n",
       "116         20710.82            -379289.18  \n",
       "117         15597.38            -384402.62  \n",
       "118         10441.33            -389558.67  \n",
       "119          5242.31            -394757.69  \n",
       "120             0.00            -400000.00  \n",
       "\n",
       "[120 rows x 7 columns]"
      ]
     },
     "execution_count": 6,
     "metadata": {},
     "output_type": "execute_result"
    }
   ],
   "source": [
    "tabla_amort1"
   ]
  },
  {
   "cell_type": "markdown",
   "metadata": {},
   "source": [
    "### Tabla de amortización general y gráfica comparativa de pagos respecto al tiempo\n",
    "- Como se pudieron dar cuenta, en las celdas de arriba donde se definía \"**tabla_amortN**\" había una segunda variable a donde se guardaban los datos, a esta le denominamos \"**dataN**\".\n",
    "- Consecuentemente, se puede apreciar que cuando se llama a \"**dataN**\" es un resúmen del crédito hipotecario."
   ]
  },
  {
   "cell_type": "code",
   "execution_count": 7,
   "metadata": {
    "scrolled": false
   },
   "outputs": [
    {
     "data": {
      "text/html": [
       "<div>\n",
       "<style scoped>\n",
       "    .dataframe tbody tr th:only-of-type {\n",
       "        vertical-align: middle;\n",
       "    }\n",
       "\n",
       "    .dataframe tbody tr th {\n",
       "        vertical-align: top;\n",
       "    }\n",
       "\n",
       "    .dataframe thead th {\n",
       "        text-align: right;\n",
       "    }\n",
       "</style>\n",
       "<table border=\"1\" class=\"dataframe\">\n",
       "  <thead>\n",
       "    <tr style=\"text-align: right;\">\n",
       "      <th></th>\n",
       "      <th>payoff_date</th>\n",
       "      <th>Interest Rate</th>\n",
       "      <th>Number of years</th>\n",
       "      <th>Period_Payment</th>\n",
       "      <th>Payment</th>\n",
       "      <th>Principal</th>\n",
       "      <th>Addl_Principal</th>\n",
       "      <th>Interest</th>\n",
       "    </tr>\n",
       "  </thead>\n",
       "  <tbody>\n",
       "    <tr>\n",
       "      <th>0</th>\n",
       "      <td>11-01-2032</td>\n",
       "      <td>0.100</td>\n",
       "      <td>10</td>\n",
       "      <td>-5286.03</td>\n",
       "      <td>-634323.6</td>\n",
       "      <td>-400000.03</td>\n",
       "      <td>0.0</td>\n",
       "      <td>-234323.53</td>\n",
       "    </tr>\n",
       "    <tr>\n",
       "      <th>1</th>\n",
       "      <td>11-01-2032</td>\n",
       "      <td>0.079</td>\n",
       "      <td>10</td>\n",
       "      <td>-2416.00</td>\n",
       "      <td>-289920.0</td>\n",
       "      <td>-200000.01</td>\n",
       "      <td>0.0</td>\n",
       "      <td>-89919.60</td>\n",
       "    </tr>\n",
       "    <tr>\n",
       "      <th>2</th>\n",
       "      <td>11-01-2032</td>\n",
       "      <td>0.080</td>\n",
       "      <td>10</td>\n",
       "      <td>-9099.57</td>\n",
       "      <td>-1091948.4</td>\n",
       "      <td>-749999.94</td>\n",
       "      <td>0.0</td>\n",
       "      <td>-341948.39</td>\n",
       "    </tr>\n",
       "    <tr>\n",
       "      <th>3</th>\n",
       "      <td>11-01-2032</td>\n",
       "      <td>0.089</td>\n",
       "      <td>10</td>\n",
       "      <td>-2522.70</td>\n",
       "      <td>-302724.0</td>\n",
       "      <td>-200000.00</td>\n",
       "      <td>0.0</td>\n",
       "      <td>-102724.44</td>\n",
       "    </tr>\n",
       "  </tbody>\n",
       "</table>\n",
       "</div>"
      ],
      "text/plain": [
       "  payoff_date  Interest Rate  Number of years  Period_Payment    Payment  \\\n",
       "0  11-01-2032          0.100               10        -5286.03  -634323.6   \n",
       "1  11-01-2032          0.079               10        -2416.00  -289920.0   \n",
       "2  11-01-2032          0.080               10        -9099.57 -1091948.4   \n",
       "3  11-01-2032          0.089               10        -2522.70  -302724.0   \n",
       "\n",
       "   Principal  Addl_Principal   Interest  \n",
       "0 -400000.03             0.0 -234323.53  \n",
       "1 -200000.01             0.0  -89919.60  \n",
       "2 -749999.94             0.0 -341948.39  \n",
       "3 -200000.00             0.0 -102724.44  "
      ]
     },
     "execution_count": 7,
     "metadata": {},
     "output_type": "execute_result"
    }
   ],
   "source": [
    "pd.concat([data1, data2, data3, data4], ignore_index=True)"
   ]
  },
  {
   "cell_type": "markdown",
   "metadata": {},
   "source": [
    "## GRÁFICAS Y LINEAS DE TIEMPO:\n",
    "- En el siguiente apartado hicimos una gráfica en donde se comparaban los créditos de los distintos bancos y la deuda remanente a través del tiempo."
   ]
  },
  {
   "cell_type": "code",
   "execution_count": 8,
   "metadata": {
    "scrolled": true
   },
   "outputs": [
    {
     "data": {
      "image/png": "[encoded data removed]",
      "text/plain": [
       "<Figure size 432x288 with 1 Axes>"
      ]
     },
     "metadata": {},
     "output_type": "display_data"
    }
   ],
   "source": [
    "fig, ax = plt.subplots(1, 1)\n",
    "tabla_amort1.plot(x='Payment_Date', y='Curr_Balance', label=\"BBVA\", ax=ax)\n",
    "tabla_amort2.plot(x='Payment_Date', y='Curr_Balance', label=\"CITI\", ax=ax)\n",
    "tabla_amort3.plot(x='Payment_Date', y='Curr_Balance', label=\"BANORTE\", ax=ax)\n",
    "tabla_amort4.plot(x='Payment_Date', y='Curr_Balance', label=\"AFIRME\", ax=ax)\n",
    "plt.title(\"Pay Off Timelines\");"
   ]
  },
  {
   "cell_type": "markdown",
   "metadata": {},
   "source": [
    "### ¡OJO! \n",
    "- Observese lo que sucede cuando se agregan pagos adicionales al crédito hipotecario, en este caso $10,000$ mxn adicionales a **BANORTE**."
   ]
  },
  {
   "cell_type": "code",
   "execution_count": 9,
   "metadata": {},
   "outputs": [],
   "source": [
    "tabla_amort1, data1 = amortizar(0.1, 10, 12, 400000, addl_principal=0)\n",
    "tabla_amort2, data2 = amortizar(0.079, 10, 12, 200000, addl_principal=0)\n",
    "tabla_amort3, data3 = amortizar(0.08, 10, 12, 750000, addl_principal=10000)\n",
    "tabla_amort4, data4 = amortizar(0.089, 10, 12, 200000, addl_principal=0)"
   ]
  },
  {
   "cell_type": "code",
   "execution_count": 10,
   "metadata": {},
   "outputs": [
    {
     "data": {
      "image/png": "[encoded data removed]",
      "text/plain": [
       "<Figure size 432x288 with 1 Axes>"
      ]
     },
     "metadata": {},
     "output_type": "display_data"
    }
   ],
   "source": [
    "fig, ax = plt.subplots(1, 1)\n",
    "tabla_amort1.plot(x='Payment_Date', y='Curr_Balance', label=\"BBVA\", ax=ax)\n",
    "tabla_amort2.plot(x='Payment_Date', y='Curr_Balance', label=\"CITI\", ax=ax)\n",
    "tabla_amort3.plot(x='Payment_Date', y='Curr_Balance', label=\"BANORTE\", ax=ax)\n",
    "tabla_amort4.plot(x='Payment_Date', y='Curr_Balance', label=\"AFIRME\", ax=ax)\n",
    "plt.title(\"Pay Off Timelines\");"
   ]
  },
  {
   "cell_type": "markdown",
   "metadata": {},
   "source": [
    "¡El crédito se acaba pagando el **doble** de rápido!"
   ]
  },
  {
   "cell_type": "markdown",
   "metadata": {},
   "source": [
    "# PARA COMPARAR DIFERENTES TASAS DE INTERÉS Y PLAZOS:\n",
    "**OBJETIVO**: Darnos cuenta el monto total que estamos pagando por una línea de crédito de 750 mil mxn.\n",
    "\n",
    "**¿Cómo?:** se comparan las diferentes tasas con el mismo monto, en este caso siendo 750 mil mxn ya que es el minimo de Banorte.\n"
   ]
  },
  {
   "cell_type": "code",
   "execution_count": 11,
   "metadata": {},
   "outputs": [],
   "source": [
    "tabla_amort1, data1 = amortizar(0.1, 20, 12, 750000, addl_principal=0)\n",
    "tabla_amort2, data2 = amortizar(0.079, 20, 12, 750000, addl_principal=0)\n",
    "tabla_amort3, data3 = amortizar(0.08, 20, 12, 750000, addl_principal=0)\n",
    "tabla_amort4, data4 = amortizar(0.089, 20, 12, 750000, addl_principal=0)"
   ]
  },
  {
   "cell_type": "markdown",
   "metadata": {},
   "source": [
    "### Tabla comparativa:\n",
    "- Podemos observar como el crédito de menos convenencia es es **BBVA**:"
   ]
  },
  {
   "cell_type": "code",
   "execution_count": 12,
   "metadata": {},
   "outputs": [
    {
     "data": {
      "text/html": [
       "<div>\n",
       "<style scoped>\n",
       "    .dataframe tbody tr th:only-of-type {\n",
       "        vertical-align: middle;\n",
       "    }\n",
       "\n",
       "    .dataframe tbody tr th {\n",
       "        vertical-align: top;\n",
       "    }\n",
       "\n",
       "    .dataframe thead th {\n",
       "        text-align: right;\n",
       "    }\n",
       "</style>\n",
       "<table border=\"1\" class=\"dataframe\">\n",
       "  <thead>\n",
       "    <tr style=\"text-align: right;\">\n",
       "      <th></th>\n",
       "      <th>payoff_date</th>\n",
       "      <th>Interest Rate</th>\n",
       "      <th>Number of years</th>\n",
       "      <th>Period_Payment</th>\n",
       "      <th>Payment</th>\n",
       "      <th>Principal</th>\n",
       "      <th>Addl_Principal</th>\n",
       "      <th>Interest</th>\n",
       "    </tr>\n",
       "  </thead>\n",
       "  <tbody>\n",
       "    <tr>\n",
       "      <th>0</th>\n",
       "      <td>11-01-2042</td>\n",
       "      <td>0.100</td>\n",
       "      <td>20</td>\n",
       "      <td>-7237.66</td>\n",
       "      <td>-1737038.4</td>\n",
       "      <td>-749999.94</td>\n",
       "      <td>0.0</td>\n",
       "      <td>-987038.98</td>\n",
       "    </tr>\n",
       "    <tr>\n",
       "      <th>1</th>\n",
       "      <td>11-01-2042</td>\n",
       "      <td>0.079</td>\n",
       "      <td>20</td>\n",
       "      <td>-6226.70</td>\n",
       "      <td>-1494408.0</td>\n",
       "      <td>-749999.96</td>\n",
       "      <td>0.0</td>\n",
       "      <td>-744409.02</td>\n",
       "    </tr>\n",
       "    <tr>\n",
       "      <th>2</th>\n",
       "      <td>11-01-2042</td>\n",
       "      <td>0.080</td>\n",
       "      <td>20</td>\n",
       "      <td>-6273.30</td>\n",
       "      <td>-1505592.0</td>\n",
       "      <td>-750000.07</td>\n",
       "      <td>0.0</td>\n",
       "      <td>-755592.05</td>\n",
       "    </tr>\n",
       "    <tr>\n",
       "      <th>3</th>\n",
       "      <td>11-01-2042</td>\n",
       "      <td>0.089</td>\n",
       "      <td>20</td>\n",
       "      <td>-6699.78</td>\n",
       "      <td>-1607947.2</td>\n",
       "      <td>-750000.07</td>\n",
       "      <td>0.0</td>\n",
       "      <td>-857948.38</td>\n",
       "    </tr>\n",
       "  </tbody>\n",
       "</table>\n",
       "</div>"
      ],
      "text/plain": [
       "  payoff_date  Interest Rate  Number of years  Period_Payment    Payment  \\\n",
       "0  11-01-2042          0.100               20        -7237.66 -1737038.4   \n",
       "1  11-01-2042          0.079               20        -6226.70 -1494408.0   \n",
       "2  11-01-2042          0.080               20        -6273.30 -1505592.0   \n",
       "3  11-01-2042          0.089               20        -6699.78 -1607947.2   \n",
       "\n",
       "   Principal  Addl_Principal   Interest  \n",
       "0 -749999.94             0.0 -987038.98  \n",
       "1 -749999.96             0.0 -744409.02  \n",
       "2 -750000.07             0.0 -755592.05  \n",
       "3 -750000.07             0.0 -857948.38  "
      ]
     },
     "execution_count": 12,
     "metadata": {},
     "output_type": "execute_result"
    }
   ],
   "source": [
    "pd.concat([data1, data2, data3, data4], ignore_index=True)"
   ]
  },
  {
   "cell_type": "markdown",
   "metadata": {},
   "source": [
    "### Pago de intereses a lo largo del tiempo por banco:\n",
    "- Las siguientes gráficas nos permiten conocer la cantidad de intereses que pagamos anualmente en un crédito."
   ]
  },
  {
   "cell_type": "code",
   "execution_count": 26,
   "metadata": {
    "scrolled": true
   },
   "outputs": [
    {
     "data": {
      "image/png": "[encoded data removed]",
      "text/plain": [
       "<Figure size 432x288 with 1 Axes>"
      ]
     },
     "metadata": {},
     "output_type": "display_data"
    }
   ],
   "source": [
    "fig, ax = plt.subplots(1, 1)\n",
    "\n",
    "y1_tabla_amort = tabla_amort1.set_index('Payment_Date').resample(\"A\")[\"Interest\"].sum().abs().reset_index()\n",
    "y1_tabla_amort[\"Year\"] = y1_tabla_amort[\"Payment_Date\"].dt.year\n",
    "y1_tabla_amort.plot(kind=\"bar\", x=\"Year\", y=\"Interest\", ax=ax, label=\"20 años a 10%\")\n",
    "\n",
    "plt.title(\"BBVA\");"
   ]
  },
  {
   "cell_type": "code",
   "execution_count": 27,
   "metadata": {},
   "outputs": [
    {
     "data": {
      "image/png": "[encoded data removed]",
      "text/plain": [
       "<Figure size 432x288 with 1 Axes>"
      ]
     },
     "metadata": {},
     "output_type": "display_data"
    }
   ],
   "source": [
    "fig, ax = plt.subplots(1, 1)\n",
    "\n",
    "y2_tabla_amort = tabla_amort2.set_index('Payment_Date').resample(\"A\")[\"Interest\"].sum().abs().reset_index()\n",
    "y2_tabla_amort[\"Year\"] = y2_tabla_amort[\"Payment_Date\"].dt.year\n",
    "y2_tabla_amort.plot(kind=\"bar\", x=\"Year\", y=\"Interest\", ax=ax, label=\"20 años a 7.9%\")\n",
    "\n",
    "plt.title(\"CITI\");"
   ]
  },
  {
   "cell_type": "code",
   "execution_count": 28,
   "metadata": {},
   "outputs": [
    {
     "data": {
      "image/png": "[encoded data removed]",
      "text/plain": [
       "<Figure size 432x288 with 1 Axes>"
      ]
     },
     "metadata": {},
     "output_type": "display_data"
    }
   ],
   "source": [
    "fig, ax = plt.subplots(1, 1)\n",
    "\n",
    "y3_tabla_amort = tabla_amort3.set_index('Payment_Date').resample(\"A\")[\"Interest\"].sum().abs().reset_index()\n",
    "y3_tabla_amort[\"Year\"] = y3_tabla_amort[\"Payment_Date\"].dt.year\n",
    "y3_tabla_amort.plot(kind=\"bar\", x=\"Year\", y=\"Interest\", ax=ax, label=\"20 años a 8%\")\n",
    "\n",
    "plt.title(\"BANORTE\");"
   ]
  },
  {
   "cell_type": "code",
   "execution_count": 29,
   "metadata": {
    "scrolled": false
   },
   "outputs": [
    {
     "data": {
      "image/png": "[encoded data removed]",
      "text/plain": [
       "<Figure size 432x288 with 1 Axes>"
      ]
     },
     "metadata": {},
     "output_type": "display_data"
    }
   ],
   "source": [
    "fig, ax = plt.subplots(1, 1)\n",
    "\n",
    "y4_tabla_amort = tabla_amort4.set_index('Payment_Date').resample(\"A\")[\"Interest\"].sum().abs().reset_index()\n",
    "y4_tabla_amort[\"Year\"] = y4_tabla_amort[\"Payment_Date\"].dt.year\n",
    "y4_tabla_amort.plot(kind=\"bar\", x=\"Year\", y=\"Interest\", ax=ax, label=\"20 años a 8.9%\")\n",
    "\n",
    "plt.title(\"AFIRME\");"
   ]
  },
  {
   "cell_type": "markdown",
   "metadata": {},
   "source": [
    "## Conclusiones :\n",
    "\n",
    "Es importante realizar estas simulaciones para conocer cuales de las opciones del mercado son las más convenientes, cuanto es lo que vamos a terminar pagando por nuestro inmueble y como cambian estos valores si vamos modificando el tiempo en el cual pagaremos nuestro crédito y los pagos adicionales que podemos realizar para reducir el pago de intereses lo más posible."
   ]
  },
  {
   "cell_type": "markdown",
   "metadata": {},
   "source": [
    "## Presentación: \n",
    "- https://www.canva.com/design/DAFTchkVN10/U1SlHBUNn6i7W7WfJVsu7w/view?utm_content=DAFTchkVN10&utm_campaign=designshare&utm_medium=link2&utm_source=sharebutton"
   ]
  },
  {
   "cell_type": "markdown",
   "metadata": {},
   "source": [
    "## Referencias:\n",
    "\n",
    "- Moffitt, Chris. “Building a Financial Model with Pandas - Version&nbsp;2.” Practical Business Python Atom, 19 Dec. 2016, https://pbpython.com/amortization-model-revised.html. \n",
    "- “Top 10 Créditos Hipotecarios (Tasas Diciembre 2022).” HelloSafe, 22 Sept. 2022, https://hellosafe.com.mx/credito-hipotecario. \n",
    "- Vidaurri Aguirre, Héctor Manuel. *Ingeniería económica básica*, ISBN: 978-607-519-017-4. (Disponible en biblioteca)"
   ]
  }
 ],
 "metadata": {
  "kernelspec": {
   "display_name": "Python 3 (ipykernel)",
   "language": "python",
   "name": "python3"
  },
  "language_info": {
   "codemirror_mode": {
    "name": "ipython",
    "version": 3
   },
   "file_extension": ".py",
   "mimetype": "text/x-python",
   "name": "python",
   "nbconvert_exporter": "python",
   "pygments_lexer": "ipython3",
   "version": "3.9.12"
  }
 },
 "nbformat": 4,
 "nbformat_minor": 2
}
